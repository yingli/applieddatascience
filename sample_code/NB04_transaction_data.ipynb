{
 "cells": [
  {
   "cell_type": "markdown",
   "metadata": {},
   "source": [
    "### Import pandas and read in the csv file and set it to a dataframe called baskets"
   ]
  },
  {
   "cell_type": "code",
   "execution_count": 1,
   "metadata": {
    "id": "2eYcfvLr2ahn",
    "pycharm": {
     "name": "#%%\n"
    }
   },
   "outputs": [],
   "source": [
    "import pandas as pd\n",
    "import numpy as np\n",
    "from datetime import datetime, timedelta\n",
    "import matplotlib.pyplot as plt"
   ]
  },
  {
   "cell_type": "markdown",
   "metadata": {},
   "source": [
    "### read in data, make columns for date, year, month, day, hour, weekday, from the \"placed_at\" column "
   ]
  },
  {
   "cell_type": "code",
   "execution_count": 2,
   "metadata": {},
   "outputs": [],
   "source": [
    "filename = './AwanTunai_transaction_data.csv'\n",
    "baskets = pd.read_csv(filename)"
   ]
  },
  {
   "cell_type": "markdown",
   "metadata": {},
   "source": [
    "### Transformations\n",
    " - adding new columns: spent on SKU\n",
    " - transform the string field of \"placed_at\" into various time and date units: year, month, week, date, day of week, etc."
   ]
  },
  {
   "cell_type": "markdown",
   "metadata": {},
   "source": [
    " - adding a column for spent: obtained by multiplying quantity (qty) and price"
   ]
  },
  {
   "cell_type": "code",
   "execution_count": 3,
   "metadata": {},
   "outputs": [],
   "source": [
    "baskets[\"spent\"] = baskets[\"qty\"] * baskets[\"price\"]"
   ]
  },
  {
   "cell_type": "markdown",
   "metadata": {},
   "source": [
    " - convert \"placed_at\" into various time units"
   ]
  },
  {
   "cell_type": "code",
   "execution_count": 4,
   "metadata": {},
   "outputs": [],
   "source": [
    "from datetime import datetime, timedelta\n",
    "\n",
    "baskets['datetime'] = pd.to_datetime(baskets['placed_at'])\n",
    "baskets['year'] = baskets[\"datetime\"].dt.year\n",
    "baskets['month'] = baskets[\"datetime\"].dt.month\n",
    "baskets['date'] = baskets[\"datetime\"].dt.date\n",
    "baskets['day'] = baskets[\"datetime\"].dt.day\n",
    "baskets['hour'] = baskets[\"datetime\"].dt.hour\n",
    "baskets['weekday'] = baskets[\"datetime\"].dt.weekday\n",
    "baskets['year_month'] = baskets[\"datetime\"].apply(lambda t: t.strftime(\"%Y-%m\"))\n",
    "baskets['month_num'] = (baskets['year'] - 2021) * 12 + baskets['month']\n",
    "baskets['year_week'] = baskets[\"datetime\"].apply(lambda t: t.strftime(\"%Y-%W\")) # this makes the beginning of Jan 2022 as week 2022-00 , not 2022-52\n",
    "baskets['week_num'] = baskets[\"datetime\"].apply(lambda t: int(t.strftime(\"%W\"))) \n",
    "baskets['iso_week_num'] = baskets[\"datetime\"].dt.isocalendar().week # this returns week number 52 for Jan 1, 2021, not 0 which is what we want\n",
    "baskets['cum_week_num'] = (baskets['year'] - 2021) * 52 + baskets['week_num']"
   ]
  },
  {
   "cell_type": "code",
   "execution_count": 5,
   "metadata": {},
   "outputs": [
    {
     "data": {
      "text/html": [
       "<div>\n",
       "<style scoped>\n",
       "    .dataframe tbody tr th:only-of-type {\n",
       "        vertical-align: middle;\n",
       "    }\n",
       "\n",
       "    .dataframe tbody tr th {\n",
       "        vertical-align: top;\n",
       "    }\n",
       "\n",
       "    .dataframe thead th {\n",
       "        text-align: right;\n",
       "    }\n",
       "</style>\n",
       "<table border=\"1\" class=\"dataframe\">\n",
       "  <thead>\n",
       "    <tr style=\"text-align: right;\">\n",
       "      <th></th>\n",
       "      <th>id</th>\n",
       "      <th>order_id</th>\n",
       "      <th>placed_at</th>\n",
       "      <th>merchant_id</th>\n",
       "      <th>sku_id</th>\n",
       "      <th>top_cat</th>\n",
       "      <th>sub_cat</th>\n",
       "      <th>qty</th>\n",
       "      <th>price</th>\n",
       "      <th>spent</th>\n",
       "      <th>...</th>\n",
       "      <th>date</th>\n",
       "      <th>day</th>\n",
       "      <th>hour</th>\n",
       "      <th>weekday</th>\n",
       "      <th>year_month</th>\n",
       "      <th>month_num</th>\n",
       "      <th>year_week</th>\n",
       "      <th>week_num</th>\n",
       "      <th>iso_week_num</th>\n",
       "      <th>cum_week_num</th>\n",
       "    </tr>\n",
       "  </thead>\n",
       "  <tbody>\n",
       "    <tr>\n",
       "      <th>0</th>\n",
       "      <td>1</td>\n",
       "      <td>1</td>\n",
       "      <td>2021-06-17 14:00:31.373</td>\n",
       "      <td>9</td>\n",
       "      <td>10</td>\n",
       "      <td>27.0</td>\n",
       "      <td>86.0</td>\n",
       "      <td>2</td>\n",
       "      <td>343000.0</td>\n",
       "      <td>686000.0</td>\n",
       "      <td>...</td>\n",
       "      <td>2021-06-17</td>\n",
       "      <td>17</td>\n",
       "      <td>14</td>\n",
       "      <td>3</td>\n",
       "      <td>2021-06</td>\n",
       "      <td>6</td>\n",
       "      <td>2021-24</td>\n",
       "      <td>24</td>\n",
       "      <td>24</td>\n",
       "      <td>24</td>\n",
       "    </tr>\n",
       "    <tr>\n",
       "      <th>1</th>\n",
       "      <td>2</td>\n",
       "      <td>1</td>\n",
       "      <td>2021-06-17 14:00:31.373</td>\n",
       "      <td>9</td>\n",
       "      <td>6</td>\n",
       "      <td>27.0</td>\n",
       "      <td>86.0</td>\n",
       "      <td>1</td>\n",
       "      <td>159000.0</td>\n",
       "      <td>159000.0</td>\n",
       "      <td>...</td>\n",
       "      <td>2021-06-17</td>\n",
       "      <td>17</td>\n",
       "      <td>14</td>\n",
       "      <td>3</td>\n",
       "      <td>2021-06</td>\n",
       "      <td>6</td>\n",
       "      <td>2021-24</td>\n",
       "      <td>24</td>\n",
       "      <td>24</td>\n",
       "      <td>24</td>\n",
       "    </tr>\n",
       "    <tr>\n",
       "      <th>2</th>\n",
       "      <td>3</td>\n",
       "      <td>1</td>\n",
       "      <td>2021-06-17 14:00:31.373</td>\n",
       "      <td>9</td>\n",
       "      <td>14</td>\n",
       "      <td>27.0</td>\n",
       "      <td>86.0</td>\n",
       "      <td>2</td>\n",
       "      <td>225000.0</td>\n",
       "      <td>450000.0</td>\n",
       "      <td>...</td>\n",
       "      <td>2021-06-17</td>\n",
       "      <td>17</td>\n",
       "      <td>14</td>\n",
       "      <td>3</td>\n",
       "      <td>2021-06</td>\n",
       "      <td>6</td>\n",
       "      <td>2021-24</td>\n",
       "      <td>24</td>\n",
       "      <td>24</td>\n",
       "      <td>24</td>\n",
       "    </tr>\n",
       "    <tr>\n",
       "      <th>3</th>\n",
       "      <td>4</td>\n",
       "      <td>1</td>\n",
       "      <td>2021-06-17 14:00:31.373</td>\n",
       "      <td>9</td>\n",
       "      <td>5</td>\n",
       "      <td>27.0</td>\n",
       "      <td>86.0</td>\n",
       "      <td>1</td>\n",
       "      <td>246000.0</td>\n",
       "      <td>246000.0</td>\n",
       "      <td>...</td>\n",
       "      <td>2021-06-17</td>\n",
       "      <td>17</td>\n",
       "      <td>14</td>\n",
       "      <td>3</td>\n",
       "      <td>2021-06</td>\n",
       "      <td>6</td>\n",
       "      <td>2021-24</td>\n",
       "      <td>24</td>\n",
       "      <td>24</td>\n",
       "      <td>24</td>\n",
       "    </tr>\n",
       "    <tr>\n",
       "      <th>4</th>\n",
       "      <td>5</td>\n",
       "      <td>2</td>\n",
       "      <td>2021-06-17 14:29:31.918</td>\n",
       "      <td>10</td>\n",
       "      <td>15</td>\n",
       "      <td>27.0</td>\n",
       "      <td>86.0</td>\n",
       "      <td>5</td>\n",
       "      <td>19500.0</td>\n",
       "      <td>97500.0</td>\n",
       "      <td>...</td>\n",
       "      <td>2021-06-17</td>\n",
       "      <td>17</td>\n",
       "      <td>14</td>\n",
       "      <td>3</td>\n",
       "      <td>2021-06</td>\n",
       "      <td>6</td>\n",
       "      <td>2021-24</td>\n",
       "      <td>24</td>\n",
       "      <td>24</td>\n",
       "      <td>24</td>\n",
       "    </tr>\n",
       "  </tbody>\n",
       "</table>\n",
       "<p>5 rows × 23 columns</p>\n",
       "</div>"
      ],
      "text/plain": [
       "   id  order_id                placed_at  merchant_id  sku_id  top_cat  \\\n",
       "0   1         1  2021-06-17 14:00:31.373            9      10     27.0   \n",
       "1   2         1  2021-06-17 14:00:31.373            9       6     27.0   \n",
       "2   3         1  2021-06-17 14:00:31.373            9      14     27.0   \n",
       "3   4         1  2021-06-17 14:00:31.373            9       5     27.0   \n",
       "4   5         2  2021-06-17 14:29:31.918           10      15     27.0   \n",
       "\n",
       "   sub_cat  qty     price     spent  ...        date  day  hour weekday  \\\n",
       "0     86.0    2  343000.0  686000.0  ...  2021-06-17   17    14       3   \n",
       "1     86.0    1  159000.0  159000.0  ...  2021-06-17   17    14       3   \n",
       "2     86.0    2  225000.0  450000.0  ...  2021-06-17   17    14       3   \n",
       "3     86.0    1  246000.0  246000.0  ...  2021-06-17   17    14       3   \n",
       "4     86.0    5   19500.0   97500.0  ...  2021-06-17   17    14       3   \n",
       "\n",
       "   year_month  month_num  year_week week_num  iso_week_num cum_week_num  \n",
       "0     2021-06          6    2021-24       24            24           24  \n",
       "1     2021-06          6    2021-24       24            24           24  \n",
       "2     2021-06          6    2021-24       24            24           24  \n",
       "3     2021-06          6    2021-24       24            24           24  \n",
       "4     2021-06          6    2021-24       24            24           24  \n",
       "\n",
       "[5 rows x 23 columns]"
      ]
     },
     "execution_count": 5,
     "metadata": {},
     "output_type": "execute_result"
    }
   ],
   "source": [
    "baskets.head()"
   ]
  },
  {
   "cell_type": "markdown",
   "metadata": {},
   "source": [
    " - inspect the results\n",
    " - usually at the time boundaries: beginning or ending of the time units: beginning of 2022 or end of 2021 and 2022"
   ]
  },
  {
   "cell_type": "markdown",
   "metadata": {},
   "source": [
    " - use of \"query\" syntax"
   ]
  },
  {
   "cell_type": "code",
   "execution_count": 6,
   "metadata": {},
   "outputs": [
    {
     "data": {
      "text/html": [
       "<div>\n",
       "<style scoped>\n",
       "    .dataframe tbody tr th:only-of-type {\n",
       "        vertical-align: middle;\n",
       "    }\n",
       "\n",
       "    .dataframe tbody tr th {\n",
       "        vertical-align: top;\n",
       "    }\n",
       "\n",
       "    .dataframe thead th {\n",
       "        text-align: right;\n",
       "    }\n",
       "</style>\n",
       "<table border=\"1\" class=\"dataframe\">\n",
       "  <thead>\n",
       "    <tr style=\"text-align: right;\">\n",
       "      <th></th>\n",
       "      <th>id</th>\n",
       "      <th>order_id</th>\n",
       "      <th>placed_at</th>\n",
       "      <th>merchant_id</th>\n",
       "      <th>sku_id</th>\n",
       "      <th>top_cat</th>\n",
       "      <th>sub_cat</th>\n",
       "      <th>qty</th>\n",
       "      <th>price</th>\n",
       "      <th>spent</th>\n",
       "      <th>...</th>\n",
       "      <th>date</th>\n",
       "      <th>day</th>\n",
       "      <th>hour</th>\n",
       "      <th>weekday</th>\n",
       "      <th>year_month</th>\n",
       "      <th>month_num</th>\n",
       "      <th>year_week</th>\n",
       "      <th>week_num</th>\n",
       "      <th>iso_week_num</th>\n",
       "      <th>cum_week_num</th>\n",
       "    </tr>\n",
       "  </thead>\n",
       "  <tbody>\n",
       "    <tr>\n",
       "      <th>89862</th>\n",
       "      <td>89864</td>\n",
       "      <td>8568</td>\n",
       "      <td>2021-12-01 00:19:40.609</td>\n",
       "      <td>49</td>\n",
       "      <td>971</td>\n",
       "      <td>27.0</td>\n",
       "      <td>86.0</td>\n",
       "      <td>10</td>\n",
       "      <td>18300.0</td>\n",
       "      <td>183000.0</td>\n",
       "      <td>...</td>\n",
       "      <td>2021-12-01</td>\n",
       "      <td>1</td>\n",
       "      <td>0</td>\n",
       "      <td>2</td>\n",
       "      <td>2021-12</td>\n",
       "      <td>12</td>\n",
       "      <td>2021-48</td>\n",
       "      <td>48</td>\n",
       "      <td>48</td>\n",
       "      <td>48</td>\n",
       "    </tr>\n",
       "    <tr>\n",
       "      <th>89863</th>\n",
       "      <td>89865</td>\n",
       "      <td>8568</td>\n",
       "      <td>2021-12-01 00:19:40.609</td>\n",
       "      <td>49</td>\n",
       "      <td>867</td>\n",
       "      <td>27.0</td>\n",
       "      <td>86.0</td>\n",
       "      <td>1</td>\n",
       "      <td>180500.0</td>\n",
       "      <td>180500.0</td>\n",
       "      <td>...</td>\n",
       "      <td>2021-12-01</td>\n",
       "      <td>1</td>\n",
       "      <td>0</td>\n",
       "      <td>2</td>\n",
       "      <td>2021-12</td>\n",
       "      <td>12</td>\n",
       "      <td>2021-48</td>\n",
       "      <td>48</td>\n",
       "      <td>48</td>\n",
       "      <td>48</td>\n",
       "    </tr>\n",
       "    <tr>\n",
       "      <th>89864</th>\n",
       "      <td>89866</td>\n",
       "      <td>8568</td>\n",
       "      <td>2021-12-01 00:19:40.609</td>\n",
       "      <td>49</td>\n",
       "      <td>1338</td>\n",
       "      <td>27.0</td>\n",
       "      <td>86.0</td>\n",
       "      <td>1</td>\n",
       "      <td>180500.0</td>\n",
       "      <td>180500.0</td>\n",
       "      <td>...</td>\n",
       "      <td>2021-12-01</td>\n",
       "      <td>1</td>\n",
       "      <td>0</td>\n",
       "      <td>2</td>\n",
       "      <td>2021-12</td>\n",
       "      <td>12</td>\n",
       "      <td>2021-48</td>\n",
       "      <td>48</td>\n",
       "      <td>48</td>\n",
       "      <td>48</td>\n",
       "    </tr>\n",
       "    <tr>\n",
       "      <th>89865</th>\n",
       "      <td>89867</td>\n",
       "      <td>8568</td>\n",
       "      <td>2021-12-01 00:19:40.609</td>\n",
       "      <td>49</td>\n",
       "      <td>851</td>\n",
       "      <td>27.0</td>\n",
       "      <td>86.0</td>\n",
       "      <td>5</td>\n",
       "      <td>12900.0</td>\n",
       "      <td>64500.0</td>\n",
       "      <td>...</td>\n",
       "      <td>2021-12-01</td>\n",
       "      <td>1</td>\n",
       "      <td>0</td>\n",
       "      <td>2</td>\n",
       "      <td>2021-12</td>\n",
       "      <td>12</td>\n",
       "      <td>2021-48</td>\n",
       "      <td>48</td>\n",
       "      <td>48</td>\n",
       "      <td>48</td>\n",
       "    </tr>\n",
       "    <tr>\n",
       "      <th>89866</th>\n",
       "      <td>89868</td>\n",
       "      <td>8568</td>\n",
       "      <td>2021-12-01 00:19:40.609</td>\n",
       "      <td>49</td>\n",
       "      <td>1313</td>\n",
       "      <td>27.0</td>\n",
       "      <td>86.0</td>\n",
       "      <td>5</td>\n",
       "      <td>14700.0</td>\n",
       "      <td>73500.0</td>\n",
       "      <td>...</td>\n",
       "      <td>2021-12-01</td>\n",
       "      <td>1</td>\n",
       "      <td>0</td>\n",
       "      <td>2</td>\n",
       "      <td>2021-12</td>\n",
       "      <td>12</td>\n",
       "      <td>2021-48</td>\n",
       "      <td>48</td>\n",
       "      <td>48</td>\n",
       "      <td>48</td>\n",
       "    </tr>\n",
       "    <tr>\n",
       "      <th>...</th>\n",
       "      <td>...</td>\n",
       "      <td>...</td>\n",
       "      <td>...</td>\n",
       "      <td>...</td>\n",
       "      <td>...</td>\n",
       "      <td>...</td>\n",
       "      <td>...</td>\n",
       "      <td>...</td>\n",
       "      <td>...</td>\n",
       "      <td>...</td>\n",
       "      <td>...</td>\n",
       "      <td>...</td>\n",
       "      <td>...</td>\n",
       "      <td>...</td>\n",
       "      <td>...</td>\n",
       "      <td>...</td>\n",
       "      <td>...</td>\n",
       "      <td>...</td>\n",
       "      <td>...</td>\n",
       "      <td>...</td>\n",
       "      <td>...</td>\n",
       "    </tr>\n",
       "    <tr>\n",
       "      <th>118578</th>\n",
       "      <td>118594</td>\n",
       "      <td>11165</td>\n",
       "      <td>2021-12-31 17:51:37.641</td>\n",
       "      <td>38</td>\n",
       "      <td>976</td>\n",
       "      <td>27.0</td>\n",
       "      <td>86.0</td>\n",
       "      <td>5</td>\n",
       "      <td>12200.0</td>\n",
       "      <td>61000.0</td>\n",
       "      <td>...</td>\n",
       "      <td>2021-12-31</td>\n",
       "      <td>31</td>\n",
       "      <td>17</td>\n",
       "      <td>4</td>\n",
       "      <td>2021-12</td>\n",
       "      <td>12</td>\n",
       "      <td>2021-52</td>\n",
       "      <td>52</td>\n",
       "      <td>52</td>\n",
       "      <td>52</td>\n",
       "    </tr>\n",
       "    <tr>\n",
       "      <th>118579</th>\n",
       "      <td>118595</td>\n",
       "      <td>11165</td>\n",
       "      <td>2021-12-31 17:51:37.641</td>\n",
       "      <td>38</td>\n",
       "      <td>979</td>\n",
       "      <td>27.0</td>\n",
       "      <td>86.0</td>\n",
       "      <td>5</td>\n",
       "      <td>20300.0</td>\n",
       "      <td>101500.0</td>\n",
       "      <td>...</td>\n",
       "      <td>2021-12-31</td>\n",
       "      <td>31</td>\n",
       "      <td>17</td>\n",
       "      <td>4</td>\n",
       "      <td>2021-12</td>\n",
       "      <td>12</td>\n",
       "      <td>2021-52</td>\n",
       "      <td>52</td>\n",
       "      <td>52</td>\n",
       "      <td>52</td>\n",
       "    </tr>\n",
       "    <tr>\n",
       "      <th>118580</th>\n",
       "      <td>118596</td>\n",
       "      <td>11165</td>\n",
       "      <td>2021-12-31 17:51:37.641</td>\n",
       "      <td>38</td>\n",
       "      <td>1059</td>\n",
       "      <td>10.0</td>\n",
       "      <td>45.0</td>\n",
       "      <td>1</td>\n",
       "      <td>95000.0</td>\n",
       "      <td>95000.0</td>\n",
       "      <td>...</td>\n",
       "      <td>2021-12-31</td>\n",
       "      <td>31</td>\n",
       "      <td>17</td>\n",
       "      <td>4</td>\n",
       "      <td>2021-12</td>\n",
       "      <td>12</td>\n",
       "      <td>2021-52</td>\n",
       "      <td>52</td>\n",
       "      <td>52</td>\n",
       "      <td>52</td>\n",
       "    </tr>\n",
       "    <tr>\n",
       "      <th>118581</th>\n",
       "      <td>118597</td>\n",
       "      <td>11165</td>\n",
       "      <td>2021-12-31 17:51:37.641</td>\n",
       "      <td>38</td>\n",
       "      <td>660</td>\n",
       "      <td>14.0</td>\n",
       "      <td>34.0</td>\n",
       "      <td>4</td>\n",
       "      <td>10500.0</td>\n",
       "      <td>42000.0</td>\n",
       "      <td>...</td>\n",
       "      <td>2021-12-31</td>\n",
       "      <td>31</td>\n",
       "      <td>17</td>\n",
       "      <td>4</td>\n",
       "      <td>2021-12</td>\n",
       "      <td>12</td>\n",
       "      <td>2021-52</td>\n",
       "      <td>52</td>\n",
       "      <td>52</td>\n",
       "      <td>52</td>\n",
       "    </tr>\n",
       "    <tr>\n",
       "      <th>118582</th>\n",
       "      <td>118598</td>\n",
       "      <td>11165</td>\n",
       "      <td>2021-12-31 17:51:37.641</td>\n",
       "      <td>38</td>\n",
       "      <td>1126</td>\n",
       "      <td>22.0</td>\n",
       "      <td>49.0</td>\n",
       "      <td>2</td>\n",
       "      <td>39000.0</td>\n",
       "      <td>78000.0</td>\n",
       "      <td>...</td>\n",
       "      <td>2021-12-31</td>\n",
       "      <td>31</td>\n",
       "      <td>17</td>\n",
       "      <td>4</td>\n",
       "      <td>2021-12</td>\n",
       "      <td>12</td>\n",
       "      <td>2021-52</td>\n",
       "      <td>52</td>\n",
       "      <td>52</td>\n",
       "      <td>52</td>\n",
       "    </tr>\n",
       "  </tbody>\n",
       "</table>\n",
       "<p>28721 rows × 23 columns</p>\n",
       "</div>"
      ],
      "text/plain": [
       "            id  order_id                placed_at  merchant_id  sku_id  \\\n",
       "89862    89864      8568  2021-12-01 00:19:40.609           49     971   \n",
       "89863    89865      8568  2021-12-01 00:19:40.609           49     867   \n",
       "89864    89866      8568  2021-12-01 00:19:40.609           49    1338   \n",
       "89865    89867      8568  2021-12-01 00:19:40.609           49     851   \n",
       "89866    89868      8568  2021-12-01 00:19:40.609           49    1313   \n",
       "...        ...       ...                      ...          ...     ...   \n",
       "118578  118594     11165  2021-12-31 17:51:37.641           38     976   \n",
       "118579  118595     11165  2021-12-31 17:51:37.641           38     979   \n",
       "118580  118596     11165  2021-12-31 17:51:37.641           38    1059   \n",
       "118581  118597     11165  2021-12-31 17:51:37.641           38     660   \n",
       "118582  118598     11165  2021-12-31 17:51:37.641           38    1126   \n",
       "\n",
       "        top_cat  sub_cat  qty     price     spent  ...        date  day  hour  \\\n",
       "89862      27.0     86.0   10   18300.0  183000.0  ...  2021-12-01    1     0   \n",
       "89863      27.0     86.0    1  180500.0  180500.0  ...  2021-12-01    1     0   \n",
       "89864      27.0     86.0    1  180500.0  180500.0  ...  2021-12-01    1     0   \n",
       "89865      27.0     86.0    5   12900.0   64500.0  ...  2021-12-01    1     0   \n",
       "89866      27.0     86.0    5   14700.0   73500.0  ...  2021-12-01    1     0   \n",
       "...         ...      ...  ...       ...       ...  ...         ...  ...   ...   \n",
       "118578     27.0     86.0    5   12200.0   61000.0  ...  2021-12-31   31    17   \n",
       "118579     27.0     86.0    5   20300.0  101500.0  ...  2021-12-31   31    17   \n",
       "118580     10.0     45.0    1   95000.0   95000.0  ...  2021-12-31   31    17   \n",
       "118581     14.0     34.0    4   10500.0   42000.0  ...  2021-12-31   31    17   \n",
       "118582     22.0     49.0    2   39000.0   78000.0  ...  2021-12-31   31    17   \n",
       "\n",
       "       weekday  year_month  month_num  year_week week_num  iso_week_num  \\\n",
       "89862        2     2021-12         12    2021-48       48            48   \n",
       "89863        2     2021-12         12    2021-48       48            48   \n",
       "89864        2     2021-12         12    2021-48       48            48   \n",
       "89865        2     2021-12         12    2021-48       48            48   \n",
       "89866        2     2021-12         12    2021-48       48            48   \n",
       "...        ...         ...        ...        ...      ...           ...   \n",
       "118578       4     2021-12         12    2021-52       52            52   \n",
       "118579       4     2021-12         12    2021-52       52            52   \n",
       "118580       4     2021-12         12    2021-52       52            52   \n",
       "118581       4     2021-12         12    2021-52       52            52   \n",
       "118582       4     2021-12         12    2021-52       52            52   \n",
       "\n",
       "       cum_week_num  \n",
       "89862            48  \n",
       "89863            48  \n",
       "89864            48  \n",
       "89865            48  \n",
       "89866            48  \n",
       "...             ...  \n",
       "118578           52  \n",
       "118579           52  \n",
       "118580           52  \n",
       "118581           52  \n",
       "118582           52  \n",
       "\n",
       "[28721 rows x 23 columns]"
      ]
     },
     "execution_count": 6,
     "metadata": {},
     "output_type": "execute_result"
    }
   ],
   "source": [
    "baskets.query(\"year_month == '2021-12'\")"
   ]
  },
  {
   "cell_type": "code",
   "execution_count": 7,
   "metadata": {},
   "outputs": [
    {
     "data": {
      "text/html": [
       "<div>\n",
       "<style scoped>\n",
       "    .dataframe tbody tr th:only-of-type {\n",
       "        vertical-align: middle;\n",
       "    }\n",
       "\n",
       "    .dataframe tbody tr th {\n",
       "        vertical-align: top;\n",
       "    }\n",
       "\n",
       "    .dataframe thead th {\n",
       "        text-align: right;\n",
       "    }\n",
       "</style>\n",
       "<table border=\"1\" class=\"dataframe\">\n",
       "  <thead>\n",
       "    <tr style=\"text-align: right;\">\n",
       "      <th></th>\n",
       "      <th>id</th>\n",
       "      <th>order_id</th>\n",
       "      <th>placed_at</th>\n",
       "      <th>merchant_id</th>\n",
       "      <th>sku_id</th>\n",
       "      <th>top_cat</th>\n",
       "      <th>sub_cat</th>\n",
       "      <th>qty</th>\n",
       "      <th>price</th>\n",
       "      <th>spent</th>\n",
       "      <th>...</th>\n",
       "      <th>date</th>\n",
       "      <th>day</th>\n",
       "      <th>hour</th>\n",
       "      <th>weekday</th>\n",
       "      <th>year_month</th>\n",
       "      <th>month_num</th>\n",
       "      <th>year_week</th>\n",
       "      <th>week_num</th>\n",
       "      <th>iso_week_num</th>\n",
       "      <th>cum_week_num</th>\n",
       "    </tr>\n",
       "  </thead>\n",
       "  <tbody>\n",
       "    <tr>\n",
       "      <th>118583</th>\n",
       "      <td>118609</td>\n",
       "      <td>11169</td>\n",
       "      <td>2022-01-02 08:41:25.676</td>\n",
       "      <td>191</td>\n",
       "      <td>899</td>\n",
       "      <td>5.0</td>\n",
       "      <td>86.0</td>\n",
       "      <td>3</td>\n",
       "      <td>31500.0</td>\n",
       "      <td>94500.0</td>\n",
       "      <td>...</td>\n",
       "      <td>2022-01-02</td>\n",
       "      <td>2</td>\n",
       "      <td>8</td>\n",
       "      <td>6</td>\n",
       "      <td>2022-01</td>\n",
       "      <td>13</td>\n",
       "      <td>2022-00</td>\n",
       "      <td>0</td>\n",
       "      <td>52</td>\n",
       "      <td>52</td>\n",
       "    </tr>\n",
       "    <tr>\n",
       "      <th>118584</th>\n",
       "      <td>118610</td>\n",
       "      <td>11169</td>\n",
       "      <td>2022-01-02 08:41:25.676</td>\n",
       "      <td>191</td>\n",
       "      <td>972</td>\n",
       "      <td>27.0</td>\n",
       "      <td>86.0</td>\n",
       "      <td>1</td>\n",
       "      <td>369000.0</td>\n",
       "      <td>369000.0</td>\n",
       "      <td>...</td>\n",
       "      <td>2022-01-02</td>\n",
       "      <td>2</td>\n",
       "      <td>8</td>\n",
       "      <td>6</td>\n",
       "      <td>2022-01</td>\n",
       "      <td>13</td>\n",
       "      <td>2022-00</td>\n",
       "      <td>0</td>\n",
       "      <td>52</td>\n",
       "      <td>52</td>\n",
       "    </tr>\n",
       "    <tr>\n",
       "      <th>118585</th>\n",
       "      <td>118611</td>\n",
       "      <td>11169</td>\n",
       "      <td>2022-01-02 08:41:25.676</td>\n",
       "      <td>191</td>\n",
       "      <td>1217</td>\n",
       "      <td>27.0</td>\n",
       "      <td>86.0</td>\n",
       "      <td>3</td>\n",
       "      <td>30000.0</td>\n",
       "      <td>90000.0</td>\n",
       "      <td>...</td>\n",
       "      <td>2022-01-02</td>\n",
       "      <td>2</td>\n",
       "      <td>8</td>\n",
       "      <td>6</td>\n",
       "      <td>2022-01</td>\n",
       "      <td>13</td>\n",
       "      <td>2022-00</td>\n",
       "      <td>0</td>\n",
       "      <td>52</td>\n",
       "      <td>52</td>\n",
       "    </tr>\n",
       "    <tr>\n",
       "      <th>118586</th>\n",
       "      <td>118612</td>\n",
       "      <td>11169</td>\n",
       "      <td>2022-01-02 08:41:25.676</td>\n",
       "      <td>191</td>\n",
       "      <td>874</td>\n",
       "      <td>27.0</td>\n",
       "      <td>86.0</td>\n",
       "      <td>1</td>\n",
       "      <td>160500.0</td>\n",
       "      <td>160500.0</td>\n",
       "      <td>...</td>\n",
       "      <td>2022-01-02</td>\n",
       "      <td>2</td>\n",
       "      <td>8</td>\n",
       "      <td>6</td>\n",
       "      <td>2022-01</td>\n",
       "      <td>13</td>\n",
       "      <td>2022-00</td>\n",
       "      <td>0</td>\n",
       "      <td>52</td>\n",
       "      <td>52</td>\n",
       "    </tr>\n",
       "    <tr>\n",
       "      <th>118587</th>\n",
       "      <td>118613</td>\n",
       "      <td>11169</td>\n",
       "      <td>2022-01-02 08:41:25.676</td>\n",
       "      <td>191</td>\n",
       "      <td>1504</td>\n",
       "      <td>27.0</td>\n",
       "      <td>86.0</td>\n",
       "      <td>1</td>\n",
       "      <td>239000.0</td>\n",
       "      <td>239000.0</td>\n",
       "      <td>...</td>\n",
       "      <td>2022-01-02</td>\n",
       "      <td>2</td>\n",
       "      <td>8</td>\n",
       "      <td>6</td>\n",
       "      <td>2022-01</td>\n",
       "      <td>13</td>\n",
       "      <td>2022-00</td>\n",
       "      <td>0</td>\n",
       "      <td>52</td>\n",
       "      <td>52</td>\n",
       "    </tr>\n",
       "    <tr>\n",
       "      <th>...</th>\n",
       "      <td>...</td>\n",
       "      <td>...</td>\n",
       "      <td>...</td>\n",
       "      <td>...</td>\n",
       "      <td>...</td>\n",
       "      <td>...</td>\n",
       "      <td>...</td>\n",
       "      <td>...</td>\n",
       "      <td>...</td>\n",
       "      <td>...</td>\n",
       "      <td>...</td>\n",
       "      <td>...</td>\n",
       "      <td>...</td>\n",
       "      <td>...</td>\n",
       "      <td>...</td>\n",
       "      <td>...</td>\n",
       "      <td>...</td>\n",
       "      <td>...</td>\n",
       "      <td>...</td>\n",
       "      <td>...</td>\n",
       "      <td>...</td>\n",
       "    </tr>\n",
       "    <tr>\n",
       "      <th>150123</th>\n",
       "      <td>150131</td>\n",
       "      <td>14163</td>\n",
       "      <td>2022-01-31 17:05:15.920</td>\n",
       "      <td>126</td>\n",
       "      <td>874</td>\n",
       "      <td>27.0</td>\n",
       "      <td>86.0</td>\n",
       "      <td>1</td>\n",
       "      <td>163000.0</td>\n",
       "      <td>163000.0</td>\n",
       "      <td>...</td>\n",
       "      <td>2022-01-31</td>\n",
       "      <td>31</td>\n",
       "      <td>17</td>\n",
       "      <td>0</td>\n",
       "      <td>2022-01</td>\n",
       "      <td>13</td>\n",
       "      <td>2022-05</td>\n",
       "      <td>5</td>\n",
       "      <td>5</td>\n",
       "      <td>57</td>\n",
       "    </tr>\n",
       "    <tr>\n",
       "      <th>150124</th>\n",
       "      <td>150132</td>\n",
       "      <td>14163</td>\n",
       "      <td>2022-01-31 17:05:15.920</td>\n",
       "      <td>126</td>\n",
       "      <td>971</td>\n",
       "      <td>27.0</td>\n",
       "      <td>86.0</td>\n",
       "      <td>10</td>\n",
       "      <td>18700.0</td>\n",
       "      <td>187000.0</td>\n",
       "      <td>...</td>\n",
       "      <td>2022-01-31</td>\n",
       "      <td>31</td>\n",
       "      <td>17</td>\n",
       "      <td>0</td>\n",
       "      <td>2022-01</td>\n",
       "      <td>13</td>\n",
       "      <td>2022-05</td>\n",
       "      <td>5</td>\n",
       "      <td>5</td>\n",
       "      <td>57</td>\n",
       "    </tr>\n",
       "    <tr>\n",
       "      <th>150125</th>\n",
       "      <td>150133</td>\n",
       "      <td>14163</td>\n",
       "      <td>2022-01-31 17:05:15.920</td>\n",
       "      <td>126</td>\n",
       "      <td>992</td>\n",
       "      <td>27.0</td>\n",
       "      <td>86.0</td>\n",
       "      <td>1</td>\n",
       "      <td>250000.0</td>\n",
       "      <td>250000.0</td>\n",
       "      <td>...</td>\n",
       "      <td>2022-01-31</td>\n",
       "      <td>31</td>\n",
       "      <td>17</td>\n",
       "      <td>0</td>\n",
       "      <td>2022-01</td>\n",
       "      <td>13</td>\n",
       "      <td>2022-05</td>\n",
       "      <td>5</td>\n",
       "      <td>5</td>\n",
       "      <td>57</td>\n",
       "    </tr>\n",
       "    <tr>\n",
       "      <th>150126</th>\n",
       "      <td>150134</td>\n",
       "      <td>14163</td>\n",
       "      <td>2022-01-31 17:05:15.920</td>\n",
       "      <td>126</td>\n",
       "      <td>1504</td>\n",
       "      <td>27.0</td>\n",
       "      <td>86.0</td>\n",
       "      <td>1</td>\n",
       "      <td>240500.0</td>\n",
       "      <td>240500.0</td>\n",
       "      <td>...</td>\n",
       "      <td>2022-01-31</td>\n",
       "      <td>31</td>\n",
       "      <td>17</td>\n",
       "      <td>0</td>\n",
       "      <td>2022-01</td>\n",
       "      <td>13</td>\n",
       "      <td>2022-05</td>\n",
       "      <td>5</td>\n",
       "      <td>5</td>\n",
       "      <td>57</td>\n",
       "    </tr>\n",
       "    <tr>\n",
       "      <th>150127</th>\n",
       "      <td>150135</td>\n",
       "      <td>14164</td>\n",
       "      <td>2022-01-31 17:11:46.311</td>\n",
       "      <td>150</td>\n",
       "      <td>1250</td>\n",
       "      <td>12.0</td>\n",
       "      <td>83.0</td>\n",
       "      <td>3</td>\n",
       "      <td>110000.0</td>\n",
       "      <td>330000.0</td>\n",
       "      <td>...</td>\n",
       "      <td>2022-01-31</td>\n",
       "      <td>31</td>\n",
       "      <td>17</td>\n",
       "      <td>0</td>\n",
       "      <td>2022-01</td>\n",
       "      <td>13</td>\n",
       "      <td>2022-05</td>\n",
       "      <td>5</td>\n",
       "      <td>5</td>\n",
       "      <td>57</td>\n",
       "    </tr>\n",
       "  </tbody>\n",
       "</table>\n",
       "<p>31545 rows × 23 columns</p>\n",
       "</div>"
      ],
      "text/plain": [
       "            id  order_id                placed_at  merchant_id  sku_id  \\\n",
       "118583  118609     11169  2022-01-02 08:41:25.676          191     899   \n",
       "118584  118610     11169  2022-01-02 08:41:25.676          191     972   \n",
       "118585  118611     11169  2022-01-02 08:41:25.676          191    1217   \n",
       "118586  118612     11169  2022-01-02 08:41:25.676          191     874   \n",
       "118587  118613     11169  2022-01-02 08:41:25.676          191    1504   \n",
       "...        ...       ...                      ...          ...     ...   \n",
       "150123  150131     14163  2022-01-31 17:05:15.920          126     874   \n",
       "150124  150132     14163  2022-01-31 17:05:15.920          126     971   \n",
       "150125  150133     14163  2022-01-31 17:05:15.920          126     992   \n",
       "150126  150134     14163  2022-01-31 17:05:15.920          126    1504   \n",
       "150127  150135     14164  2022-01-31 17:11:46.311          150    1250   \n",
       "\n",
       "        top_cat  sub_cat  qty     price     spent  ...        date  day  hour  \\\n",
       "118583      5.0     86.0    3   31500.0   94500.0  ...  2022-01-02    2     8   \n",
       "118584     27.0     86.0    1  369000.0  369000.0  ...  2022-01-02    2     8   \n",
       "118585     27.0     86.0    3   30000.0   90000.0  ...  2022-01-02    2     8   \n",
       "118586     27.0     86.0    1  160500.0  160500.0  ...  2022-01-02    2     8   \n",
       "118587     27.0     86.0    1  239000.0  239000.0  ...  2022-01-02    2     8   \n",
       "...         ...      ...  ...       ...       ...  ...         ...  ...   ...   \n",
       "150123     27.0     86.0    1  163000.0  163000.0  ...  2022-01-31   31    17   \n",
       "150124     27.0     86.0   10   18700.0  187000.0  ...  2022-01-31   31    17   \n",
       "150125     27.0     86.0    1  250000.0  250000.0  ...  2022-01-31   31    17   \n",
       "150126     27.0     86.0    1  240500.0  240500.0  ...  2022-01-31   31    17   \n",
       "150127     12.0     83.0    3  110000.0  330000.0  ...  2022-01-31   31    17   \n",
       "\n",
       "       weekday  year_month  month_num  year_week week_num  iso_week_num  \\\n",
       "118583       6     2022-01         13    2022-00        0            52   \n",
       "118584       6     2022-01         13    2022-00        0            52   \n",
       "118585       6     2022-01         13    2022-00        0            52   \n",
       "118586       6     2022-01         13    2022-00        0            52   \n",
       "118587       6     2022-01         13    2022-00        0            52   \n",
       "...        ...         ...        ...        ...      ...           ...   \n",
       "150123       0     2022-01         13    2022-05        5             5   \n",
       "150124       0     2022-01         13    2022-05        5             5   \n",
       "150125       0     2022-01         13    2022-05        5             5   \n",
       "150126       0     2022-01         13    2022-05        5             5   \n",
       "150127       0     2022-01         13    2022-05        5             5   \n",
       "\n",
       "       cum_week_num  \n",
       "118583           52  \n",
       "118584           52  \n",
       "118585           52  \n",
       "118586           52  \n",
       "118587           52  \n",
       "...             ...  \n",
       "150123           57  \n",
       "150124           57  \n",
       "150125           57  \n",
       "150126           57  \n",
       "150127           57  \n",
       "\n",
       "[31545 rows x 23 columns]"
      ]
     },
     "execution_count": 7,
     "metadata": {},
     "output_type": "execute_result"
    }
   ],
   "source": [
    "baskets.query(\"year_month == '2022-01'\")"
   ]
  },
  {
   "cell_type": "markdown",
   "metadata": {},
   "source": [
    " - simple functions\n",
    " - count of frequency\n",
    " - get the median"
   ]
  },
  {
   "cell_type": "code",
   "execution_count": 8,
   "metadata": {},
   "outputs": [
    {
     "name": "stdout",
     "output_type": "stream",
     "text": [
      "191    128856\n",
      "11      28605\n",
      "59      10496\n",
      "133      6907\n",
      "52       6885\n",
      "        ...  \n",
      "186         6\n",
      "305         3\n",
      "225         2\n",
      "8           1\n",
      "7           1\n",
      "Name: merchant_id, Length: 357, dtype: int64\n"
     ]
    }
   ],
   "source": [
    "freq = baskets['merchant_id'].value_counts()\n",
    "print(freq)"
   ]
  },
  {
   "cell_type": "code",
   "execution_count": 9,
   "metadata": {},
   "outputs": [
    {
     "data": {
      "text/plain": [
       "76500.0"
      ]
     },
     "execution_count": 9,
     "metadata": {},
     "output_type": "execute_result"
    }
   ],
   "source": [
    "baskets.price.median()"
   ]
  },
  {
   "cell_type": "markdown",
   "metadata": {},
   "source": [
    "### Study of merchants\n",
    " - how many merchants?\n",
    "  - by each year\n",
    "  - by each month\n",
    "  - by each weekday\n",
    " - how often did they buy?\n",
    "  - how many times did they buy\n",
    "  - how many months did they buy?\n",
    "\n",
    " - what did they buy?\n",
    "   - their unique SKU\n",
    "   - their top SKU\n",
    " - how much did they spend?"
   ]
  },
  {
   "cell_type": "code",
   "execution_count": 10,
   "metadata": {},
   "outputs": [],
   "source": [
    "### how many merchants"
   ]
  },
  {
   "cell_type": "code",
   "execution_count": 11,
   "metadata": {},
   "outputs": [
    {
     "data": {
      "text/html": [
       "<div>\n",
       "<style scoped>\n",
       "    .dataframe tbody tr th:only-of-type {\n",
       "        vertical-align: middle;\n",
       "    }\n",
       "\n",
       "    .dataframe tbody tr th {\n",
       "        vertical-align: top;\n",
       "    }\n",
       "\n",
       "    .dataframe thead th {\n",
       "        text-align: right;\n",
       "    }\n",
       "</style>\n",
       "<table border=\"1\" class=\"dataframe\">\n",
       "  <thead>\n",
       "    <tr style=\"text-align: right;\">\n",
       "      <th></th>\n",
       "      <th>id</th>\n",
       "      <th>order_id</th>\n",
       "      <th>placed_at</th>\n",
       "      <th>merchant_id</th>\n",
       "      <th>sku_id</th>\n",
       "      <th>top_cat</th>\n",
       "      <th>sub_cat</th>\n",
       "      <th>qty</th>\n",
       "      <th>price</th>\n",
       "      <th>spent</th>\n",
       "      <th>...</th>\n",
       "      <th>date</th>\n",
       "      <th>day</th>\n",
       "      <th>hour</th>\n",
       "      <th>weekday</th>\n",
       "      <th>year_month</th>\n",
       "      <th>month_num</th>\n",
       "      <th>year_week</th>\n",
       "      <th>week_num</th>\n",
       "      <th>iso_week_num</th>\n",
       "      <th>cum_week_num</th>\n",
       "    </tr>\n",
       "    <tr>\n",
       "      <th>year</th>\n",
       "      <th></th>\n",
       "      <th></th>\n",
       "      <th></th>\n",
       "      <th></th>\n",
       "      <th></th>\n",
       "      <th></th>\n",
       "      <th></th>\n",
       "      <th></th>\n",
       "      <th></th>\n",
       "      <th></th>\n",
       "      <th></th>\n",
       "      <th></th>\n",
       "      <th></th>\n",
       "      <th></th>\n",
       "      <th></th>\n",
       "      <th></th>\n",
       "      <th></th>\n",
       "      <th></th>\n",
       "      <th></th>\n",
       "      <th></th>\n",
       "      <th></th>\n",
       "    </tr>\n",
       "  </thead>\n",
       "  <tbody>\n",
       "    <tr>\n",
       "      <th>2021</th>\n",
       "      <td>118583</td>\n",
       "      <td>11152</td>\n",
       "      <td>11149</td>\n",
       "      <td>238</td>\n",
       "      <td>1710</td>\n",
       "      <td>35</td>\n",
       "      <td>105</td>\n",
       "      <td>88</td>\n",
       "      <td>939</td>\n",
       "      <td>1741</td>\n",
       "      <td>...</td>\n",
       "      <td>188</td>\n",
       "      <td>31</td>\n",
       "      <td>20</td>\n",
       "      <td>7</td>\n",
       "      <td>7</td>\n",
       "      <td>7</td>\n",
       "      <td>29</td>\n",
       "      <td>29</td>\n",
       "      <td>29</td>\n",
       "      <td>29</td>\n",
       "    </tr>\n",
       "    <tr>\n",
       "      <th>2022</th>\n",
       "      <td>373854</td>\n",
       "      <td>42286</td>\n",
       "      <td>42285</td>\n",
       "      <td>333</td>\n",
       "      <td>1192</td>\n",
       "      <td>32</td>\n",
       "      <td>93</td>\n",
       "      <td>56</td>\n",
       "      <td>1236</td>\n",
       "      <td>2895</td>\n",
       "      <td>...</td>\n",
       "      <td>356</td>\n",
       "      <td>31</td>\n",
       "      <td>24</td>\n",
       "      <td>7</td>\n",
       "      <td>12</td>\n",
       "      <td>12</td>\n",
       "      <td>53</td>\n",
       "      <td>53</td>\n",
       "      <td>52</td>\n",
       "      <td>53</td>\n",
       "    </tr>\n",
       "  </tbody>\n",
       "</table>\n",
       "<p>2 rows × 22 columns</p>\n",
       "</div>"
      ],
      "text/plain": [
       "          id  order_id  placed_at  merchant_id  sku_id  top_cat  sub_cat  qty  \\\n",
       "year                                                                            \n",
       "2021  118583     11152      11149          238    1710       35      105   88   \n",
       "2022  373854     42286      42285          333    1192       32       93   56   \n",
       "\n",
       "      price  spent  ...  date  day  hour  weekday  year_month  month_num  \\\n",
       "year                ...                                                    \n",
       "2021    939   1741  ...   188   31    20        7           7          7   \n",
       "2022   1236   2895  ...   356   31    24        7          12         12   \n",
       "\n",
       "      year_week  week_num  iso_week_num  cum_week_num  \n",
       "year                                                   \n",
       "2021         29        29            29            29  \n",
       "2022         53        53            52            53  \n",
       "\n",
       "[2 rows x 22 columns]"
      ]
     },
     "execution_count": 11,
     "metadata": {},
     "output_type": "execute_result"
    }
   ],
   "source": [
    "baskets.groupby(['year']).nunique()"
   ]
  },
  {
   "cell_type": "markdown",
   "metadata": {},
   "source": [
    " - number of merchants by month"
   ]
  },
  {
   "cell_type": "code",
   "execution_count": 12,
   "metadata": {},
   "outputs": [
    {
     "data": {
      "text/html": [
       "<div>\n",
       "<style scoped>\n",
       "    .dataframe tbody tr th:only-of-type {\n",
       "        vertical-align: middle;\n",
       "    }\n",
       "\n",
       "    .dataframe tbody tr th {\n",
       "        vertical-align: top;\n",
       "    }\n",
       "\n",
       "    .dataframe thead th {\n",
       "        text-align: right;\n",
       "    }\n",
       "</style>\n",
       "<table border=\"1\" class=\"dataframe\">\n",
       "  <thead>\n",
       "    <tr style=\"text-align: right;\">\n",
       "      <th></th>\n",
       "      <th>id</th>\n",
       "      <th>order_id</th>\n",
       "      <th>placed_at</th>\n",
       "      <th>merchant_id</th>\n",
       "      <th>sku_id</th>\n",
       "      <th>top_cat</th>\n",
       "      <th>sub_cat</th>\n",
       "      <th>qty</th>\n",
       "      <th>price</th>\n",
       "      <th>spent</th>\n",
       "      <th>...</th>\n",
       "      <th>month</th>\n",
       "      <th>date</th>\n",
       "      <th>day</th>\n",
       "      <th>hour</th>\n",
       "      <th>weekday</th>\n",
       "      <th>month_num</th>\n",
       "      <th>year_week</th>\n",
       "      <th>week_num</th>\n",
       "      <th>iso_week_num</th>\n",
       "      <th>cum_week_num</th>\n",
       "    </tr>\n",
       "    <tr>\n",
       "      <th>year_month</th>\n",
       "      <th></th>\n",
       "      <th></th>\n",
       "      <th></th>\n",
       "      <th></th>\n",
       "      <th></th>\n",
       "      <th></th>\n",
       "      <th></th>\n",
       "      <th></th>\n",
       "      <th></th>\n",
       "      <th></th>\n",
       "      <th></th>\n",
       "      <th></th>\n",
       "      <th></th>\n",
       "      <th></th>\n",
       "      <th></th>\n",
       "      <th></th>\n",
       "      <th></th>\n",
       "      <th></th>\n",
       "      <th></th>\n",
       "      <th></th>\n",
       "      <th></th>\n",
       "    </tr>\n",
       "  </thead>\n",
       "  <tbody>\n",
       "    <tr>\n",
       "      <th>2021-06</th>\n",
       "      <td>2888</td>\n",
       "      <td>338</td>\n",
       "      <td>338</td>\n",
       "      <td>14</td>\n",
       "      <td>458</td>\n",
       "      <td>31</td>\n",
       "      <td>70</td>\n",
       "      <td>44</td>\n",
       "      <td>339</td>\n",
       "      <td>524</td>\n",
       "      <td>...</td>\n",
       "      <td>1</td>\n",
       "      <td>8</td>\n",
       "      <td>8</td>\n",
       "      <td>11</td>\n",
       "      <td>5</td>\n",
       "      <td>1</td>\n",
       "      <td>3</td>\n",
       "      <td>3</td>\n",
       "      <td>3</td>\n",
       "      <td>3</td>\n",
       "    </tr>\n",
       "    <tr>\n",
       "      <th>2021-07</th>\n",
       "      <td>10494</td>\n",
       "      <td>1056</td>\n",
       "      <td>1056</td>\n",
       "      <td>11</td>\n",
       "      <td>558</td>\n",
       "      <td>33</td>\n",
       "      <td>78</td>\n",
       "      <td>48</td>\n",
       "      <td>408</td>\n",
       "      <td>714</td>\n",
       "      <td>...</td>\n",
       "      <td>1</td>\n",
       "      <td>29</td>\n",
       "      <td>29</td>\n",
       "      <td>12</td>\n",
       "      <td>7</td>\n",
       "      <td>1</td>\n",
       "      <td>5</td>\n",
       "      <td>5</td>\n",
       "      <td>5</td>\n",
       "      <td>5</td>\n",
       "    </tr>\n",
       "    <tr>\n",
       "      <th>2021-08</th>\n",
       "      <td>7681</td>\n",
       "      <td>843</td>\n",
       "      <td>843</td>\n",
       "      <td>3</td>\n",
       "      <td>534</td>\n",
       "      <td>32</td>\n",
       "      <td>75</td>\n",
       "      <td>51</td>\n",
       "      <td>342</td>\n",
       "      <td>624</td>\n",
       "      <td>...</td>\n",
       "      <td>1</td>\n",
       "      <td>30</td>\n",
       "      <td>30</td>\n",
       "      <td>11</td>\n",
       "      <td>7</td>\n",
       "      <td>1</td>\n",
       "      <td>6</td>\n",
       "      <td>6</td>\n",
       "      <td>6</td>\n",
       "      <td>6</td>\n",
       "    </tr>\n",
       "    <tr>\n",
       "      <th>2021-09</th>\n",
       "      <td>9136</td>\n",
       "      <td>1063</td>\n",
       "      <td>1063</td>\n",
       "      <td>48</td>\n",
       "      <td>548</td>\n",
       "      <td>33</td>\n",
       "      <td>75</td>\n",
       "      <td>48</td>\n",
       "      <td>379</td>\n",
       "      <td>670</td>\n",
       "      <td>...</td>\n",
       "      <td>1</td>\n",
       "      <td>30</td>\n",
       "      <td>30</td>\n",
       "      <td>11</td>\n",
       "      <td>7</td>\n",
       "      <td>1</td>\n",
       "      <td>5</td>\n",
       "      <td>5</td>\n",
       "      <td>5</td>\n",
       "      <td>5</td>\n",
       "    </tr>\n",
       "    <tr>\n",
       "      <th>2021-10</th>\n",
       "      <td>31897</td>\n",
       "      <td>2907</td>\n",
       "      <td>2904</td>\n",
       "      <td>196</td>\n",
       "      <td>1480</td>\n",
       "      <td>35</td>\n",
       "      <td>103</td>\n",
       "      <td>69</td>\n",
       "      <td>580</td>\n",
       "      <td>878</td>\n",
       "      <td>...</td>\n",
       "      <td>1</td>\n",
       "      <td>30</td>\n",
       "      <td>30</td>\n",
       "      <td>16</td>\n",
       "      <td>7</td>\n",
       "      <td>1</td>\n",
       "      <td>5</td>\n",
       "      <td>5</td>\n",
       "      <td>5</td>\n",
       "      <td>5</td>\n",
       "    </tr>\n",
       "    <tr>\n",
       "      <th>2021-11</th>\n",
       "      <td>27766</td>\n",
       "      <td>2429</td>\n",
       "      <td>2429</td>\n",
       "      <td>182</td>\n",
       "      <td>971</td>\n",
       "      <td>32</td>\n",
       "      <td>89</td>\n",
       "      <td>31</td>\n",
       "      <td>402</td>\n",
       "      <td>851</td>\n",
       "      <td>...</td>\n",
       "      <td>1</td>\n",
       "      <td>30</td>\n",
       "      <td>30</td>\n",
       "      <td>19</td>\n",
       "      <td>7</td>\n",
       "      <td>1</td>\n",
       "      <td>5</td>\n",
       "      <td>5</td>\n",
       "      <td>5</td>\n",
       "      <td>5</td>\n",
       "    </tr>\n",
       "    <tr>\n",
       "      <th>2021-12</th>\n",
       "      <td>28721</td>\n",
       "      <td>2516</td>\n",
       "      <td>2516</td>\n",
       "      <td>185</td>\n",
       "      <td>959</td>\n",
       "      <td>32</td>\n",
       "      <td>88</td>\n",
       "      <td>36</td>\n",
       "      <td>505</td>\n",
       "      <td>1084</td>\n",
       "      <td>...</td>\n",
       "      <td>1</td>\n",
       "      <td>31</td>\n",
       "      <td>31</td>\n",
       "      <td>19</td>\n",
       "      <td>7</td>\n",
       "      <td>1</td>\n",
       "      <td>5</td>\n",
       "      <td>5</td>\n",
       "      <td>5</td>\n",
       "      <td>5</td>\n",
       "    </tr>\n",
       "    <tr>\n",
       "      <th>2022-01</th>\n",
       "      <td>31545</td>\n",
       "      <td>2994</td>\n",
       "      <td>2994</td>\n",
       "      <td>205</td>\n",
       "      <td>993</td>\n",
       "      <td>32</td>\n",
       "      <td>89</td>\n",
       "      <td>31</td>\n",
       "      <td>550</td>\n",
       "      <td>1153</td>\n",
       "      <td>...</td>\n",
       "      <td>1</td>\n",
       "      <td>30</td>\n",
       "      <td>30</td>\n",
       "      <td>21</td>\n",
       "      <td>7</td>\n",
       "      <td>1</td>\n",
       "      <td>6</td>\n",
       "      <td>6</td>\n",
       "      <td>6</td>\n",
       "      <td>6</td>\n",
       "    </tr>\n",
       "    <tr>\n",
       "      <th>2022-02</th>\n",
       "      <td>27985</td>\n",
       "      <td>2824</td>\n",
       "      <td>2824</td>\n",
       "      <td>206</td>\n",
       "      <td>975</td>\n",
       "      <td>32</td>\n",
       "      <td>88</td>\n",
       "      <td>30</td>\n",
       "      <td>491</td>\n",
       "      <td>1029</td>\n",
       "      <td>...</td>\n",
       "      <td>1</td>\n",
       "      <td>27</td>\n",
       "      <td>27</td>\n",
       "      <td>20</td>\n",
       "      <td>7</td>\n",
       "      <td>1</td>\n",
       "      <td>5</td>\n",
       "      <td>5</td>\n",
       "      <td>5</td>\n",
       "      <td>5</td>\n",
       "    </tr>\n",
       "    <tr>\n",
       "      <th>2022-03</th>\n",
       "      <td>32107</td>\n",
       "      <td>3495</td>\n",
       "      <td>3494</td>\n",
       "      <td>202</td>\n",
       "      <td>954</td>\n",
       "      <td>32</td>\n",
       "      <td>87</td>\n",
       "      <td>35</td>\n",
       "      <td>508</td>\n",
       "      <td>1109</td>\n",
       "      <td>...</td>\n",
       "      <td>1</td>\n",
       "      <td>31</td>\n",
       "      <td>31</td>\n",
       "      <td>20</td>\n",
       "      <td>7</td>\n",
       "      <td>1</td>\n",
       "      <td>5</td>\n",
       "      <td>5</td>\n",
       "      <td>5</td>\n",
       "      <td>5</td>\n",
       "    </tr>\n",
       "    <tr>\n",
       "      <th>2022-04</th>\n",
       "      <td>29159</td>\n",
       "      <td>3081</td>\n",
       "      <td>3081</td>\n",
       "      <td>197</td>\n",
       "      <td>952</td>\n",
       "      <td>32</td>\n",
       "      <td>88</td>\n",
       "      <td>32</td>\n",
       "      <td>526</td>\n",
       "      <td>1070</td>\n",
       "      <td>...</td>\n",
       "      <td>1</td>\n",
       "      <td>29</td>\n",
       "      <td>29</td>\n",
       "      <td>16</td>\n",
       "      <td>7</td>\n",
       "      <td>1</td>\n",
       "      <td>5</td>\n",
       "      <td>5</td>\n",
       "      <td>5</td>\n",
       "      <td>5</td>\n",
       "    </tr>\n",
       "    <tr>\n",
       "      <th>2022-05</th>\n",
       "      <td>26296</td>\n",
       "      <td>2949</td>\n",
       "      <td>2949</td>\n",
       "      <td>189</td>\n",
       "      <td>935</td>\n",
       "      <td>32</td>\n",
       "      <td>88</td>\n",
       "      <td>28</td>\n",
       "      <td>530</td>\n",
       "      <td>1056</td>\n",
       "      <td>...</td>\n",
       "      <td>1</td>\n",
       "      <td>26</td>\n",
       "      <td>26</td>\n",
       "      <td>20</td>\n",
       "      <td>7</td>\n",
       "      <td>1</td>\n",
       "      <td>5</td>\n",
       "      <td>5</td>\n",
       "      <td>5</td>\n",
       "      <td>5</td>\n",
       "    </tr>\n",
       "    <tr>\n",
       "      <th>2022-06</th>\n",
       "      <td>30935</td>\n",
       "      <td>3524</td>\n",
       "      <td>3524</td>\n",
       "      <td>194</td>\n",
       "      <td>964</td>\n",
       "      <td>32</td>\n",
       "      <td>89</td>\n",
       "      <td>26</td>\n",
       "      <td>533</td>\n",
       "      <td>1045</td>\n",
       "      <td>...</td>\n",
       "      <td>1</td>\n",
       "      <td>30</td>\n",
       "      <td>30</td>\n",
       "      <td>14</td>\n",
       "      <td>7</td>\n",
       "      <td>1</td>\n",
       "      <td>5</td>\n",
       "      <td>5</td>\n",
       "      <td>5</td>\n",
       "      <td>5</td>\n",
       "    </tr>\n",
       "    <tr>\n",
       "      <th>2022-07</th>\n",
       "      <td>32255</td>\n",
       "      <td>3790</td>\n",
       "      <td>3790</td>\n",
       "      <td>191</td>\n",
       "      <td>972</td>\n",
       "      <td>32</td>\n",
       "      <td>89</td>\n",
       "      <td>31</td>\n",
       "      <td>546</td>\n",
       "      <td>1123</td>\n",
       "      <td>...</td>\n",
       "      <td>1</td>\n",
       "      <td>31</td>\n",
       "      <td>31</td>\n",
       "      <td>16</td>\n",
       "      <td>7</td>\n",
       "      <td>1</td>\n",
       "      <td>5</td>\n",
       "      <td>5</td>\n",
       "      <td>5</td>\n",
       "      <td>5</td>\n",
       "    </tr>\n",
       "    <tr>\n",
       "      <th>2022-08</th>\n",
       "      <td>30882</td>\n",
       "      <td>3816</td>\n",
       "      <td>3816</td>\n",
       "      <td>198</td>\n",
       "      <td>971</td>\n",
       "      <td>32</td>\n",
       "      <td>90</td>\n",
       "      <td>28</td>\n",
       "      <td>506</td>\n",
       "      <td>1012</td>\n",
       "      <td>...</td>\n",
       "      <td>1</td>\n",
       "      <td>31</td>\n",
       "      <td>31</td>\n",
       "      <td>16</td>\n",
       "      <td>7</td>\n",
       "      <td>1</td>\n",
       "      <td>5</td>\n",
       "      <td>5</td>\n",
       "      <td>5</td>\n",
       "      <td>5</td>\n",
       "    </tr>\n",
       "    <tr>\n",
       "      <th>2022-09</th>\n",
       "      <td>33325</td>\n",
       "      <td>3972</td>\n",
       "      <td>3972</td>\n",
       "      <td>206</td>\n",
       "      <td>975</td>\n",
       "      <td>32</td>\n",
       "      <td>87</td>\n",
       "      <td>33</td>\n",
       "      <td>475</td>\n",
       "      <td>957</td>\n",
       "      <td>...</td>\n",
       "      <td>1</td>\n",
       "      <td>30</td>\n",
       "      <td>30</td>\n",
       "      <td>17</td>\n",
       "      <td>7</td>\n",
       "      <td>1</td>\n",
       "      <td>5</td>\n",
       "      <td>5</td>\n",
       "      <td>5</td>\n",
       "      <td>5</td>\n",
       "    </tr>\n",
       "    <tr>\n",
       "      <th>2022-10</th>\n",
       "      <td>35073</td>\n",
       "      <td>4144</td>\n",
       "      <td>4144</td>\n",
       "      <td>204</td>\n",
       "      <td>988</td>\n",
       "      <td>32</td>\n",
       "      <td>88</td>\n",
       "      <td>33</td>\n",
       "      <td>468</td>\n",
       "      <td>957</td>\n",
       "      <td>...</td>\n",
       "      <td>1</td>\n",
       "      <td>31</td>\n",
       "      <td>31</td>\n",
       "      <td>15</td>\n",
       "      <td>7</td>\n",
       "      <td>1</td>\n",
       "      <td>6</td>\n",
       "      <td>6</td>\n",
       "      <td>6</td>\n",
       "      <td>6</td>\n",
       "    </tr>\n",
       "    <tr>\n",
       "      <th>2022-11</th>\n",
       "      <td>32356</td>\n",
       "      <td>3824</td>\n",
       "      <td>3824</td>\n",
       "      <td>200</td>\n",
       "      <td>971</td>\n",
       "      <td>32</td>\n",
       "      <td>88</td>\n",
       "      <td>34</td>\n",
       "      <td>483</td>\n",
       "      <td>995</td>\n",
       "      <td>...</td>\n",
       "      <td>1</td>\n",
       "      <td>29</td>\n",
       "      <td>29</td>\n",
       "      <td>13</td>\n",
       "      <td>7</td>\n",
       "      <td>1</td>\n",
       "      <td>5</td>\n",
       "      <td>5</td>\n",
       "      <td>5</td>\n",
       "      <td>5</td>\n",
       "    </tr>\n",
       "    <tr>\n",
       "      <th>2022-12</th>\n",
       "      <td>31936</td>\n",
       "      <td>3873</td>\n",
       "      <td>3873</td>\n",
       "      <td>187</td>\n",
       "      <td>951</td>\n",
       "      <td>31</td>\n",
       "      <td>87</td>\n",
       "      <td>31</td>\n",
       "      <td>507</td>\n",
       "      <td>1042</td>\n",
       "      <td>...</td>\n",
       "      <td>1</td>\n",
       "      <td>31</td>\n",
       "      <td>31</td>\n",
       "      <td>13</td>\n",
       "      <td>7</td>\n",
       "      <td>1</td>\n",
       "      <td>5</td>\n",
       "      <td>5</td>\n",
       "      <td>5</td>\n",
       "      <td>5</td>\n",
       "    </tr>\n",
       "  </tbody>\n",
       "</table>\n",
       "<p>19 rows × 22 columns</p>\n",
       "</div>"
      ],
      "text/plain": [
       "               id  order_id  placed_at  merchant_id  sku_id  top_cat  sub_cat  \\\n",
       "year_month                                                                      \n",
       "2021-06      2888       338        338           14     458       31       70   \n",
       "2021-07     10494      1056       1056           11     558       33       78   \n",
       "2021-08      7681       843        843            3     534       32       75   \n",
       "2021-09      9136      1063       1063           48     548       33       75   \n",
       "2021-10     31897      2907       2904          196    1480       35      103   \n",
       "2021-11     27766      2429       2429          182     971       32       89   \n",
       "2021-12     28721      2516       2516          185     959       32       88   \n",
       "2022-01     31545      2994       2994          205     993       32       89   \n",
       "2022-02     27985      2824       2824          206     975       32       88   \n",
       "2022-03     32107      3495       3494          202     954       32       87   \n",
       "2022-04     29159      3081       3081          197     952       32       88   \n",
       "2022-05     26296      2949       2949          189     935       32       88   \n",
       "2022-06     30935      3524       3524          194     964       32       89   \n",
       "2022-07     32255      3790       3790          191     972       32       89   \n",
       "2022-08     30882      3816       3816          198     971       32       90   \n",
       "2022-09     33325      3972       3972          206     975       32       87   \n",
       "2022-10     35073      4144       4144          204     988       32       88   \n",
       "2022-11     32356      3824       3824          200     971       32       88   \n",
       "2022-12     31936      3873       3873          187     951       31       87   \n",
       "\n",
       "            qty  price  spent  ...  month  date  day  hour  weekday  \\\n",
       "year_month                     ...                                    \n",
       "2021-06      44    339    524  ...      1     8    8    11        5   \n",
       "2021-07      48    408    714  ...      1    29   29    12        7   \n",
       "2021-08      51    342    624  ...      1    30   30    11        7   \n",
       "2021-09      48    379    670  ...      1    30   30    11        7   \n",
       "2021-10      69    580    878  ...      1    30   30    16        7   \n",
       "2021-11      31    402    851  ...      1    30   30    19        7   \n",
       "2021-12      36    505   1084  ...      1    31   31    19        7   \n",
       "2022-01      31    550   1153  ...      1    30   30    21        7   \n",
       "2022-02      30    491   1029  ...      1    27   27    20        7   \n",
       "2022-03      35    508   1109  ...      1    31   31    20        7   \n",
       "2022-04      32    526   1070  ...      1    29   29    16        7   \n",
       "2022-05      28    530   1056  ...      1    26   26    20        7   \n",
       "2022-06      26    533   1045  ...      1    30   30    14        7   \n",
       "2022-07      31    546   1123  ...      1    31   31    16        7   \n",
       "2022-08      28    506   1012  ...      1    31   31    16        7   \n",
       "2022-09      33    475    957  ...      1    30   30    17        7   \n",
       "2022-10      33    468    957  ...      1    31   31    15        7   \n",
       "2022-11      34    483    995  ...      1    29   29    13        7   \n",
       "2022-12      31    507   1042  ...      1    31   31    13        7   \n",
       "\n",
       "            month_num  year_week  week_num  iso_week_num  cum_week_num  \n",
       "year_month                                                              \n",
       "2021-06             1          3         3             3             3  \n",
       "2021-07             1          5         5             5             5  \n",
       "2021-08             1          6         6             6             6  \n",
       "2021-09             1          5         5             5             5  \n",
       "2021-10             1          5         5             5             5  \n",
       "2021-11             1          5         5             5             5  \n",
       "2021-12             1          5         5             5             5  \n",
       "2022-01             1          6         6             6             6  \n",
       "2022-02             1          5         5             5             5  \n",
       "2022-03             1          5         5             5             5  \n",
       "2022-04             1          5         5             5             5  \n",
       "2022-05             1          5         5             5             5  \n",
       "2022-06             1          5         5             5             5  \n",
       "2022-07             1          5         5             5             5  \n",
       "2022-08             1          5         5             5             5  \n",
       "2022-09             1          5         5             5             5  \n",
       "2022-10             1          6         6             6             6  \n",
       "2022-11             1          5         5             5             5  \n",
       "2022-12             1          5         5             5             5  \n",
       "\n",
       "[19 rows x 22 columns]"
      ]
     },
     "execution_count": 12,
     "metadata": {},
     "output_type": "execute_result"
    }
   ],
   "source": [
    "baskets.groupby(['year_month']).nunique()"
   ]
  },
  {
   "cell_type": "markdown",
   "metadata": {},
   "source": [
    "### on average, how many merchants transact on each weekday?"
   ]
  },
  {
   "cell_type": "markdown",
   "metadata": {},
   "source": [
    " - use of agg "
   ]
  },
  {
   "cell_type": "code",
   "execution_count": 13,
   "metadata": {},
   "outputs": [
    {
     "data": {
      "text/html": [
       "<div>\n",
       "<style scoped>\n",
       "    .dataframe tbody tr th:only-of-type {\n",
       "        vertical-align: middle;\n",
       "    }\n",
       "\n",
       "    .dataframe tbody tr th {\n",
       "        vertical-align: top;\n",
       "    }\n",
       "\n",
       "    .dataframe thead th {\n",
       "        text-align: right;\n",
       "    }\n",
       "</style>\n",
       "<table border=\"1\" class=\"dataframe\">\n",
       "  <thead>\n",
       "    <tr style=\"text-align: right;\">\n",
       "      <th></th>\n",
       "      <th>num_merchants</th>\n",
       "    </tr>\n",
       "    <tr>\n",
       "      <th>weekday</th>\n",
       "      <th></th>\n",
       "    </tr>\n",
       "  </thead>\n",
       "  <tbody>\n",
       "    <tr>\n",
       "      <th>0</th>\n",
       "      <td>51.597403</td>\n",
       "    </tr>\n",
       "    <tr>\n",
       "      <th>1</th>\n",
       "      <td>45.906667</td>\n",
       "    </tr>\n",
       "    <tr>\n",
       "      <th>2</th>\n",
       "      <td>46.166667</td>\n",
       "    </tr>\n",
       "    <tr>\n",
       "      <th>3</th>\n",
       "      <td>44.887500</td>\n",
       "    </tr>\n",
       "    <tr>\n",
       "      <th>4</th>\n",
       "      <td>45.814815</td>\n",
       "    </tr>\n",
       "    <tr>\n",
       "      <th>5</th>\n",
       "      <td>48.784810</td>\n",
       "    </tr>\n",
       "    <tr>\n",
       "      <th>6</th>\n",
       "      <td>43.270270</td>\n",
       "    </tr>\n",
       "  </tbody>\n",
       "</table>\n",
       "</div>"
      ],
      "text/plain": [
       "         num_merchants\n",
       "weekday               \n",
       "0            51.597403\n",
       "1            45.906667\n",
       "2            46.166667\n",
       "3            44.887500\n",
       "4            45.814815\n",
       "5            48.784810\n",
       "6            43.270270"
      ]
     },
     "execution_count": 13,
     "metadata": {},
     "output_type": "execute_result"
    }
   ],
   "source": [
    "baskets.groupby(['date','weekday']).agg(\n",
    "    num_merchants = ('merchant_id', 'nunique')).reset_index().groupby('weekday').mean()"
   ]
  },
  {
   "cell_type": "markdown",
   "metadata": {},
   "source": [
    " - or do it another way"
   ]
  },
  {
   "cell_type": "code",
   "execution_count": 14,
   "metadata": {},
   "outputs": [
    {
     "data": {
      "text/plain": [
       "weekday\n",
       "0    51.597403\n",
       "1    45.906667\n",
       "2    46.166667\n",
       "3    44.887500\n",
       "4    45.814815\n",
       "5    48.784810\n",
       "6    43.270270\n",
       "Name: merchant_cnt, dtype: float64"
      ]
     },
     "execution_count": 14,
     "metadata": {},
     "output_type": "execute_result"
    }
   ],
   "source": [
    "pd.DataFrame({'merchant_cnt' : baskets.groupby(['date','weekday'])['merchant_id'].nunique()}).reset_index().groupby(['weekday'])['merchant_cnt'].mean()"
   ]
  },
  {
   "cell_type": "markdown",
   "metadata": {},
   "source": [
    "### compute various attributes about each merchant"
   ]
  },
  {
   "cell_type": "markdown",
   "metadata": {},
   "source": [
    " - use a function"
   ]
  },
  {
   "cell_type": "code",
   "execution_count": 15,
   "metadata": {},
   "outputs": [],
   "source": [
    "def get_merchant_attributes(baskets):\n",
    "    merchant_attributes = baskets.groupby(['merchant_id']).agg(\n",
    "        total_spent = ('spent', 'sum'), \n",
    "        num_orders = ('order_id', 'nunique'), \n",
    "        first_month = ('month_num', 'min'), \n",
    "        last_month = ('month_num', 'max'), \n",
    "        num_months = ('month_num', 'nunique'), \n",
    "        num_weeks = ('week_num', 'nunique'), \n",
    "        num_days = ('date', 'nunique'), \n",
    "        num_skus = ('sku_id','nunique'), \n",
    "        num_top_cats = ('top_cat','nunique'), \n",
    "        num_sub_cats = ('sub_cat','nunique'),\n",
    "    ).reset_index()\n",
    "    merchant_attributes['avg_spent_per_order'] = merchant_attributes.total_spent / merchant_attributes.num_orders\n",
    "    merchant_attributes['tenure_month'] = merchant_attributes.last_month - merchant_attributes.first_month +1\n",
    "    return merchant_attributes"
   ]
  },
  {
   "cell_type": "markdown",
   "metadata": {},
   "source": [
    " - the above function assumes that baskets already has all the date columns, let's make a function for adding those date columns to baskets"
   ]
  },
  {
   "cell_type": "code",
   "execution_count": 16,
   "metadata": {},
   "outputs": [],
   "source": [
    "def add_date_cols(baskets):\n",
    "    baskets['datetime'] = pd.to_datetime(baskets['placed_at'])\n",
    "    baskets['year'] = baskets[\"datetime\"].dt.year\n",
    "    baskets['month'] = baskets[\"datetime\"].dt.month\n",
    "    baskets['date'] = baskets[\"datetime\"].dt.date\n",
    "    baskets['day'] = baskets[\"datetime\"].dt.day\n",
    "    baskets['hour'] = baskets[\"datetime\"].dt.hour\n",
    "    baskets['weekday'] = baskets[\"datetime\"].dt.weekday\n",
    "    baskets['year_month'] = baskets[\"datetime\"].apply(lambda t: t.strftime(\"%Y-%m\"))\n",
    "    baskets['month_num'] = (baskets['year'] - 2021) * 12 + baskets['month']\n",
    "    baskets['year_week'] = baskets[\"datetime\"].apply(lambda t: t.strftime(\"%Y-%W\")) # this makes the beginning of Jan 2022 as week 2022-00 , not 2022-52\n",
    "    baskets['week_num'] = baskets[\"datetime\"].apply(lambda t: int(t.strftime(\"%W\"))) \n",
    "    baskets['iso_week_num'] = baskets[\"datetime\"].dt.isocalendar().week # this returns week number 52 for Jan 1, 2021, not 0 which is what we want\n",
    "    baskets['cum_week_num'] = (baskets['year'] - 2021) * 52 + baskets['week_num']\n",
    "    return baskets"
   ]
  },
  {
   "cell_type": "code",
   "execution_count": 17,
   "metadata": {},
   "outputs": [],
   "source": [
    "filename = './AwanTunai_transaction_data.csv'\n",
    "baskets = pd.read_csv(filename)\n",
    "baskets[\"spent\"] = baskets[\"qty\"] * baskets[\"price\"]\n",
    "baskets = add_date_cols(baskets)\n",
    "merchant_attributes = get_merchant_attributes(baskets)"
   ]
  },
  {
   "cell_type": "code",
   "execution_count": 18,
   "metadata": {},
   "outputs": [
    {
     "data": {
      "text/html": [
       "<div>\n",
       "<style scoped>\n",
       "    .dataframe tbody tr th:only-of-type {\n",
       "        vertical-align: middle;\n",
       "    }\n",
       "\n",
       "    .dataframe tbody tr th {\n",
       "        vertical-align: top;\n",
       "    }\n",
       "\n",
       "    .dataframe thead th {\n",
       "        text-align: right;\n",
       "    }\n",
       "</style>\n",
       "<table border=\"1\" class=\"dataframe\">\n",
       "  <thead>\n",
       "    <tr style=\"text-align: right;\">\n",
       "      <th></th>\n",
       "      <th>merchant_id</th>\n",
       "      <th>total_spent</th>\n",
       "      <th>num_orders</th>\n",
       "      <th>first_month</th>\n",
       "      <th>last_month</th>\n",
       "      <th>num_months</th>\n",
       "      <th>num_weeks</th>\n",
       "      <th>num_days</th>\n",
       "      <th>num_skus</th>\n",
       "      <th>num_top_cats</th>\n",
       "      <th>num_sub_cats</th>\n",
       "      <th>avg_spent_per_order</th>\n",
       "      <th>tenure_month</th>\n",
       "    </tr>\n",
       "  </thead>\n",
       "  <tbody>\n",
       "    <tr>\n",
       "      <th>0</th>\n",
       "      <td>1</td>\n",
       "      <td>11802400.0</td>\n",
       "      <td>11</td>\n",
       "      <td>13</td>\n",
       "      <td>21</td>\n",
       "      <td>4</td>\n",
       "      <td>6</td>\n",
       "      <td>8</td>\n",
       "      <td>52</td>\n",
       "      <td>12</td>\n",
       "      <td>19</td>\n",
       "      <td>1.072945e+06</td>\n",
       "      <td>9</td>\n",
       "    </tr>\n",
       "    <tr>\n",
       "      <th>1</th>\n",
       "      <td>2</td>\n",
       "      <td>16119100.0</td>\n",
       "      <td>13</td>\n",
       "      <td>12</td>\n",
       "      <td>24</td>\n",
       "      <td>6</td>\n",
       "      <td>10</td>\n",
       "      <td>11</td>\n",
       "      <td>53</td>\n",
       "      <td>13</td>\n",
       "      <td>21</td>\n",
       "      <td>1.239931e+06</td>\n",
       "      <td>13</td>\n",
       "    </tr>\n",
       "    <tr>\n",
       "      <th>2</th>\n",
       "      <td>3</td>\n",
       "      <td>38055700.0</td>\n",
       "      <td>37</td>\n",
       "      <td>11</td>\n",
       "      <td>16</td>\n",
       "      <td>6</td>\n",
       "      <td>13</td>\n",
       "      <td>26</td>\n",
       "      <td>145</td>\n",
       "      <td>24</td>\n",
       "      <td>43</td>\n",
       "      <td>1.028532e+06</td>\n",
       "      <td>6</td>\n",
       "    </tr>\n",
       "    <tr>\n",
       "      <th>3</th>\n",
       "      <td>4</td>\n",
       "      <td>1021000.0</td>\n",
       "      <td>2</td>\n",
       "      <td>19</td>\n",
       "      <td>20</td>\n",
       "      <td>2</td>\n",
       "      <td>2</td>\n",
       "      <td>2</td>\n",
       "      <td>9</td>\n",
       "      <td>5</td>\n",
       "      <td>5</td>\n",
       "      <td>5.105000e+05</td>\n",
       "      <td>2</td>\n",
       "    </tr>\n",
       "    <tr>\n",
       "      <th>4</th>\n",
       "      <td>5</td>\n",
       "      <td>2688000.0</td>\n",
       "      <td>2</td>\n",
       "      <td>13</td>\n",
       "      <td>18</td>\n",
       "      <td>2</td>\n",
       "      <td>2</td>\n",
       "      <td>2</td>\n",
       "      <td>20</td>\n",
       "      <td>7</td>\n",
       "      <td>9</td>\n",
       "      <td>1.344000e+06</td>\n",
       "      <td>6</td>\n",
       "    </tr>\n",
       "  </tbody>\n",
       "</table>\n",
       "</div>"
      ],
      "text/plain": [
       "   merchant_id  total_spent  num_orders  first_month  last_month  num_months  \\\n",
       "0            1   11802400.0          11           13          21           4   \n",
       "1            2   16119100.0          13           12          24           6   \n",
       "2            3   38055700.0          37           11          16           6   \n",
       "3            4    1021000.0           2           19          20           2   \n",
       "4            5    2688000.0           2           13          18           2   \n",
       "\n",
       "   num_weeks  num_days  num_skus  num_top_cats  num_sub_cats  \\\n",
       "0          6         8        52            12            19   \n",
       "1         10        11        53            13            21   \n",
       "2         13        26       145            24            43   \n",
       "3          2         2         9             5             5   \n",
       "4          2         2        20             7             9   \n",
       "\n",
       "   avg_spent_per_order  tenure_month  \n",
       "0         1.072945e+06             9  \n",
       "1         1.239931e+06            13  \n",
       "2         1.028532e+06             6  \n",
       "3         5.105000e+05             2  \n",
       "4         1.344000e+06             6  "
      ]
     },
     "execution_count": 18,
     "metadata": {},
     "output_type": "execute_result"
    }
   ],
   "source": [
    "merchant_attributes.head()"
   ]
  },
  {
   "cell_type": "code",
   "execution_count": 19,
   "metadata": {},
   "outputs": [],
   "source": [
    "### manual inspection to double chefck"
   ]
  },
  {
   "cell_type": "code",
   "execution_count": 20,
   "metadata": {},
   "outputs": [
    {
     "data": {
      "text/html": [
       "<div>\n",
       "<style scoped>\n",
       "    .dataframe tbody tr th:only-of-type {\n",
       "        vertical-align: middle;\n",
       "    }\n",
       "\n",
       "    .dataframe tbody tr th {\n",
       "        vertical-align: top;\n",
       "    }\n",
       "\n",
       "    .dataframe thead th {\n",
       "        text-align: right;\n",
       "    }\n",
       "</style>\n",
       "<table border=\"1\" class=\"dataframe\">\n",
       "  <thead>\n",
       "    <tr style=\"text-align: right;\">\n",
       "      <th></th>\n",
       "      <th>id</th>\n",
       "      <th>order_id</th>\n",
       "      <th>placed_at</th>\n",
       "      <th>merchant_id</th>\n",
       "      <th>sku_id</th>\n",
       "      <th>top_cat</th>\n",
       "      <th>sub_cat</th>\n",
       "      <th>qty</th>\n",
       "      <th>price</th>\n",
       "      <th>spent</th>\n",
       "      <th>...</th>\n",
       "      <th>date</th>\n",
       "      <th>day</th>\n",
       "      <th>hour</th>\n",
       "      <th>weekday</th>\n",
       "      <th>year_month</th>\n",
       "      <th>month_num</th>\n",
       "      <th>year_week</th>\n",
       "      <th>week_num</th>\n",
       "      <th>iso_week_num</th>\n",
       "      <th>cum_week_num</th>\n",
       "    </tr>\n",
       "  </thead>\n",
       "  <tbody>\n",
       "    <tr>\n",
       "      <th>144899</th>\n",
       "      <td>144924</td>\n",
       "      <td>13662</td>\n",
       "      <td>2022-01-27 13:30:34.838</td>\n",
       "      <td>1</td>\n",
       "      <td>1744</td>\n",
       "      <td>12.0</td>\n",
       "      <td>1.0</td>\n",
       "      <td>1</td>\n",
       "      <td>89000.0</td>\n",
       "      <td>89000.0</td>\n",
       "      <td>...</td>\n",
       "      <td>2022-01-27</td>\n",
       "      <td>27</td>\n",
       "      <td>13</td>\n",
       "      <td>3</td>\n",
       "      <td>2022-01</td>\n",
       "      <td>13</td>\n",
       "      <td>2022-04</td>\n",
       "      <td>4</td>\n",
       "      <td>4</td>\n",
       "      <td>56</td>\n",
       "    </tr>\n",
       "    <tr>\n",
       "      <th>217332</th>\n",
       "      <td>217354</td>\n",
       "      <td>21239</td>\n",
       "      <td>2022-04-08 10:42:37.173</td>\n",
       "      <td>1</td>\n",
       "      <td>1498</td>\n",
       "      <td>27.0</td>\n",
       "      <td>86.0</td>\n",
       "      <td>1</td>\n",
       "      <td>251500.0</td>\n",
       "      <td>251500.0</td>\n",
       "      <td>...</td>\n",
       "      <td>2022-04-08</td>\n",
       "      <td>8</td>\n",
       "      <td>10</td>\n",
       "      <td>4</td>\n",
       "      <td>2022-04</td>\n",
       "      <td>16</td>\n",
       "      <td>2022-14</td>\n",
       "      <td>14</td>\n",
       "      <td>14</td>\n",
       "      <td>66</td>\n",
       "    </tr>\n",
       "    <tr>\n",
       "      <th>217333</th>\n",
       "      <td>217355</td>\n",
       "      <td>21239</td>\n",
       "      <td>2022-04-08 10:42:37.173</td>\n",
       "      <td>1</td>\n",
       "      <td>992</td>\n",
       "      <td>27.0</td>\n",
       "      <td>86.0</td>\n",
       "      <td>1</td>\n",
       "      <td>250500.0</td>\n",
       "      <td>250500.0</td>\n",
       "      <td>...</td>\n",
       "      <td>2022-04-08</td>\n",
       "      <td>8</td>\n",
       "      <td>10</td>\n",
       "      <td>4</td>\n",
       "      <td>2022-04</td>\n",
       "      <td>16</td>\n",
       "      <td>2022-14</td>\n",
       "      <td>14</td>\n",
       "      <td>14</td>\n",
       "      <td>66</td>\n",
       "    </tr>\n",
       "    <tr>\n",
       "      <th>217334</th>\n",
       "      <td>217356</td>\n",
       "      <td>21239</td>\n",
       "      <td>2022-04-08 10:42:37.173</td>\n",
       "      <td>1</td>\n",
       "      <td>1589</td>\n",
       "      <td>26.0</td>\n",
       "      <td>39.0</td>\n",
       "      <td>1</td>\n",
       "      <td>47000.0</td>\n",
       "      <td>47000.0</td>\n",
       "      <td>...</td>\n",
       "      <td>2022-04-08</td>\n",
       "      <td>8</td>\n",
       "      <td>10</td>\n",
       "      <td>4</td>\n",
       "      <td>2022-04</td>\n",
       "      <td>16</td>\n",
       "      <td>2022-14</td>\n",
       "      <td>14</td>\n",
       "      <td>14</td>\n",
       "      <td>66</td>\n",
       "    </tr>\n",
       "    <tr>\n",
       "      <th>217335</th>\n",
       "      <td>217357</td>\n",
       "      <td>21239</td>\n",
       "      <td>2022-04-08 10:42:37.173</td>\n",
       "      <td>1</td>\n",
       "      <td>1004</td>\n",
       "      <td>15.0</td>\n",
       "      <td>34.0</td>\n",
       "      <td>1</td>\n",
       "      <td>29000.0</td>\n",
       "      <td>29000.0</td>\n",
       "      <td>...</td>\n",
       "      <td>2022-04-08</td>\n",
       "      <td>8</td>\n",
       "      <td>10</td>\n",
       "      <td>4</td>\n",
       "      <td>2022-04</td>\n",
       "      <td>16</td>\n",
       "      <td>2022-14</td>\n",
       "      <td>14</td>\n",
       "      <td>14</td>\n",
       "      <td>66</td>\n",
       "    </tr>\n",
       "    <tr>\n",
       "      <th>...</th>\n",
       "      <td>...</td>\n",
       "      <td>...</td>\n",
       "      <td>...</td>\n",
       "      <td>...</td>\n",
       "      <td>...</td>\n",
       "      <td>...</td>\n",
       "      <td>...</td>\n",
       "      <td>...</td>\n",
       "      <td>...</td>\n",
       "      <td>...</td>\n",
       "      <td>...</td>\n",
       "      <td>...</td>\n",
       "      <td>...</td>\n",
       "      <td>...</td>\n",
       "      <td>...</td>\n",
       "      <td>...</td>\n",
       "      <td>...</td>\n",
       "      <td>...</td>\n",
       "      <td>...</td>\n",
       "      <td>...</td>\n",
       "      <td>...</td>\n",
       "    </tr>\n",
       "    <tr>\n",
       "      <th>389568</th>\n",
       "      <td>389573</td>\n",
       "      <td>41132</td>\n",
       "      <td>2022-09-27 13:47:20.418</td>\n",
       "      <td>1</td>\n",
       "      <td>1208</td>\n",
       "      <td>27.0</td>\n",
       "      <td>86.0</td>\n",
       "      <td>5</td>\n",
       "      <td>30500.0</td>\n",
       "      <td>152500.0</td>\n",
       "      <td>...</td>\n",
       "      <td>2022-09-27</td>\n",
       "      <td>27</td>\n",
       "      <td>13</td>\n",
       "      <td>1</td>\n",
       "      <td>2022-09</td>\n",
       "      <td>21</td>\n",
       "      <td>2022-39</td>\n",
       "      <td>39</td>\n",
       "      <td>39</td>\n",
       "      <td>91</td>\n",
       "    </tr>\n",
       "    <tr>\n",
       "      <th>389569</th>\n",
       "      <td>389574</td>\n",
       "      <td>41132</td>\n",
       "      <td>2022-09-27 13:47:20.418</td>\n",
       "      <td>1</td>\n",
       "      <td>923</td>\n",
       "      <td>27.0</td>\n",
       "      <td>86.0</td>\n",
       "      <td>1</td>\n",
       "      <td>302000.0</td>\n",
       "      <td>302000.0</td>\n",
       "      <td>...</td>\n",
       "      <td>2022-09-27</td>\n",
       "      <td>27</td>\n",
       "      <td>13</td>\n",
       "      <td>1</td>\n",
       "      <td>2022-09</td>\n",
       "      <td>21</td>\n",
       "      <td>2022-39</td>\n",
       "      <td>39</td>\n",
       "      <td>39</td>\n",
       "      <td>91</td>\n",
       "    </tr>\n",
       "    <tr>\n",
       "      <th>389570</th>\n",
       "      <td>389575</td>\n",
       "      <td>41132</td>\n",
       "      <td>2022-09-27 13:47:20.418</td>\n",
       "      <td>1</td>\n",
       "      <td>697</td>\n",
       "      <td>27.0</td>\n",
       "      <td>86.0</td>\n",
       "      <td>1</td>\n",
       "      <td>152000.0</td>\n",
       "      <td>152000.0</td>\n",
       "      <td>...</td>\n",
       "      <td>2022-09-27</td>\n",
       "      <td>27</td>\n",
       "      <td>13</td>\n",
       "      <td>1</td>\n",
       "      <td>2022-09</td>\n",
       "      <td>21</td>\n",
       "      <td>2022-39</td>\n",
       "      <td>39</td>\n",
       "      <td>39</td>\n",
       "      <td>91</td>\n",
       "    </tr>\n",
       "    <tr>\n",
       "      <th>389571</th>\n",
       "      <td>389576</td>\n",
       "      <td>41132</td>\n",
       "      <td>2022-09-27 13:47:20.418</td>\n",
       "      <td>1</td>\n",
       "      <td>1655</td>\n",
       "      <td>18.0</td>\n",
       "      <td>61.0</td>\n",
       "      <td>3</td>\n",
       "      <td>36000.0</td>\n",
       "      <td>108000.0</td>\n",
       "      <td>...</td>\n",
       "      <td>2022-09-27</td>\n",
       "      <td>27</td>\n",
       "      <td>13</td>\n",
       "      <td>1</td>\n",
       "      <td>2022-09</td>\n",
       "      <td>21</td>\n",
       "      <td>2022-39</td>\n",
       "      <td>39</td>\n",
       "      <td>39</td>\n",
       "      <td>91</td>\n",
       "    </tr>\n",
       "    <tr>\n",
       "      <th>389572</th>\n",
       "      <td>389577</td>\n",
       "      <td>41132</td>\n",
       "      <td>2022-09-27 13:47:20.418</td>\n",
       "      <td>1</td>\n",
       "      <td>1070</td>\n",
       "      <td>16.0</td>\n",
       "      <td>51.0</td>\n",
       "      <td>1</td>\n",
       "      <td>135000.0</td>\n",
       "      <td>135000.0</td>\n",
       "      <td>...</td>\n",
       "      <td>2022-09-27</td>\n",
       "      <td>27</td>\n",
       "      <td>13</td>\n",
       "      <td>1</td>\n",
       "      <td>2022-09</td>\n",
       "      <td>21</td>\n",
       "      <td>2022-39</td>\n",
       "      <td>39</td>\n",
       "      <td>39</td>\n",
       "      <td>91</td>\n",
       "    </tr>\n",
       "  </tbody>\n",
       "</table>\n",
       "<p>69 rows × 23 columns</p>\n",
       "</div>"
      ],
      "text/plain": [
       "            id  order_id                placed_at  merchant_id  sku_id  \\\n",
       "144899  144924     13662  2022-01-27 13:30:34.838            1    1744   \n",
       "217332  217354     21239  2022-04-08 10:42:37.173            1    1498   \n",
       "217333  217355     21239  2022-04-08 10:42:37.173            1     992   \n",
       "217334  217356     21239  2022-04-08 10:42:37.173            1    1589   \n",
       "217335  217357     21239  2022-04-08 10:42:37.173            1    1004   \n",
       "...        ...       ...                      ...          ...     ...   \n",
       "389568  389573     41132  2022-09-27 13:47:20.418            1    1208   \n",
       "389569  389574     41132  2022-09-27 13:47:20.418            1     923   \n",
       "389570  389575     41132  2022-09-27 13:47:20.418            1     697   \n",
       "389571  389576     41132  2022-09-27 13:47:20.418            1    1655   \n",
       "389572  389577     41132  2022-09-27 13:47:20.418            1    1070   \n",
       "\n",
       "        top_cat  sub_cat  qty     price     spent  ...        date  day  hour  \\\n",
       "144899     12.0      1.0    1   89000.0   89000.0  ...  2022-01-27   27    13   \n",
       "217332     27.0     86.0    1  251500.0  251500.0  ...  2022-04-08    8    10   \n",
       "217333     27.0     86.0    1  250500.0  250500.0  ...  2022-04-08    8    10   \n",
       "217334     26.0     39.0    1   47000.0   47000.0  ...  2022-04-08    8    10   \n",
       "217335     15.0     34.0    1   29000.0   29000.0  ...  2022-04-08    8    10   \n",
       "...         ...      ...  ...       ...       ...  ...         ...  ...   ...   \n",
       "389568     27.0     86.0    5   30500.0  152500.0  ...  2022-09-27   27    13   \n",
       "389569     27.0     86.0    1  302000.0  302000.0  ...  2022-09-27   27    13   \n",
       "389570     27.0     86.0    1  152000.0  152000.0  ...  2022-09-27   27    13   \n",
       "389571     18.0     61.0    3   36000.0  108000.0  ...  2022-09-27   27    13   \n",
       "389572     16.0     51.0    1  135000.0  135000.0  ...  2022-09-27   27    13   \n",
       "\n",
       "       weekday  year_month  month_num  year_week week_num  iso_week_num  \\\n",
       "144899       3     2022-01         13    2022-04        4             4   \n",
       "217332       4     2022-04         16    2022-14       14            14   \n",
       "217333       4     2022-04         16    2022-14       14            14   \n",
       "217334       4     2022-04         16    2022-14       14            14   \n",
       "217335       4     2022-04         16    2022-14       14            14   \n",
       "...        ...         ...        ...        ...      ...           ...   \n",
       "389568       1     2022-09         21    2022-39       39            39   \n",
       "389569       1     2022-09         21    2022-39       39            39   \n",
       "389570       1     2022-09         21    2022-39       39            39   \n",
       "389571       1     2022-09         21    2022-39       39            39   \n",
       "389572       1     2022-09         21    2022-39       39            39   \n",
       "\n",
       "       cum_week_num  \n",
       "144899           56  \n",
       "217332           66  \n",
       "217333           66  \n",
       "217334           66  \n",
       "217335           66  \n",
       "...             ...  \n",
       "389568           91  \n",
       "389569           91  \n",
       "389570           91  \n",
       "389571           91  \n",
       "389572           91  \n",
       "\n",
       "[69 rows x 23 columns]"
      ]
     },
     "execution_count": 20,
     "metadata": {},
     "output_type": "execute_result"
    }
   ],
   "source": [
    "baskets.query(\"merchant_id ==1\")"
   ]
  },
  {
   "cell_type": "markdown",
   "metadata": {},
   "source": [
    "### let's make some plots that could help get more sense about the data\n",
    " - total spent by week, by all merchants"
   ]
  },
  {
   "cell_type": "code",
   "execution_count": 21,
   "metadata": {},
   "outputs": [
    {
     "data": {
      "text/plain": [
       "<AxesSubplot:xlabel='year_week'>"
      ]
     },
     "execution_count": 21,
     "metadata": {},
     "output_type": "execute_result"
    },
    {
     "data": {
      "image/png": "[encoded data removed]",
      "text/plain": [
       "<Figure size 432x288 with 1 Axes>"
      ]
     },
     "metadata": {
      "needs_background": "light"
     },
     "output_type": "display_data"
    }
   ],
   "source": [
    "baskets.groupby(\"year_week\").spent.sum().plot()"
   ]
  },
  {
   "attachments": {},
   "cell_type": "markdown",
   "metadata": {},
   "source": [
    " - use plt.figure(figsize=(10,5))  to set size, or put figsize=(10,5) as argument into the plot function"
   ]
  },
  {
   "cell_type": "code",
   "execution_count": 52,
   "metadata": {},
   "outputs": [
    {
     "data": {
      "text/plain": [
       "<AxesSubplot:xlabel='year_week'>"
      ]
     },
     "execution_count": 52,
     "metadata": {},
     "output_type": "execute_result"
    },
    {
     "data": {
      "image/png": "[encoded data removed]",
      "text/plain": [
       "<Figure size 720x288 with 1 Axes>"
      ]
     },
     "metadata": {
      "needs_background": "light"
     },
     "output_type": "display_data"
    }
   ],
   "source": [
    "plt.figure(figsize=(10,4))\n",
    "baskets.groupby(\"year_week\").spent.sum().plot()"
   ]
  },
  {
   "cell_type": "markdown",
   "metadata": {},
   "source": [
    " - notice the relative scale changed due to expanding the plot area to wider, the two dips appear less drastic"
   ]
  },
  {
   "cell_type": "code",
   "execution_count": 23,
   "metadata": {},
   "outputs": [
    {
     "data": {
      "text/plain": [
       "<AxesSubplot:xlabel='year_week'>"
      ]
     },
     "execution_count": 23,
     "metadata": {},
     "output_type": "execute_result"
    },
    {
     "data": {
      "image/png": "[encoded data removed]",
      "text/plain": [
       "<Figure size 1440x216 with 1 Axes>"
      ]
     },
     "metadata": {
      "needs_background": "light"
     },
     "output_type": "display_data"
    }
   ],
   "source": [
    "baskets.groupby(\"year_week\").spent.sum().plot(figsize=(20,3))"
   ]
  },
  {
   "cell_type": "code",
   "execution_count": 49,
   "metadata": {},
   "outputs": [
    {
     "data": {
      "text/plain": [
       "<AxesSubplot:xlabel='year_week'>"
      ]
     },
     "execution_count": 49,
     "metadata": {},
     "output_type": "execute_result"
    },
    {
     "data": {
      "image/png": "[encoded data removed]",
      "text/plain": [
       "<Figure size 1440x216 with 1 Axes>"
      ]
     },
     "metadata": {
      "needs_background": "light"
     },
     "output_type": "display_data"
    }
   ],
   "source": [
    "baskets.groupby(\"year_week\").price.mean().plot(figsize=(20,3))"
   ]
  },
  {
   "cell_type": "markdown",
   "metadata": {},
   "source": [
    " - compare total spent with number of merchants, they align well"
   ]
  },
  {
   "cell_type": "code",
   "execution_count": 24,
   "metadata": {},
   "outputs": [
    {
     "data": {
      "text/plain": [
       "<AxesSubplot:xlabel='year_week'>"
      ]
     },
     "execution_count": 24,
     "metadata": {},
     "output_type": "execute_result"
    },
    {
     "data": {
      "image/png": "[encoded data removed]",
      "text/plain": [
       "<Figure size 1440x216 with 1 Axes>"
      ]
     },
     "metadata": {
      "needs_background": "light"
     },
     "output_type": "display_data"
    }
   ],
   "source": [
    "baskets.groupby(\"year_week\").merchant_id.nunique().plot(figsize=(20,3))"
   ]
  },
  {
   "cell_type": "code",
   "execution_count": 64,
   "metadata": {},
   "outputs": [
    {
     "data": {
      "text/plain": [
       "<AxesSubplot:xlabel='year_week'>"
      ]
     },
     "execution_count": 64,
     "metadata": {},
     "output_type": "execute_result"
    },
    {
     "data": {
      "image/png": "[encoded data removed]",
      "text/plain": [
       "<Figure size 1440x216 with 1 Axes>"
      ]
     },
     "metadata": {
      "needs_background": "light"
     },
     "output_type": "display_data"
    }
   ],
   "source": [
    "baskets.groupby(['year_week']).nunique().order_id.plot(figsize=(20,3))"
   ]
  },
  {
   "attachments": {},
   "cell_type": "markdown",
   "metadata": {},
   "source": [
    " - number of orders and number of merchants seem to align well"
   ]
  },
  {
   "cell_type": "markdown",
   "metadata": {},
   "source": [
    " - expand into by day (increase time resolution)"
   ]
  },
  {
   "cell_type": "code",
   "execution_count": 48,
   "metadata": {},
   "outputs": [
    {
     "data": {
      "text/plain": [
       "<AxesSubplot:xlabel='date'>"
      ]
     },
     "execution_count": 48,
     "metadata": {},
     "output_type": "execute_result"
    },
    {
     "data": {
      "image/png": "[encoded data removed]",
      "text/plain": [
       "<Figure size 1440x216 with 1 Axes>"
      ]
     },
     "metadata": {
      "needs_background": "light"
     },
     "output_type": "display_data"
    }
   ],
   "source": [
    "baskets.groupby(\"date\").merchant_id.nunique().plot(figsize=(20,3))"
   ]
  },
  {
   "cell_type": "code",
   "execution_count": 47,
   "metadata": {},
   "outputs": [
    {
     "data": {
      "text/plain": [
       "<AxesSubplot:xlabel='date'>"
      ]
     },
     "execution_count": 47,
     "metadata": {},
     "output_type": "execute_result"
    },
    {
     "data": {
      "image/png": "[encoded data removed]",
      "text/plain": [
       "<Figure size 1440x216 with 1 Axes>"
      ]
     },
     "metadata": {
      "needs_background": "light"
     },
     "output_type": "display_data"
    }
   ],
   "source": [
    "plt.figure(figsize=(15,3)) \n",
    "baskets.groupby(['date']).sum().spent.plot(figsize=(20,3))"
   ]
  },
  {
   "attachments": {},
   "cell_type": "markdown",
   "metadata": {},
   "source": [
    " - plot as bars"
   ]
  },
  {
   "cell_type": "code",
   "execution_count": 26,
   "metadata": {},
   "outputs": [
    {
     "data": {
      "text/plain": [
       "<AxesSubplot:xlabel='year_week'>"
      ]
     },
     "execution_count": 26,
     "metadata": {},
     "output_type": "execute_result"
    },
    {
     "data": {
      "image/png": "[encoded data removed]",
      "text/plain": [
       "<Figure size 1440x216 with 1 Axes>"
      ]
     },
     "metadata": {
      "needs_background": "light"
     },
     "output_type": "display_data"
    }
   ],
   "source": [
    "baskets.groupby(\"year_week\").merchant_id.nunique().plot.bar(x=\"date\",figsize=(20,3))"
   ]
  },
  {
   "cell_type": "code",
   "execution_count": 28,
   "metadata": {},
   "outputs": [
    {
     "data": {
      "text/plain": [
       "<AxesSubplot:xlabel='date'>"
      ]
     },
     "execution_count": 28,
     "metadata": {},
     "output_type": "execute_result"
    },
    {
     "data": {
      "image/png": "[encoded data removed]",
      "text/plain": [
       "<Figure size 1440x216 with 1 Axes>"
      ]
     },
     "metadata": {
      "needs_background": "light"
     },
     "output_type": "display_data"
    }
   ],
   "source": [
    "baskets.groupby(\"date\").spent.sum().plot.bar(x=\"date\",figsize=(20,3))"
   ]
  },
  {
   "cell_type": "code",
   "execution_count": 30,
   "metadata": {},
   "outputs": [
    {
     "data": {
      "text/plain": [
       "<AxesSubplot:>"
      ]
     },
     "execution_count": 30,
     "metadata": {},
     "output_type": "execute_result"
    },
    {
     "data": {
      "image/png": "[encoded data removed]",
      "text/plain": [
       "<Figure size 1440x216 with 1 Axes>"
      ]
     },
     "metadata": {
      "needs_background": "light"
     },
     "output_type": "display_data"
    }
   ],
   "source": [
    "baskets.groupby(\"sku_id\")['spent'].mean().sort_values(ascending=False).reset_index(drop=True).plot(figsize=(20,3))"
   ]
  },
  {
   "cell_type": "markdown",
   "metadata": {},
   "source": [
    "### what can be observed from those plot? \n",
    " - there are a bit less than 2 thousands SKUs\n",
    " - less than 10 percents of the SKUs contribute to the majority of the spent"
   ]
  },
  {
   "cell_type": "code",
   "execution_count": 31,
   "metadata": {},
   "outputs": [
    {
     "data": {
      "text/html": [
       "<div>\n",
       "<style scoped>\n",
       "    .dataframe tbody tr th:only-of-type {\n",
       "        vertical-align: middle;\n",
       "    }\n",
       "\n",
       "    .dataframe tbody tr th {\n",
       "        vertical-align: top;\n",
       "    }\n",
       "\n",
       "    .dataframe thead th {\n",
       "        text-align: right;\n",
       "    }\n",
       "</style>\n",
       "<table border=\"1\" class=\"dataframe\">\n",
       "  <thead>\n",
       "    <tr style=\"text-align: right;\">\n",
       "      <th></th>\n",
       "      <th>sku_id</th>\n",
       "      <th>spent</th>\n",
       "    </tr>\n",
       "  </thead>\n",
       "  <tbody>\n",
       "    <tr>\n",
       "      <th>0</th>\n",
       "      <td>207</td>\n",
       "      <td>28356000.0</td>\n",
       "    </tr>\n",
       "    <tr>\n",
       "      <th>1</th>\n",
       "      <td>1502</td>\n",
       "      <td>25050000.0</td>\n",
       "    </tr>\n",
       "    <tr>\n",
       "      <th>2</th>\n",
       "      <td>970</td>\n",
       "      <td>22530000.0</td>\n",
       "    </tr>\n",
       "    <tr>\n",
       "      <th>3</th>\n",
       "      <td>865</td>\n",
       "      <td>18575000.0</td>\n",
       "    </tr>\n",
       "    <tr>\n",
       "      <th>4</th>\n",
       "      <td>874</td>\n",
       "      <td>16175000.0</td>\n",
       "    </tr>\n",
       "    <tr>\n",
       "      <th>5</th>\n",
       "      <td>990</td>\n",
       "      <td>15030000.0</td>\n",
       "    </tr>\n",
       "    <tr>\n",
       "      <th>6</th>\n",
       "      <td>1737</td>\n",
       "      <td>11835000.0</td>\n",
       "    </tr>\n",
       "    <tr>\n",
       "      <th>7</th>\n",
       "      <td>872</td>\n",
       "      <td>10335000.0</td>\n",
       "    </tr>\n",
       "    <tr>\n",
       "      <th>8</th>\n",
       "      <td>1736</td>\n",
       "      <td>8715000.0</td>\n",
       "    </tr>\n",
       "    <tr>\n",
       "      <th>9</th>\n",
       "      <td>975</td>\n",
       "      <td>8190000.0</td>\n",
       "    </tr>\n",
       "  </tbody>\n",
       "</table>\n",
       "</div>"
      ],
      "text/plain": [
       "   sku_id       spent\n",
       "0     207  28356000.0\n",
       "1    1502  25050000.0\n",
       "2     970  22530000.0\n",
       "3     865  18575000.0\n",
       "4     874  16175000.0\n",
       "5     990  15030000.0\n",
       "6    1737  11835000.0\n",
       "7     872  10335000.0\n",
       "8    1736   8715000.0\n",
       "9     975   8190000.0"
      ]
     },
     "execution_count": 31,
     "metadata": {},
     "output_type": "execute_result"
    }
   ],
   "source": [
    "baskets.groupby(\"sku_id\")['spent'].max().sort_values(ascending=False).reset_index().head(10)"
   ]
  },
  {
   "cell_type": "markdown",
   "metadata": {},
   "source": [
    " - inspect the prices of a few top items"
   ]
  },
  {
   "cell_type": "code",
   "execution_count": 32,
   "metadata": {},
   "outputs": [
    {
     "data": {
      "text/plain": [
       "<AxesSubplot:xlabel='date'>"
      ]
     },
     "execution_count": 32,
     "metadata": {},
     "output_type": "execute_result"
    },
    {
     "data": {
      "image/png": "[encoded data removed]",
      "text/plain": [
       "<Figure size 1440x360 with 1 Axes>"
      ]
     },
     "metadata": {
      "needs_background": "light"
     },
     "output_type": "display_data"
    }
   ],
   "source": [
    "baskets.query(\"sku_id==207\").groupby(['date']).price.mean().plot(figsize=(20,5))"
   ]
  },
  {
   "cell_type": "code",
   "execution_count": 33,
   "metadata": {},
   "outputs": [
    {
     "data": {
      "text/plain": [
       "<AxesSubplot:xlabel='date'>"
      ]
     },
     "execution_count": 33,
     "metadata": {},
     "output_type": "execute_result"
    },
    {
     "data": {
      "image/png": "[encoded data removed]",
      "text/plain": [
       "<Figure size 1440x360 with 1 Axes>"
      ]
     },
     "metadata": {
      "needs_background": "light"
     },
     "output_type": "display_data"
    }
   ],
   "source": [
    "baskets.query(\"sku_id==1502\").groupby(['date']).price.mean().plot(figsize=(20,5))"
   ]
  },
  {
   "cell_type": "code",
   "execution_count": null,
   "metadata": {},
   "outputs": [],
   "source": []
  },
  {
   "cell_type": "code",
   "execution_count": 34,
   "metadata": {},
   "outputs": [
    {
     "data": {
      "text/plain": [
       "<AxesSubplot:xlabel='date'>"
      ]
     },
     "execution_count": 34,
     "metadata": {},
     "output_type": "execute_result"
    },
    {
     "data": {
      "image/png": "[encoded data removed]",
      "text/plain": [
       "<Figure size 1440x360 with 1 Axes>"
      ]
     },
     "metadata": {
      "needs_background": "light"
     },
     "output_type": "display_data"
    }
   ],
   "source": [
    "baskets.query(\"sku_id==970\").groupby(['date']).price.mean().plot(figsize=(20,5))"
   ]
  },
  {
   "cell_type": "code",
   "execution_count": 35,
   "metadata": {},
   "outputs": [
    {
     "data": {
      "text/plain": [
       "<AxesSubplot:xlabel='date'>"
      ]
     },
     "execution_count": 35,
     "metadata": {},
     "output_type": "execute_result"
    },
    {
     "data": {
      "image/png": "[encoded data removed]",
      "text/plain": [
       "<Figure size 1440x360 with 1 Axes>"
      ]
     },
     "metadata": {
      "needs_background": "light"
     },
     "output_type": "display_data"
    }
   ],
   "source": [
    "baskets.query(\"sku_id==865\").groupby(['date']).price.mean().plot(figsize=(20,5))"
   ]
  },
  {
   "cell_type": "code",
   "execution_count": 36,
   "metadata": {},
   "outputs": [
    {
     "data": {
      "text/plain": [
       "<AxesSubplot:xlabel='date'>"
      ]
     },
     "execution_count": 36,
     "metadata": {},
     "output_type": "execute_result"
    },
    {
     "data": {
      "image/png": "[encoded data removed]",
      "text/plain": [
       "<Figure size 1440x360 with 1 Axes>"
      ]
     },
     "metadata": {
      "needs_background": "light"
     },
     "output_type": "display_data"
    }
   ],
   "source": [
    "baskets.query(\"sku_id==874\").groupby(['date']).price.mean().plot(figsize=(20,5))"
   ]
  },
  {
   "cell_type": "code",
   "execution_count": 37,
   "metadata": {},
   "outputs": [
    {
     "data": {
      "text/plain": [
       "<AxesSubplot:xlabel='merchant_id'>"
      ]
     },
     "execution_count": 37,
     "metadata": {},
     "output_type": "execute_result"
    },
    {
     "data": {
      "image/png": "[encoded data removed]",
      "text/plain": [
       "<Figure size 1440x360 with 1 Axes>"
      ]
     },
     "metadata": {
      "needs_background": "light"
     },
     "output_type": "display_data"
    }
   ],
   "source": [
    "plt.style.use('seaborn-bright')\n",
    "baskets.groupby(['merchant_id']).agg(\n",
    "    num_months = (\"year_month\", \"nunique\"),\n",
    "    num_orders = (\"order_id\", \"nunique\")).plot(figsize=(20,5))\n"
   ]
  },
  {
   "cell_type": "markdown",
   "metadata": {},
   "source": [
    "### inspection of mean price by top level categories\n",
    " - need to take mean over all items"
   ]
  },
  {
   "cell_type": "code",
   "execution_count": 38,
   "metadata": {},
   "outputs": [
    {
     "data": {
      "text/plain": [
       "top_cat\n",
       "1.0      97580.697252\n",
       "2.0      21320.363636\n",
       "3.0      29576.258993\n",
       "4.0      82935.773206\n",
       "5.0      84103.356815\n",
       "6.0      49551.724138\n",
       "7.0      28565.217391\n",
       "8.0      42216.867470\n",
       "9.0      28994.596542\n",
       "10.0     86334.939256\n",
       "11.0     10579.418573\n",
       "12.0     82492.356305\n",
       "13.0    113974.576271\n",
       "14.0     89044.576501\n",
       "15.0     82022.032556\n",
       "16.0     87878.549228\n",
       "17.0     56868.246612\n",
       "18.0     40298.293490\n",
       "19.0     52304.409820\n",
       "20.0     85665.354500\n",
       "21.0     20881.221218\n",
       "22.0     37205.275531\n",
       "23.0     41762.303727\n",
       "24.0     77237.727760\n",
       "25.0    103773.208743\n",
       "26.0     87192.381326\n",
       "27.0    155862.902361\n",
       "28.0     76928.478825\n",
       "29.0     69254.997814\n",
       "30.0     56616.165495\n",
       "31.0     87500.476948\n",
       "32.0     37882.910789\n",
       "33.0     45912.602459\n",
       "34.0     77723.006302\n",
       "35.0     41674.176514\n",
       "Name: price, dtype: float64"
      ]
     },
     "execution_count": 38,
     "metadata": {},
     "output_type": "execute_result"
    }
   ],
   "source": [
    "baskets.groupby(by='top_cat')['price'].mean()"
   ]
  },
  {
   "cell_type": "code",
   "execution_count": 58,
   "metadata": {},
   "outputs": [
    {
     "data": {
      "text/plain": [
       "top_cat\n",
       "27.0    155862.902361\n",
       "13.0    113974.576271\n",
       "25.0    103773.208743\n",
       "1.0      97580.697252\n",
       "14.0     89044.576501\n",
       "16.0     87878.549228\n",
       "31.0     87500.476948\n",
       "26.0     87192.381326\n",
       "10.0     86334.939256\n",
       "20.0     85665.354500\n",
       "5.0      84103.356815\n",
       "4.0      82935.773206\n",
       "12.0     82492.356305\n",
       "15.0     82022.032556\n",
       "34.0     77723.006302\n",
       "24.0     77237.727760\n",
       "28.0     76928.478825\n",
       "29.0     69254.997814\n",
       "17.0     56868.246612\n",
       "30.0     56616.165495\n",
       "19.0     52304.409820\n",
       "6.0      49551.724138\n",
       "33.0     45912.602459\n",
       "8.0      42216.867470\n",
       "23.0     41762.303727\n",
       "35.0     41674.176514\n",
       "18.0     40298.293490\n",
       "32.0     37882.910789\n",
       "22.0     37205.275531\n",
       "3.0      29576.258993\n",
       "9.0      28994.596542\n",
       "7.0      28565.217391\n",
       "2.0      21320.363636\n",
       "21.0     20881.221218\n",
       "11.0     10579.418573\n",
       "Name: price, dtype: float64"
      ]
     },
     "execution_count": 58,
     "metadata": {},
     "output_type": "execute_result"
    }
   ],
   "source": [
    "baskets.groupby(by='top_cat')['price'].mean().sort_values(ascending=False)"
   ]
  },
  {
   "cell_type": "code",
   "execution_count": 60,
   "metadata": {},
   "outputs": [
    {
     "data": {
      "text/plain": [
       "<AxesSubplot:xlabel='top_cat'>"
      ]
     },
     "execution_count": 60,
     "metadata": {},
     "output_type": "execute_result"
    },
    {
     "data": {
      "image/png": "[encoded data removed]",
      "text/plain": [
       "<Figure size 1440x360 with 1 Axes>"
      ]
     },
     "metadata": {
      "needs_background": "light"
     },
     "output_type": "display_data"
    }
   ],
   "source": [
    "baskets.groupby(by='top_cat')['price'].mean().sort_values(ascending=False).plot(figsize=(20,5))"
   ]
  },
  {
   "attachments": {},
   "cell_type": "markdown",
   "metadata": {},
   "source": [
    "- hmm, it actually plots the line from top priced category to lowest priced category"
   ]
  },
  {
   "cell_type": "code",
   "execution_count": 61,
   "metadata": {},
   "outputs": [
    {
     "data": {
      "text/plain": [
       "<AxesSubplot:>"
      ]
     },
     "execution_count": 61,
     "metadata": {},
     "output_type": "execute_result"
    },
    {
     "data": {
      "image/png": "[encoded data removed]",
      "text/plain": [
       "<Figure size 1440x360 with 1 Axes>"
      ]
     },
     "metadata": {
      "needs_background": "light"
     },
     "output_type": "display_data"
    }
   ],
   "source": [
    "baskets.groupby(by='top_cat')['price'].mean().sort_values(ascending=False).reset_index(drop=True).plot(figsize=(20,5))"
   ]
  },
  {
   "attachments": {},
   "cell_type": "markdown",
   "metadata": {},
   "source": [
    " - hmm, but this plot lost the connection of price with the categories, as it is indexed by ranking"
   ]
  },
  {
   "cell_type": "code",
   "execution_count": 41,
   "metadata": {},
   "outputs": [
    {
     "data": {
      "text/plain": [
       "<AxesSubplot:xlabel='top_cat'>"
      ]
     },
     "execution_count": 41,
     "metadata": {},
     "output_type": "execute_result"
    },
    {
     "data": {
      "image/png": "[encoded data removed]",
      "text/plain": [
       "<Figure size 1440x360 with 1 Axes>"
      ]
     },
     "metadata": {
      "needs_background": "light"
     },
     "output_type": "display_data"
    }
   ],
   "source": [
    "baskets.groupby(by='top_cat')['price'].mean().reset_index().plot.bar(x=\"top_cat\",figsize=(20,5))"
   ]
  },
  {
   "cell_type": "markdown",
   "metadata": {},
   "source": [
    " - scatter plot"
   ]
  },
  {
   "cell_type": "code",
   "execution_count": 63,
   "metadata": {},
   "outputs": [
    {
     "data": {
      "text/plain": [
       "<AxesSubplot:xlabel='top_cat', ylabel='price'>"
      ]
     },
     "execution_count": 63,
     "metadata": {},
     "output_type": "execute_result"
    },
    {
     "data": {
      "image/png": "[encoded data removed]",
      "text/plain": [
       "<Figure size 720x720 with 1 Axes>"
      ]
     },
     "metadata": {
      "needs_background": "light"
     },
     "output_type": "display_data"
    }
   ],
   "source": [
    "baskets.plot.scatter(x=\"top_cat\",y=\"price\", figsize = (10,10))"
   ]
  },
  {
   "attachments": {},
   "cell_type": "markdown",
   "metadata": {},
   "source": [
    " - observe the difference between the above two charts"
   ]
  },
  {
   "cell_type": "code",
   "execution_count": 42,
   "metadata": {},
   "outputs": [
    {
     "data": {
      "text/plain": [
       "<AxesSubplot:xlabel='num_days', ylabel='num_skus'>"
      ]
     },
     "execution_count": 42,
     "metadata": {},
     "output_type": "execute_result"
    },
    {
     "data": {
      "image/png": "[encoded data removed]",
      "text/plain": [
       "<Figure size 576x576 with 1 Axes>"
      ]
     },
     "metadata": {
      "needs_background": "light"
     },
     "output_type": "display_data"
    }
   ],
   "source": [
    "merchant_attributes.plot.scatter(x=\"num_days\",y=\"num_skus\",figsize=(8,8))"
   ]
  },
  {
   "cell_type": "code",
   "execution_count": 43,
   "metadata": {},
   "outputs": [
    {
     "data": {
      "text/plain": [
       "<AxesSubplot:>"
      ]
     },
     "execution_count": 43,
     "metadata": {},
     "output_type": "execute_result"
    },
    {
     "data": {
      "image/png": "[encoded data removed]",
      "text/plain": [
       "<Figure size 1440x360 with 1 Axes>"
      ]
     },
     "metadata": {
      "needs_background": "light"
     },
     "output_type": "display_data"
    }
   ],
   "source": [
    "baskets.price.sort_values(ascending = False).reset_index(drop=True).plot(figsize=(20,5))"
   ]
  },
  {
   "attachments": {},
   "cell_type": "markdown",
   "metadata": {},
   "source": [
    " - plot the log value of the prices"
   ]
  },
  {
   "cell_type": "code",
   "execution_count": 44,
   "metadata": {},
   "outputs": [
    {
     "data": {
      "text/plain": [
       "<AxesSubplot:>"
      ]
     },
     "execution_count": 44,
     "metadata": {},
     "output_type": "execute_result"
    },
    {
     "data": {
      "image/png": "[encoded data removed]",
      "text/plain": [
       "<Figure size 1440x360 with 1 Axes>"
      ]
     },
     "metadata": {
      "needs_background": "light"
     },
     "output_type": "display_data"
    }
   ],
   "source": [
    "np.log(baskets.price.sort_values(ascending = False).reset_index(drop=True)).plot(figsize=(20,5))"
   ]
  },
  {
   "cell_type": "code",
   "execution_count": 45,
   "metadata": {},
   "outputs": [
    {
     "data": {
      "text/plain": [
       "<AxesSubplot:>"
      ]
     },
     "execution_count": 45,
     "metadata": {},
     "output_type": "execute_result"
    },
    {
     "data": {
      "image/png": "[encoded data removed]",
      "text/plain": [
       "<Figure size 1440x360 with 1 Axes>"
      ]
     },
     "metadata": {
      "needs_background": "light"
     },
     "output_type": "display_data"
    }
   ],
   "source": [
    "baskets.price.sort_values(ascending = False).reset_index(drop=True)[1000:].plot(figsize=(20,5))"
   ]
  },
  {
   "cell_type": "code",
   "execution_count": 46,
   "metadata": {},
   "outputs": [
    {
     "data": {
      "text/plain": [
       "<AxesSubplot:>"
      ]
     },
     "execution_count": 46,
     "metadata": {},
     "output_type": "execute_result"
    },
    {
     "data": {
      "image/png": "[encoded data removed]",
      "text/plain": [
       "<Figure size 1440x360 with 1 Axes>"
      ]
     },
     "metadata": {
      "needs_background": "light"
     },
     "output_type": "display_data"
    }
   ],
   "source": [
    "baskets.price.sort_values(ascending = False).reset_index(drop=True)[10:1000].plot(figsize=(20,5))"
   ]
  },
  {
   "cell_type": "code",
   "execution_count": 66,
   "metadata": {},
   "outputs": [
    {
     "data": {
      "text/html": [
       "<div>\n",
       "<style scoped>\n",
       "    .dataframe tbody tr th:only-of-type {\n",
       "        vertical-align: middle;\n",
       "    }\n",
       "\n",
       "    .dataframe tbody tr th {\n",
       "        vertical-align: top;\n",
       "    }\n",
       "\n",
       "    .dataframe thead th {\n",
       "        text-align: right;\n",
       "    }\n",
       "</style>\n",
       "<table border=\"1\" class=\"dataframe\">\n",
       "  <thead>\n",
       "    <tr style=\"text-align: right;\">\n",
       "      <th></th>\n",
       "      <th>id</th>\n",
       "      <th>order_id</th>\n",
       "      <th>placed_at</th>\n",
       "      <th>merchant_id</th>\n",
       "      <th>sku_id</th>\n",
       "      <th>top_cat</th>\n",
       "      <th>sub_cat</th>\n",
       "      <th>quantity</th>\n",
       "      <th>price</th>\n",
       "      <th>spent</th>\n",
       "      <th>...</th>\n",
       "      <th>date</th>\n",
       "      <th>day</th>\n",
       "      <th>hour</th>\n",
       "      <th>weekday</th>\n",
       "      <th>year_month</th>\n",
       "      <th>month_num</th>\n",
       "      <th>year_week</th>\n",
       "      <th>week_num</th>\n",
       "      <th>iso_week_num</th>\n",
       "      <th>cum_week_num</th>\n",
       "    </tr>\n",
       "  </thead>\n",
       "  <tbody>\n",
       "    <tr>\n",
       "      <th>0</th>\n",
       "      <td>1</td>\n",
       "      <td>1</td>\n",
       "      <td>2021-06-17 14:00:31.373</td>\n",
       "      <td>9</td>\n",
       "      <td>10</td>\n",
       "      <td>27.0</td>\n",
       "      <td>86.0</td>\n",
       "      <td>2</td>\n",
       "      <td>343000.0</td>\n",
       "      <td>686000.0</td>\n",
       "      <td>...</td>\n",
       "      <td>2021-06-17</td>\n",
       "      <td>17</td>\n",
       "      <td>14</td>\n",
       "      <td>3</td>\n",
       "      <td>2021-06</td>\n",
       "      <td>6</td>\n",
       "      <td>2021-24</td>\n",
       "      <td>24</td>\n",
       "      <td>24</td>\n",
       "      <td>24</td>\n",
       "    </tr>\n",
       "    <tr>\n",
       "      <th>1</th>\n",
       "      <td>2</td>\n",
       "      <td>1</td>\n",
       "      <td>2021-06-17 14:00:31.373</td>\n",
       "      <td>9</td>\n",
       "      <td>6</td>\n",
       "      <td>27.0</td>\n",
       "      <td>86.0</td>\n",
       "      <td>1</td>\n",
       "      <td>159000.0</td>\n",
       "      <td>159000.0</td>\n",
       "      <td>...</td>\n",
       "      <td>2021-06-17</td>\n",
       "      <td>17</td>\n",
       "      <td>14</td>\n",
       "      <td>3</td>\n",
       "      <td>2021-06</td>\n",
       "      <td>6</td>\n",
       "      <td>2021-24</td>\n",
       "      <td>24</td>\n",
       "      <td>24</td>\n",
       "      <td>24</td>\n",
       "    </tr>\n",
       "    <tr>\n",
       "      <th>2</th>\n",
       "      <td>3</td>\n",
       "      <td>1</td>\n",
       "      <td>2021-06-17 14:00:31.373</td>\n",
       "      <td>9</td>\n",
       "      <td>14</td>\n",
       "      <td>27.0</td>\n",
       "      <td>86.0</td>\n",
       "      <td>2</td>\n",
       "      <td>225000.0</td>\n",
       "      <td>450000.0</td>\n",
       "      <td>...</td>\n",
       "      <td>2021-06-17</td>\n",
       "      <td>17</td>\n",
       "      <td>14</td>\n",
       "      <td>3</td>\n",
       "      <td>2021-06</td>\n",
       "      <td>6</td>\n",
       "      <td>2021-24</td>\n",
       "      <td>24</td>\n",
       "      <td>24</td>\n",
       "      <td>24</td>\n",
       "    </tr>\n",
       "    <tr>\n",
       "      <th>3</th>\n",
       "      <td>4</td>\n",
       "      <td>1</td>\n",
       "      <td>2021-06-17 14:00:31.373</td>\n",
       "      <td>9</td>\n",
       "      <td>5</td>\n",
       "      <td>27.0</td>\n",
       "      <td>86.0</td>\n",
       "      <td>1</td>\n",
       "      <td>246000.0</td>\n",
       "      <td>246000.0</td>\n",
       "      <td>...</td>\n",
       "      <td>2021-06-17</td>\n",
       "      <td>17</td>\n",
       "      <td>14</td>\n",
       "      <td>3</td>\n",
       "      <td>2021-06</td>\n",
       "      <td>6</td>\n",
       "      <td>2021-24</td>\n",
       "      <td>24</td>\n",
       "      <td>24</td>\n",
       "      <td>24</td>\n",
       "    </tr>\n",
       "    <tr>\n",
       "      <th>4</th>\n",
       "      <td>5</td>\n",
       "      <td>2</td>\n",
       "      <td>2021-06-17 14:29:31.918</td>\n",
       "      <td>10</td>\n",
       "      <td>15</td>\n",
       "      <td>27.0</td>\n",
       "      <td>86.0</td>\n",
       "      <td>5</td>\n",
       "      <td>19500.0</td>\n",
       "      <td>97500.0</td>\n",
       "      <td>...</td>\n",
       "      <td>2021-06-17</td>\n",
       "      <td>17</td>\n",
       "      <td>14</td>\n",
       "      <td>3</td>\n",
       "      <td>2021-06</td>\n",
       "      <td>6</td>\n",
       "      <td>2021-24</td>\n",
       "      <td>24</td>\n",
       "      <td>24</td>\n",
       "      <td>24</td>\n",
       "    </tr>\n",
       "    <tr>\n",
       "      <th>...</th>\n",
       "      <td>...</td>\n",
       "      <td>...</td>\n",
       "      <td>...</td>\n",
       "      <td>...</td>\n",
       "      <td>...</td>\n",
       "      <td>...</td>\n",
       "      <td>...</td>\n",
       "      <td>...</td>\n",
       "      <td>...</td>\n",
       "      <td>...</td>\n",
       "      <td>...</td>\n",
       "      <td>...</td>\n",
       "      <td>...</td>\n",
       "      <td>...</td>\n",
       "      <td>...</td>\n",
       "      <td>...</td>\n",
       "      <td>...</td>\n",
       "      <td>...</td>\n",
       "      <td>...</td>\n",
       "      <td>...</td>\n",
       "      <td>...</td>\n",
       "    </tr>\n",
       "    <tr>\n",
       "      <th>492432</th>\n",
       "      <td>492433</td>\n",
       "      <td>53438</td>\n",
       "      <td>2022-12-31 18:14:45.659</td>\n",
       "      <td>184</td>\n",
       "      <td>1500</td>\n",
       "      <td>27.0</td>\n",
       "      <td>86.0</td>\n",
       "      <td>5</td>\n",
       "      <td>21000.0</td>\n",
       "      <td>105000.0</td>\n",
       "      <td>...</td>\n",
       "      <td>2022-12-31</td>\n",
       "      <td>31</td>\n",
       "      <td>18</td>\n",
       "      <td>5</td>\n",
       "      <td>2022-12</td>\n",
       "      <td>24</td>\n",
       "      <td>2022-52</td>\n",
       "      <td>52</td>\n",
       "      <td>52</td>\n",
       "      <td>104</td>\n",
       "    </tr>\n",
       "    <tr>\n",
       "      <th>492433</th>\n",
       "      <td>492434</td>\n",
       "      <td>53438</td>\n",
       "      <td>2022-12-31 18:14:45.659</td>\n",
       "      <td>184</td>\n",
       "      <td>1655</td>\n",
       "      <td>18.0</td>\n",
       "      <td>61.0</td>\n",
       "      <td>1</td>\n",
       "      <td>38000.0</td>\n",
       "      <td>38000.0</td>\n",
       "      <td>...</td>\n",
       "      <td>2022-12-31</td>\n",
       "      <td>31</td>\n",
       "      <td>18</td>\n",
       "      <td>5</td>\n",
       "      <td>2022-12</td>\n",
       "      <td>24</td>\n",
       "      <td>2022-52</td>\n",
       "      <td>52</td>\n",
       "      <td>52</td>\n",
       "      <td>104</td>\n",
       "    </tr>\n",
       "    <tr>\n",
       "      <th>492434</th>\n",
       "      <td>492435</td>\n",
       "      <td>53438</td>\n",
       "      <td>2022-12-31 18:14:45.659</td>\n",
       "      <td>184</td>\n",
       "      <td>1504</td>\n",
       "      <td>27.0</td>\n",
       "      <td>86.0</td>\n",
       "      <td>1</td>\n",
       "      <td>274000.0</td>\n",
       "      <td>274000.0</td>\n",
       "      <td>...</td>\n",
       "      <td>2022-12-31</td>\n",
       "      <td>31</td>\n",
       "      <td>18</td>\n",
       "      <td>5</td>\n",
       "      <td>2022-12</td>\n",
       "      <td>24</td>\n",
       "      <td>2022-52</td>\n",
       "      <td>52</td>\n",
       "      <td>52</td>\n",
       "      <td>104</td>\n",
       "    </tr>\n",
       "    <tr>\n",
       "      <th>492435</th>\n",
       "      <td>492436</td>\n",
       "      <td>53438</td>\n",
       "      <td>2022-12-31 18:14:45.659</td>\n",
       "      <td>184</td>\n",
       "      <td>984</td>\n",
       "      <td>27.0</td>\n",
       "      <td>86.0</td>\n",
       "      <td>5</td>\n",
       "      <td>19400.0</td>\n",
       "      <td>97000.0</td>\n",
       "      <td>...</td>\n",
       "      <td>2022-12-31</td>\n",
       "      <td>31</td>\n",
       "      <td>18</td>\n",
       "      <td>5</td>\n",
       "      <td>2022-12</td>\n",
       "      <td>24</td>\n",
       "      <td>2022-52</td>\n",
       "      <td>52</td>\n",
       "      <td>52</td>\n",
       "      <td>104</td>\n",
       "    </tr>\n",
       "    <tr>\n",
       "      <th>492436</th>\n",
       "      <td>492437</td>\n",
       "      <td>53438</td>\n",
       "      <td>2022-12-31 18:14:45.659</td>\n",
       "      <td>184</td>\n",
       "      <td>866</td>\n",
       "      <td>27.0</td>\n",
       "      <td>86.0</td>\n",
       "      <td>5</td>\n",
       "      <td>21200.0</td>\n",
       "      <td>106000.0</td>\n",
       "      <td>...</td>\n",
       "      <td>2022-12-31</td>\n",
       "      <td>31</td>\n",
       "      <td>18</td>\n",
       "      <td>5</td>\n",
       "      <td>2022-12</td>\n",
       "      <td>24</td>\n",
       "      <td>2022-52</td>\n",
       "      <td>52</td>\n",
       "      <td>52</td>\n",
       "      <td>104</td>\n",
       "    </tr>\n",
       "  </tbody>\n",
       "</table>\n",
       "<p>492437 rows × 23 columns</p>\n",
       "</div>"
      ],
      "text/plain": [
       "            id  order_id                placed_at  merchant_id  sku_id  \\\n",
       "0            1         1  2021-06-17 14:00:31.373            9      10   \n",
       "1            2         1  2021-06-17 14:00:31.373            9       6   \n",
       "2            3         1  2021-06-17 14:00:31.373            9      14   \n",
       "3            4         1  2021-06-17 14:00:31.373            9       5   \n",
       "4            5         2  2021-06-17 14:29:31.918           10      15   \n",
       "...        ...       ...                      ...          ...     ...   \n",
       "492432  492433     53438  2022-12-31 18:14:45.659          184    1500   \n",
       "492433  492434     53438  2022-12-31 18:14:45.659          184    1655   \n",
       "492434  492435     53438  2022-12-31 18:14:45.659          184    1504   \n",
       "492435  492436     53438  2022-12-31 18:14:45.659          184     984   \n",
       "492436  492437     53438  2022-12-31 18:14:45.659          184     866   \n",
       "\n",
       "        top_cat  sub_cat  quantity     price     spent  ...        date  day  \\\n",
       "0          27.0     86.0         2  343000.0  686000.0  ...  2021-06-17   17   \n",
       "1          27.0     86.0         1  159000.0  159000.0  ...  2021-06-17   17   \n",
       "2          27.0     86.0         2  225000.0  450000.0  ...  2021-06-17   17   \n",
       "3          27.0     86.0         1  246000.0  246000.0  ...  2021-06-17   17   \n",
       "4          27.0     86.0         5   19500.0   97500.0  ...  2021-06-17   17   \n",
       "...         ...      ...       ...       ...       ...  ...         ...  ...   \n",
       "492432     27.0     86.0         5   21000.0  105000.0  ...  2022-12-31   31   \n",
       "492433     18.0     61.0         1   38000.0   38000.0  ...  2022-12-31   31   \n",
       "492434     27.0     86.0         1  274000.0  274000.0  ...  2022-12-31   31   \n",
       "492435     27.0     86.0         5   19400.0   97000.0  ...  2022-12-31   31   \n",
       "492436     27.0     86.0         5   21200.0  106000.0  ...  2022-12-31   31   \n",
       "\n",
       "        hour weekday  year_month  month_num  year_week week_num  iso_week_num  \\\n",
       "0         14       3     2021-06          6    2021-24       24            24   \n",
       "1         14       3     2021-06          6    2021-24       24            24   \n",
       "2         14       3     2021-06          6    2021-24       24            24   \n",
       "3         14       3     2021-06          6    2021-24       24            24   \n",
       "4         14       3     2021-06          6    2021-24       24            24   \n",
       "...      ...     ...         ...        ...        ...      ...           ...   \n",
       "492432    18       5     2022-12         24    2022-52       52            52   \n",
       "492433    18       5     2022-12         24    2022-52       52            52   \n",
       "492434    18       5     2022-12         24    2022-52       52            52   \n",
       "492435    18       5     2022-12         24    2022-52       52            52   \n",
       "492436    18       5     2022-12         24    2022-52       52            52   \n",
       "\n",
       "       cum_week_num  \n",
       "0                24  \n",
       "1                24  \n",
       "2                24  \n",
       "3                24  \n",
       "4                24  \n",
       "...             ...  \n",
       "492432          104  \n",
       "492433          104  \n",
       "492434          104  \n",
       "492435          104  \n",
       "492436          104  \n",
       "\n",
       "[492437 rows x 23 columns]"
      ]
     },
     "execution_count": 66,
     "metadata": {},
     "output_type": "execute_result"
    }
   ],
   "source": [
    "baskets.rename(columns = {\"qty\": \"quantity\"})"
   ]
  },
  {
   "attachments": {},
   "cell_type": "markdown",
   "metadata": {},
   "source": [
    " - change column names"
   ]
  },
  {
   "cell_type": "code",
   "execution_count": 67,
   "metadata": {},
   "outputs": [
    {
     "data": {
      "text/plain": [
       "Index(['id', 'order_id', 'placed_at', 'merchant_id', 'sku_id', 'top_cat',\n",
       "       'sub_cat', 'qty', 'price', 'spent', 'datetime', 'year', 'month', 'date',\n",
       "       'day', 'hour', 'weekday', 'year_month', 'month_num', 'year_week',\n",
       "       'week_num', 'iso_week_num', 'cum_week_num'],\n",
       "      dtype='object')"
      ]
     },
     "execution_count": 67,
     "metadata": {},
     "output_type": "execute_result"
    }
   ],
   "source": [
    "baskets.columns"
   ]
  },
  {
   "attachments": {},
   "cell_type": "markdown",
   "metadata": {},
   "source": [
    " - change column names need to specify inplace"
   ]
  },
  {
   "cell_type": "code",
   "execution_count": 68,
   "metadata": {},
   "outputs": [
    {
     "data": {
      "text/plain": [
       "Index(['id', 'order_id', 'placed_at', 'merchant_id', 'sku_id', 'top_cat',\n",
       "       'sub_cat', 'quantity', 'price', 'spent', 'datetime', 'year', 'month',\n",
       "       'date', 'day', 'hour', 'weekday', 'year_month', 'month_num',\n",
       "       'year_week', 'week_num', 'iso_week_num', 'cum_week_num'],\n",
       "      dtype='object')"
      ]
     },
     "execution_count": 68,
     "metadata": {},
     "output_type": "execute_result"
    }
   ],
   "source": [
    "baskets.rename(columns = {\"qty\": \"quantity\"}, inplace = True)\n",
    "baskets.columns"
   ]
  },
  {
   "cell_type": "code",
   "execution_count": null,
   "metadata": {},
   "outputs": [],
   "source": []
  }
 ],
 "metadata": {
  "colab": {
   "name": "AwanTunai.ipynb",
   "provenance": []
  },
  "kernelspec": {
   "display_name": "Python 3 (ipykernel)",
   "language": "python",
   "name": "python3"
  },
  "language_info": {
   "codemirror_mode": {
    "name": "ipython",
    "version": 3
   },
   "file_extension": ".py",
   "mimetype": "text/x-python",
   "name": "python",
   "nbconvert_exporter": "python",
   "pygments_lexer": "ipython3",
   "version": "3.9.12 (main, Apr  5 2022, 01:53:17) \n[Clang 12.0.0 ]"
  },
  "vscode": {
   "interpreter": {
    "hash": "e57d65b3db466a255fb366a0fd9ddb903b84d832e81688bf0eb6e7b10d96915d"
   }
  }
 },
 "nbformat": 4,
 "nbformat_minor": 4
}
