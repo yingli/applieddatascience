{
 "cells": [
  {
   "attachments": {},
   "cell_type": "markdown",
   "id": "4db0ee2e",
   "metadata": {},
   "source": [
    "## Part 3 of regression analysis\n",
    " - focus on using statsmodels module"
   ]
  },
  {
   "attachments": {},
   "cell_type": "markdown",
   "id": "fe71f8be",
   "metadata": {},
   "source": [
    "### The purpose of this notebook is to study relationships between different entities within the transaction data through regression analysis.\n",
    " - in partticular, we want to answer the questions whether merchant grow their spending over time. \n",
    " - for simplistic demonstration, we start by running regression on total spent over price, does total spent grow as price increases?\n",
    " - note that this may not be a good example of questions, because we have created some correlation already by computiing spent as multiplication of quantity and price price. \n",
    " - a better question to ask is: do merchants increase their spent as their tenures increase? "
   ]
  },
  {
   "attachments": {},
   "cell_type": "markdown",
   "id": "23b2a6aa-a59e-413f-b48a-9f53acdf7a33",
   "metadata": {
    "jp-MarkdownHeadingCollapsed": true,
    "tags": []
   },
   "source": [
    "### setting up data and utility functions"
   ]
  },
  {
   "cell_type": "code",
   "execution_count": 1,
   "id": "ded8a307-69f0-438f-b0b5-7d527433607e",
   "metadata": {},
   "outputs": [],
   "source": [
    "import pandas as pd\n",
    "import numpy as np\n",
    "from datetime import datetime, timedelta\n",
    "import seaborn as sns\n",
    "import matplotlib.pyplot as plt\n",
    "import statsmodels.api as sm\n",
    "import statsmodels.formula.api as smf\n",
    "import math\n",
    "import util_transaction_data\n",
    "from util_transaction_data import *"
   ]
  },
  {
   "attachments": {},
   "cell_type": "markdown",
   "id": "ac4d2ada",
   "metadata": {},
   "source": [
    "### preparing the analysis table\n",
    " - unit of study is SKU, so we may want to start with a table for SKU attributes, each row for one SKU\n",
    " - the values of study are price and spent, but we don't want just one average price and one total spent for the SKU over all times\n",
    " - we want to study the changes in spent over price, we want to keep some dimension for variances in the analysis table\n",
    " - we can start with price and spent on each week over all merchants: then we want to compute the average price for the week and total spent by the week, for all merchants"
   ]
  },
  {
   "cell_type": "code",
   "execution_count": 2,
   "id": "e63de32b-276e-4116-8409-94869fa80153",
   "metadata": {},
   "outputs": [],
   "source": [
    "filename = './AwanTunai_transaction_data.csv'\n",
    "baskets = pd.read_csv(filename)\n",
    "baskets[\"spent\"] = baskets[\"qty\"] * baskets[\"price\"] # column wide multiplication\n",
    "baskets = add_date_cols(baskets)\n",
    "merchant_attributes = get_merchant_attributes(baskets)"
   ]
  },
  {
   "cell_type": "code",
   "execution_count": 3,
   "id": "95f25607",
   "metadata": {},
   "outputs": [],
   "source": [
    "sku_week = get_skus_by_week(baskets)"
   ]
  },
  {
   "cell_type": "code",
   "execution_count": 21,
   "id": "1b8ab764",
   "metadata": {},
   "outputs": [
    {
     "name": "stdout",
     "output_type": "stream",
     "text": [
      "                             OLS Regression Results                            \n",
      "===============================================================================\n",
      "Dep. Variable:     total_spent_by_week   R-squared:                       0.155\n",
      "Model:                             OLS   Adj. R-squared:                  0.141\n",
      "Method:                  Least Squares   F-statistic:                     11.52\n",
      "Date:                 Fri, 27 Jan 2023   Prob (F-statistic):            0.00120\n",
      "Time:                         12:18:35   Log-Likelihood:                -1166.9\n",
      "No. Observations:                   65   AIC:                             2338.\n",
      "Df Residuals:                       63   BIC:                             2342.\n",
      "Df Model:                            1                                         \n",
      "Covariance Type:             nonrobust                                         \n",
      "=====================================================================================\n",
      "                        coef    std err          t      P>|t|      [0.025      0.975]\n",
      "-------------------------------------------------------------------------------------\n",
      "Intercept         -6.338e+07   4.17e+07     -1.521      0.133   -1.47e+08    1.99e+07\n",
      "avg_price_by_week   366.8819    108.108      3.394      0.001     150.844     582.919\n",
      "==============================================================================\n",
      "Omnibus:                       37.214   Durbin-Watson:                   1.711\n",
      "Prob(Omnibus):                  0.000   Jarque-Bera (JB):               95.636\n",
      "Skew:                          -1.809   Prob(JB):                     1.71e-21\n",
      "Kurtosis:                       7.714   Cond. No.                     8.41e+06\n",
      "==============================================================================\n",
      "\n",
      "Notes:\n",
      "[1] Standard Errors assume that the covariance matrix of the errors is correctly specified.\n",
      "[2] The condition number is large, 8.41e+06. This might indicate that there are\n",
      "strong multicollinearity or other numerical problems.\n"
     ]
    }
   ],
   "source": [
    "sku_week_970 = sku_week.query(\"sku_id == 970\").reset_index()\n",
    "sku_week_972 = sku_week.query(\"sku_id == 972\").reset_index()\n",
    "\n",
    "model = smf.ols(formula='total_spent_by_week ~ avg_price_by_week', \n",
    "    data=sku_week_972).fit()\n",
    "print(model.summary())"
   ]
  },
  {
   "cell_type": "code",
   "execution_count": 22,
   "id": "440fc563",
   "metadata": {},
   "outputs": [
    {
     "data": {
      "text/html": [
       "<table class=\"simpletable\">\n",
       "<tr>\n",
       "        <td>Model:</td>                <td>OLS</td>           <td>Adj. R-squared:</td>      <td>0.141</td>  \n",
       "</tr>\n",
       "<tr>\n",
       "  <td>Dependent Variable:</td> <td>total_spent_by_week</td>        <td>AIC:</td>          <td>2337.8843</td>\n",
       "</tr>\n",
       "<tr>\n",
       "         <td>Date:</td>         <td>2023-01-27 12:18</td>          <td>BIC:</td>          <td>2342.2331</td>\n",
       "</tr>\n",
       "<tr>\n",
       "   <td>No. Observations:</td>          <td>65</td>            <td>Log-Likelihood:</td>     <td>-1166.9</td> \n",
       "</tr>\n",
       "<tr>\n",
       "       <td>Df Model:</td>               <td>1</td>             <td>F-statistic:</td>        <td>11.52</td>  \n",
       "</tr>\n",
       "<tr>\n",
       "     <td>Df Residuals:</td>            <td>63</td>          <td>Prob (F-statistic):</td>   <td>0.00120</td> \n",
       "</tr>\n",
       "<tr>\n",
       "      <td>R-squared:</td>             <td>0.155</td>              <td>Scale:</td>        <td>2.3705e+14</td>\n",
       "</tr>\n",
       "</table>\n",
       "<table class=\"simpletable\">\n",
       "<tr>\n",
       "          <td></td>               <th>Coef.</th>       <th>Std.Err.</th>       <th>t</th>     <th>P>|t|</th>     <th>[0.025</th>         <th>0.975]</th>    \n",
       "</tr>\n",
       "<tr>\n",
       "  <th>Intercept</th>         <td>-63383595.6551</td> <td>41672826.9929</td> <td>-1.5210</td> <td>0.1333</td> <td>-146660095.3252</td> <td>19892904.0151</td>\n",
       "</tr>\n",
       "<tr>\n",
       "  <th>avg_price_by_week</th>    <td>366.8819</td>      <td>108.1084</td>    <td>3.3936</td>  <td>0.0012</td>    <td>150.8445</td>       <td>582.9194</td>   \n",
       "</tr>\n",
       "</table>\n",
       "<table class=\"simpletable\">\n",
       "<tr>\n",
       "     <td>Omnibus:</td>    <td>37.214</td>  <td>Durbin-Watson:</td>    <td>1.711</td> \n",
       "</tr>\n",
       "<tr>\n",
       "  <td>Prob(Omnibus):</td>  <td>0.000</td> <td>Jarque-Bera (JB):</td> <td>95.636</td> \n",
       "</tr>\n",
       "<tr>\n",
       "       <td>Skew:</td>     <td>-1.809</td>     <td>Prob(JB):</td>      <td>0.000</td> \n",
       "</tr>\n",
       "<tr>\n",
       "     <td>Kurtosis:</td>    <td>7.714</td>  <td>Condition No.:</td>   <td>8411704</td>\n",
       "</tr>\n",
       "</table>"
      ],
      "text/plain": [
       "<class 'statsmodels.iolib.summary2.Summary'>\n",
       "\"\"\"\n",
       "                              Results: Ordinary least squares\n",
       "===========================================================================================\n",
       "Model:                     OLS                        Adj. R-squared:            0.141     \n",
       "Dependent Variable:        total_spent_by_week        AIC:                       2337.8843 \n",
       "Date:                      2023-01-27 12:18           BIC:                       2342.2331 \n",
       "No. Observations:          65                         Log-Likelihood:            -1166.9   \n",
       "Df Model:                  1                          F-statistic:               11.52     \n",
       "Df Residuals:              63                         Prob (F-statistic):        0.00120   \n",
       "R-squared:                 0.155                      Scale:                     2.3705e+14\n",
       "-------------------------------------------------------------------------------------------\n",
       "                      Coef.         Std.Err.      t    P>|t|       [0.025         0.975]   \n",
       "-------------------------------------------------------------------------------------------\n",
       "Intercept         -63383595.6551 41672826.9929 -1.5210 0.1333 -146660095.3252 19892904.0151\n",
       "avg_price_by_week       366.8819      108.1084  3.3936 0.0012        150.8445      582.9194\n",
       "-------------------------------------------------------------------------------------------\n",
       "Omnibus:                       37.214               Durbin-Watson:                  1.711  \n",
       "Prob(Omnibus):                 0.000                Jarque-Bera (JB):               95.636 \n",
       "Skew:                          -1.809               Prob(JB):                       0.000  \n",
       "Kurtosis:                      7.714                Condition No.:                  8411704\n",
       "===========================================================================================\n",
       "* The condition number is large (8e+06). This might indicate             strong\n",
       "multicollinearity or other numerical problems.\n",
       "\"\"\""
      ]
     },
     "execution_count": 22,
     "metadata": {},
     "output_type": "execute_result"
    }
   ],
   "source": [
    "model.summary2()"
   ]
  },
  {
   "cell_type": "code",
   "execution_count": 23,
   "id": "533a496d",
   "metadata": {},
   "outputs": [
    {
     "name": "stdout",
     "output_type": "stream",
     "text": [
      "                            OLS Regression Results                            \n",
      "==============================================================================\n",
      "Dep. Variable:               logspent   R-squared:                       0.115\n",
      "Model:                            OLS   Adj. R-squared:                  0.101\n",
      "Method:                 Least Squares   F-statistic:                     8.164\n",
      "Date:                Fri, 27 Jan 2023   Prob (F-statistic):            0.00578\n",
      "Time:                        12:18:54   Log-Likelihood:                -17.438\n",
      "No. Observations:                  65   AIC:                             38.88\n",
      "Df Residuals:                      63   BIC:                             43.22\n",
      "Df Model:                           1                                         \n",
      "Covariance Type:            nonrobust                                         \n",
      "==============================================================================\n",
      "                 coef    std err          t      P>|t|      [0.025      0.975]\n",
      "------------------------------------------------------------------------------\n",
      "Intercept    -14.1360     11.293     -1.252      0.215     -36.703       8.431\n",
      "logprice       2.5090      0.878      2.857      0.006       0.754       4.264\n",
      "==============================================================================\n",
      "Omnibus:                       72.842   Durbin-Watson:                   1.886\n",
      "Prob(Omnibus):                  0.000   Jarque-Bera (JB):              552.769\n",
      "Skew:                          -3.340   Prob(JB):                    9.28e-121\n",
      "Kurtosis:                      15.629   Cond. No.                     3.66e+03\n",
      "==============================================================================\n",
      "\n",
      "Notes:\n",
      "[1] Standard Errors assume that the covariance matrix of the errors is correctly specified.\n",
      "[2] The condition number is large, 3.66e+03. This might indicate that there are\n",
      "strong multicollinearity or other numerical problems.\n"
     ]
    }
   ],
   "source": [
    "sku_week.loc[:,[\"logspent\"]] = np.log(sku_week[\"total_spent_by_week\"])\n",
    "sku_week.loc[:,[\"logprice\"]] = np.log(sku_week[\"avg_price_by_week\"])\n",
    "sku_week_972 = sku_week.query(\"sku_id == 972\").reset_index()\n",
    "\n",
    "model = smf.ols(formula='logspent ~ logprice', data=sku_week_972).fit()\n",
    "print(model.summary())"
   ]
  },
  {
   "cell_type": "code",
   "execution_count": 6,
   "id": "f24ce7db",
   "metadata": {},
   "outputs": [],
   "source": [
    "for sku_id, grp in sku_week.groupby('sku_id'):\n",
    "    model = sm.OLS(grp['total_spent_by_week'], sm.add_constant(grp['avg_price_by_week'])).fit()\n",
    "    sku_week.loc[sku_week['sku_id'].eq(sku_id), 'beta'] = model.params['avg_price_by_week']"
   ]
  },
  {
   "cell_type": "code",
   "execution_count": 7,
   "id": "4e0d458b",
   "metadata": {},
   "outputs": [
    {
     "data": {
      "text/plain": [
       "<seaborn.axisgrid.FacetGrid at 0x7fae82b968e0>"
      ]
     },
     "execution_count": 7,
     "metadata": {},
     "output_type": "execute_result"
    },
    {
     "data": {
      "image/png": "[encoded data removed]",
      "text/plain": [
       "<Figure size 416.25x360 with 1 Axes>"
      ]
     },
     "metadata": {
      "needs_background": "light"
     },
     "output_type": "display_data"
    }
   ],
   "source": [
    "#f, axes = plt.figure(figsize = (20,5))\n",
    "sku_week_beta = sku_week[[\"sku_id\",\"beta\"]].drop_duplicates()\n",
    "sku_week_beta[\"beta_sign\"] = pd.Categorical(np.sign(sku_week_beta[\"beta\"]))\n",
    "sku_week_beta[\"beta_abs_log\"] = np.log(np.abs(sku_week_beta[\"beta\"]))\n",
    "sns.displot(data=sku_week_beta,x=\"beta_abs_log\",hue=\"beta_sign\", kind='kde')\n"
   ]
  },
  {
   "cell_type": "code",
   "execution_count": 8,
   "id": "330c6d90",
   "metadata": {},
   "outputs": [
    {
     "name": "stderr",
     "output_type": "stream",
     "text": [
      "/Users/yingli/opt/anaconda3/lib/python3.9/site-packages/seaborn/distributions.py:2619: FutureWarning: `distplot` is a deprecated function and will be removed in a future version. Please adapt your code to use either `displot` (a figure-level function with similar flexibility) or `histplot` (an axes-level function for histograms).\n",
      "  warnings.warn(msg, FutureWarning)\n",
      "/Users/yingli/opt/anaconda3/lib/python3.9/site-packages/seaborn/distributions.py:2619: FutureWarning: `distplot` is a deprecated function and will be removed in a future version. Please adapt your code to use either `displot` (a figure-level function with similar flexibility) or `histplot` (an axes-level function for histograms).\n",
      "  warnings.warn(msg, FutureWarning)\n"
     ]
    },
    {
     "data": {
      "text/plain": [
       "<AxesSubplot:xlabel='beta', ylabel='Density'>"
      ]
     },
     "execution_count": 8,
     "metadata": {},
     "output_type": "execute_result"
    },
    {
     "data": {
      "image/png": "[encoded data removed]",
      "text/plain": [
       "<Figure size 432x288 with 1 Axes>"
      ]
     },
     "metadata": {
      "needs_background": "light"
     },
     "output_type": "display_data"
    }
   ],
   "source": [
    "sns.distplot(np.log(np.abs(sku_week_beta[sku_week_beta.beta < 0][\"beta\"])))\n",
    "sns.distplot(np.log(sku_week_beta[sku_week_beta.beta > 0][\"beta\"]))"
   ]
  }
 ],
 "metadata": {
  "kernelspec": {
   "display_name": "base",
   "language": "python",
   "name": "python3"
  },
  "language_info": {
   "codemirror_mode": {
    "name": "ipython",
    "version": 3
   },
   "file_extension": ".py",
   "mimetype": "text/x-python",
   "name": "python",
   "nbconvert_exporter": "python",
   "pygments_lexer": "ipython3",
   "version": "3.9.12"
  },
  "vscode": {
   "interpreter": {
    "hash": "e57d65b3db466a255fb366a0fd9ddb903b84d832e81688bf0eb6e7b10d96915d"
   }
  }
 },
 "nbformat": 4,
 "nbformat_minor": 5
}
