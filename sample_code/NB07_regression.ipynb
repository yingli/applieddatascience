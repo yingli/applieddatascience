{
 "cells": [
  {
   "attachments": {},
   "cell_type": "markdown",
   "id": "fe71f8be",
   "metadata": {},
   "source": [
    "## The purpose of this notebook is to study relationships between different entities within the transaction data through regression analysis.\n",
    " - in partticular, we want to answer the questions whether merchant grow their spending over time. \n",
    " - for simplistic demonstration, we start by running regression on total spent over price, does total spent grow as price increases?\n",
    " - note that this may not be a good example of questions, because we have created some correlation already by computiing spent as multiplication of quantity and price price. \n",
    " - a better question to ask is: do merchants increase their spent as their tenures increase? "
   ]
  },
  {
   "attachments": {},
   "cell_type": "markdown",
   "id": "23b2a6aa-a59e-413f-b48a-9f53acdf7a33",
   "metadata": {
    "jp-MarkdownHeadingCollapsed": true,
    "tags": []
   },
   "source": [
    "### setting up data and utility functions"
   ]
  },
  {
   "cell_type": "code",
   "execution_count": 2,
   "id": "ded8a307-69f0-438f-b0b5-7d527433607e",
   "metadata": {},
   "outputs": [],
   "source": [
    "import pandas as pd\n",
    "import numpy as np\n",
    "from datetime import datetime, timedelta\n",
    "import seaborn as sns\n",
    "import matplotlib.pyplot as plt\n",
    "import statsmodels.api as sm\n",
    "import statsmodels.formula.api as smf"
   ]
  },
  {
   "cell_type": "code",
   "execution_count": 3,
   "id": "c7d3144d",
   "metadata": {},
   "outputs": [],
   "source": [
    "def add_date_cols(baskets):\n",
    "    baskets['datetime'] = pd.to_datetime(baskets['placed_at'])\n",
    "    baskets['year'] = baskets[\"datetime\"].dt.year\n",
    "    baskets['month'] = baskets[\"datetime\"].dt.month\n",
    "    baskets['date'] = baskets[\"datetime\"].dt.date\n",
    "    baskets['day'] = baskets[\"datetime\"].dt.day\n",
    "    baskets['hour'] = baskets[\"datetime\"].dt.hour\n",
    "    baskets['weekday'] = baskets[\"datetime\"].dt.weekday\n",
    "    baskets['year_month'] = baskets[\"datetime\"].apply(lambda t: t.strftime(\"%Y-%m\"))\n",
    "    baskets['month_num'] = (baskets['year'] - 2021) * 12 + baskets['month']\n",
    "    baskets['year_week'] = baskets[\"datetime\"].apply(lambda t: t.strftime(\"%Y-%W\")) # this makes the beginning of Jan 2022 as week 2022-00 , not 2022-52\n",
    "    baskets['week_num'] = baskets[\"datetime\"].apply(lambda t: int(t.strftime(\"%W\"))) \n",
    "    baskets['iso_week_num'] = baskets[\"datetime\"].dt.isocalendar().week # this returns week number 52 for Jan 1, 2021, not 0 which is what we want\n",
    "    baskets['cum_week_num'] = (baskets['year'] - 2021) * 52 + baskets['week_num']\n",
    "    return baskets\n",
    "def get_merchant_attributes(baskets):\n",
    "    merchant_attributes = baskets.groupby(['merchant_id']).agg(\n",
    "        total_spent = ('spent', 'sum'), \n",
    "        num_orders = ('order_id', 'nunique'), \n",
    "        first_month = ('month_num', 'min'), \n",
    "        last_month = ('month_num', 'max'), \n",
    "        num_months = ('month_num', 'nunique'), \n",
    "        num_weeks = ('week_num', 'nunique'), \n",
    "        num_days = ('date', 'nunique'), \n",
    "        num_skus = ('sku_id','nunique'), \n",
    "        num_top_cats = ('top_cat','nunique'), \n",
    "        num_sub_cats = ('sub_cat','nunique'),\n",
    "    ).reset_index()\n",
    "    merchant_attributes['avg_spent_per_order'] = merchant_attributes.total_spent / merchant_attributes.num_orders\n",
    "    merchant_attributes['tenure_month'] = merchant_attributes.last_month - merchant_attributes.first_month +1\n",
    "    return merchant_attributes"
   ]
  },
  {
   "attachments": {},
   "cell_type": "markdown",
   "id": "ac4d2ada",
   "metadata": {},
   "source": [
    "### preparing the analysis table\n",
    " - unit of study is SKU, so we may want to start with a table for SKU attributes, each row for one SKU\n"
   ]
  },
  {
   "cell_type": "code",
   "execution_count": 4,
   "id": "dae5287a",
   "metadata": {},
   "outputs": [],
   "source": [
    "def get_sku_attributes(baskets):\n",
    "    sku_attributes = baskets.groupby(['sku_id']).agg(\n",
    "        total_spent = ('spent', 'sum'), \n",
    "        num_orders = ('order_id', 'nunique'), \n",
    "        num_merchants = ('merchant_id', 'nunique'), \n",
    "        first_month = ('month_num', 'min'), \n",
    "        last_month = ('month_num', 'max'), \n",
    "        num_months = ('month_num', 'nunique'), \n",
    "        first_week = ('week_num', 'min'), \n",
    "        last_week = ('week_num', 'max'), \n",
    "        num_weeks = ('week_num', 'nunique'), \n",
    "        num_days = ('date', 'nunique'), \n",
    "    ).reset_index()\n",
    "    sku_attributes['avg_spent_per_order'] = sku_attributes.total_spent / sku_attributes.num_orders\n",
    "    sku_attributes['tenure_month'] = sku_attributes.last_month - sku_attributes.first_month +1\n",
    "    return sku_attributes"
   ]
  },
  {
   "attachments": {},
   "cell_type": "markdown",
   "id": "2af9f382",
   "metadata": {},
   "source": [
    " - the values of study are price and spent, but we don't want just one average price and one total spent for the SKU over all times\n",
    " - we want to study the changes in spent over price, we want to keep some dimension for variances in the analysis table\n",
    " - we can start with price and spent on each week over all merchants: then we want to compute the average price for the week and total spent by the week, for all merchants"
   ]
  },
  {
   "cell_type": "code",
   "execution_count": 5,
   "id": "937cb2b3",
   "metadata": {},
   "outputs": [],
   "source": [
    "def get_skus_by_week(baskets):\n",
    "    skus_by_week = baskets.groupby(['sku_id','year_week']).agg(\n",
    "        avg_price_by_week = ('price','mean'),\n",
    "        num_order_by_week = ('order_id', 'nunique'), \n",
    "        num_merchants_by_week = ('merchant_id', 'nunique'),\n",
    "        total_spent_by_week = ('spent', 'sum'),\n",
    "    ).reset_index()\n",
    "    return skus_by_week"
   ]
  },
  {
   "cell_type": "code",
   "execution_count": 6,
   "id": "e63de32b-276e-4116-8409-94869fa80153",
   "metadata": {},
   "outputs": [],
   "source": [
    "filename = './AwanTunai_transaction_data.csv'\n",
    "baskets = pd.read_csv(filename)\n",
    "baskets[\"spent\"] = baskets[\"qty\"] * baskets[\"price\"] # column wide multiplication\n",
    "baskets = add_date_cols(baskets)\n",
    "merchant_attributes = get_merchant_attributes(baskets)"
   ]
  },
  {
   "cell_type": "code",
   "execution_count": 6,
   "id": "5d0ed762",
   "metadata": {},
   "outputs": [],
   "source": [
    "sku_week = get_skus_by_week(baskets)"
   ]
  },
  {
   "cell_type": "code",
   "execution_count": 7,
   "id": "60ce9980",
   "metadata": {},
   "outputs": [
    {
     "data": {
      "text/html": [
       "<div>\n",
       "<style scoped>\n",
       "    .dataframe tbody tr th:only-of-type {\n",
       "        vertical-align: middle;\n",
       "    }\n",
       "\n",
       "    .dataframe tbody tr th {\n",
       "        vertical-align: top;\n",
       "    }\n",
       "\n",
       "    .dataframe thead th {\n",
       "        text-align: right;\n",
       "    }\n",
       "</style>\n",
       "<table border=\"1\" class=\"dataframe\">\n",
       "  <thead>\n",
       "    <tr style=\"text-align: right;\">\n",
       "      <th></th>\n",
       "      <th>sku_id</th>\n",
       "      <th>avg_price_by_week</th>\n",
       "      <th>num_order_by_week</th>\n",
       "      <th>num_merchants_by_week</th>\n",
       "      <th>total_spent_by_week</th>\n",
       "    </tr>\n",
       "  </thead>\n",
       "  <tbody>\n",
       "    <tr>\n",
       "      <th>count</th>\n",
       "      <td>54344.000000</td>\n",
       "      <td>5.434400e+04</td>\n",
       "      <td>54344.000000</td>\n",
       "      <td>54344.000000</td>\n",
       "      <td>5.434400e+04</td>\n",
       "    </tr>\n",
       "    <tr>\n",
       "      <th>mean</th>\n",
       "      <td>1100.121467</td>\n",
       "      <td>1.155972e+05</td>\n",
       "      <td>9.061350</td>\n",
       "      <td>5.560614</td>\n",
       "      <td>1.561432e+06</td>\n",
       "    </tr>\n",
       "    <tr>\n",
       "      <th>std</th>\n",
       "      <td>426.431588</td>\n",
       "      <td>3.116036e+05</td>\n",
       "      <td>20.265732</td>\n",
       "      <td>8.749830</td>\n",
       "      <td>6.147552e+06</td>\n",
       "    </tr>\n",
       "    <tr>\n",
       "      <th>min</th>\n",
       "      <td>1.000000</td>\n",
       "      <td>1.331019e+02</td>\n",
       "      <td>1.000000</td>\n",
       "      <td>1.000000</td>\n",
       "      <td>1.000000e+03</td>\n",
       "    </tr>\n",
       "    <tr>\n",
       "      <th>25%</th>\n",
       "      <td>816.000000</td>\n",
       "      <td>1.450000e+04</td>\n",
       "      <td>2.000000</td>\n",
       "      <td>1.000000</td>\n",
       "      <td>9.950000e+04</td>\n",
       "    </tr>\n",
       "    <tr>\n",
       "      <th>50%</th>\n",
       "      <td>1125.000000</td>\n",
       "      <td>4.100000e+04</td>\n",
       "      <td>4.000000</td>\n",
       "      <td>3.000000</td>\n",
       "      <td>2.700000e+05</td>\n",
       "    </tr>\n",
       "    <tr>\n",
       "      <th>75%</th>\n",
       "      <td>1453.000000</td>\n",
       "      <td>1.220000e+05</td>\n",
       "      <td>8.000000</td>\n",
       "      <td>6.000000</td>\n",
       "      <td>8.052500e+05</td>\n",
       "    </tr>\n",
       "    <tr>\n",
       "      <th>max</th>\n",
       "      <td>1860.000000</td>\n",
       "      <td>4.240000e+06</td>\n",
       "      <td>349.000000</td>\n",
       "      <td>133.000000</td>\n",
       "      <td>1.264344e+08</td>\n",
       "    </tr>\n",
       "  </tbody>\n",
       "</table>\n",
       "</div>"
      ],
      "text/plain": [
       "             sku_id  avg_price_by_week  num_order_by_week  \\\n",
       "count  54344.000000       5.434400e+04       54344.000000   \n",
       "mean    1100.121467       1.155972e+05           9.061350   \n",
       "std      426.431588       3.116036e+05          20.265732   \n",
       "min        1.000000       1.331019e+02           1.000000   \n",
       "25%      816.000000       1.450000e+04           2.000000   \n",
       "50%     1125.000000       4.100000e+04           4.000000   \n",
       "75%     1453.000000       1.220000e+05           8.000000   \n",
       "max     1860.000000       4.240000e+06         349.000000   \n",
       "\n",
       "       num_merchants_by_week  total_spent_by_week  \n",
       "count           54344.000000         5.434400e+04  \n",
       "mean                5.560614         1.561432e+06  \n",
       "std                 8.749830         6.147552e+06  \n",
       "min                 1.000000         1.000000e+03  \n",
       "25%                 1.000000         9.950000e+04  \n",
       "50%                 3.000000         2.700000e+05  \n",
       "75%                 6.000000         8.052500e+05  \n",
       "max               133.000000         1.264344e+08  "
      ]
     },
     "execution_count": 7,
     "metadata": {},
     "output_type": "execute_result"
    }
   ],
   "source": [
    "sku_week.describe()"
   ]
  },
  {
   "attachments": {},
   "cell_type": "markdown",
   "id": "1359bf11",
   "metadata": {},
   "source": [
    "### pick some individual SKUs to study further"
   ]
  },
  {
   "cell_type": "code",
   "execution_count": 8,
   "id": "a77b97ae",
   "metadata": {},
   "outputs": [
    {
     "data": {
      "text/plain": [
       "<AxesSubplot:>"
      ]
     },
     "execution_count": 8,
     "metadata": {},
     "output_type": "execute_result"
    },
    {
     "data": {
      "image/png": "[encoded data removed]",
      "text/plain": [
       "<Figure size 1440x360 with 2 Axes>"
      ]
     },
     "metadata": {
      "needs_background": "light"
     },
     "output_type": "display_data"
    }
   ],
   "source": [
    "f, axes = plt.subplots(1, 2, figsize = (20,5))\n",
    "sku_week.query(\"sku_id ==970\").avg_price_by_week.plot(ax=axes[0])\n",
    "sku_week.query(\"sku_id ==970\").total_spent_by_week.plot(ax=axes[1])"
   ]
  },
  {
   "cell_type": "code",
   "execution_count": 9,
   "id": "334a0f10",
   "metadata": {},
   "outputs": [
    {
     "data": {
      "text/plain": [
       "<AxesSubplot:>"
      ]
     },
     "execution_count": 9,
     "metadata": {},
     "output_type": "execute_result"
    },
    {
     "data": {
      "image/png": "[encoded data removed]",
      "text/plain": [
       "<Figure size 1440x360 with 2 Axes>"
      ]
     },
     "metadata": {
      "needs_background": "light"
     },
     "output_type": "display_data"
    }
   ],
   "source": [
    "f, axes = plt.subplots(1, 2, figsize = (20,5))\n",
    "sku_week.query(\"sku_id ==972\").avg_price_by_week.plot(ax=axes[0])\n",
    "sku_week.query(\"sku_id ==972\").total_spent_by_week.plot(ax=axes[1])"
   ]
  },
  {
   "cell_type": "code",
   "execution_count": 10,
   "id": "4e59d674",
   "metadata": {},
   "outputs": [
    {
     "data": {
      "text/plain": [
       "<AxesSubplot:xlabel='avg_price_by_week', ylabel='total_spent_by_week'>"
      ]
     },
     "execution_count": 10,
     "metadata": {},
     "output_type": "execute_result"
    },
    {
     "data": {
      "image/png": "[encoded data removed]",
      "text/plain": [
       "<Figure size 1440x360 with 2 Axes>"
      ]
     },
     "metadata": {
      "needs_background": "light"
     },
     "output_type": "display_data"
    }
   ],
   "source": [
    "f, axes = plt.subplots(1, 2, figsize = (20,5))\n",
    "sku_week.query(\"sku_id ==970\").plot.scatter(x=\"avg_price_by_week\", y=\"total_spent_by_week\",ax=axes[0])\n",
    "sku_week.query(\"sku_id ==972\").plot.scatter(x=\"avg_price_by_week\", y=\"total_spent_by_week\",ax=axes[1])"
   ]
  },
  {
   "cell_type": "code",
   "execution_count": 11,
   "id": "c1b3d0ac",
   "metadata": {},
   "outputs": [],
   "source": [
    "sku_week_970 = sku_week.query(\"sku_id == 970\").reset_index()\n",
    "sku_week_972 = sku_week.query(\"sku_id == 972\").reset_index()"
   ]
  },
  {
   "attachments": {},
   "cell_type": "markdown",
   "id": "34765105",
   "metadata": {},
   "source": [
    "### using Sklearn library to conduct regression analysis"
   ]
  },
  {
   "attachments": {},
   "cell_type": "markdown",
   "id": "f81f7b9b",
   "metadata": {},
   "source": [
    " - study an individual SKU , e.g., 970, or 972"
   ]
  },
  {
   "cell_type": "code",
   "execution_count": 12,
   "id": "3008ef7a",
   "metadata": {},
   "outputs": [
    {
     "data": {
      "text/html": [
       "<style>#sk-container-id-1 {color: black;background-color: white;}#sk-container-id-1 pre{padding: 0;}#sk-container-id-1 div.sk-toggleable {background-color: white;}#sk-container-id-1 label.sk-toggleable__label {cursor: pointer;display: block;width: 100%;margin-bottom: 0;padding: 0.3em;box-sizing: border-box;text-align: center;}#sk-container-id-1 label.sk-toggleable__label-arrow:before {content: \"▸\";float: left;margin-right: 0.25em;color: #696969;}#sk-container-id-1 label.sk-toggleable__label-arrow:hover:before {color: black;}#sk-container-id-1 div.sk-estimator:hover label.sk-toggleable__label-arrow:before {color: black;}#sk-container-id-1 div.sk-toggleable__content {max-height: 0;max-width: 0;overflow: hidden;text-align: left;background-color: #f0f8ff;}#sk-container-id-1 div.sk-toggleable__content pre {margin: 0.2em;color: black;border-radius: 0.25em;background-color: #f0f8ff;}#sk-container-id-1 input.sk-toggleable__control:checked~div.sk-toggleable__content {max-height: 200px;max-width: 100%;overflow: auto;}#sk-container-id-1 input.sk-toggleable__control:checked~label.sk-toggleable__label-arrow:before {content: \"▾\";}#sk-container-id-1 div.sk-estimator input.sk-toggleable__control:checked~label.sk-toggleable__label {background-color: #d4ebff;}#sk-container-id-1 div.sk-label input.sk-toggleable__control:checked~label.sk-toggleable__label {background-color: #d4ebff;}#sk-container-id-1 input.sk-hidden--visually {border: 0;clip: rect(1px 1px 1px 1px);clip: rect(1px, 1px, 1px, 1px);height: 1px;margin: -1px;overflow: hidden;padding: 0;position: absolute;width: 1px;}#sk-container-id-1 div.sk-estimator {font-family: monospace;background-color: #f0f8ff;border: 1px dotted black;border-radius: 0.25em;box-sizing: border-box;margin-bottom: 0.5em;}#sk-container-id-1 div.sk-estimator:hover {background-color: #d4ebff;}#sk-container-id-1 div.sk-parallel-item::after {content: \"\";width: 100%;border-bottom: 1px solid gray;flex-grow: 1;}#sk-container-id-1 div.sk-label:hover label.sk-toggleable__label {background-color: #d4ebff;}#sk-container-id-1 div.sk-serial::before {content: \"\";position: absolute;border-left: 1px solid gray;box-sizing: border-box;top: 0;bottom: 0;left: 50%;z-index: 0;}#sk-container-id-1 div.sk-serial {display: flex;flex-direction: column;align-items: center;background-color: white;padding-right: 0.2em;padding-left: 0.2em;position: relative;}#sk-container-id-1 div.sk-item {position: relative;z-index: 1;}#sk-container-id-1 div.sk-parallel {display: flex;align-items: stretch;justify-content: center;background-color: white;position: relative;}#sk-container-id-1 div.sk-item::before, #sk-container-id-1 div.sk-parallel-item::before {content: \"\";position: absolute;border-left: 1px solid gray;box-sizing: border-box;top: 0;bottom: 0;left: 50%;z-index: -1;}#sk-container-id-1 div.sk-parallel-item {display: flex;flex-direction: column;z-index: 1;position: relative;background-color: white;}#sk-container-id-1 div.sk-parallel-item:first-child::after {align-self: flex-end;width: 50%;}#sk-container-id-1 div.sk-parallel-item:last-child::after {align-self: flex-start;width: 50%;}#sk-container-id-1 div.sk-parallel-item:only-child::after {width: 0;}#sk-container-id-1 div.sk-dashed-wrapped {border: 1px dashed gray;margin: 0 0.4em 0.5em 0.4em;box-sizing: border-box;padding-bottom: 0.4em;background-color: white;}#sk-container-id-1 div.sk-label label {font-family: monospace;font-weight: bold;display: inline-block;line-height: 1.2em;}#sk-container-id-1 div.sk-label-container {text-align: center;}#sk-container-id-1 div.sk-container {/* jupyter's `normalize.less` sets `[hidden] { display: none; }` but bootstrap.min.css set `[hidden] { display: none !important; }` so we also need the `!important` here to be able to override the default hidden behavior on the sphinx rendered scikit-learn.org. See: https://github.com/scikit-learn/scikit-learn/issues/21755 */display: inline-block !important;position: relative;}#sk-container-id-1 div.sk-text-repr-fallback {display: none;}</style><div id=\"sk-container-id-1\" class=\"sk-top-container\"><div class=\"sk-text-repr-fallback\"><pre>LinearRegression()</pre><b>In a Jupyter environment, please rerun this cell to show the HTML representation or trust the notebook. <br />On GitHub, the HTML representation is unable to render, please try loading this page with nbviewer.org.</b></div><div class=\"sk-container\" hidden><div class=\"sk-item\"><div class=\"sk-estimator sk-toggleable\"><input class=\"sk-toggleable__control sk-hidden--visually\" id=\"sk-estimator-id-1\" type=\"checkbox\" checked><label for=\"sk-estimator-id-1\" class=\"sk-toggleable__label sk-toggleable__label-arrow\">LinearRegression</label><div class=\"sk-toggleable__content\"><pre>LinearRegression()</pre></div></div></div></div></div>"
      ],
      "text/plain": [
       "LinearRegression()"
      ]
     },
     "execution_count": 12,
     "metadata": {},
     "output_type": "execute_result"
    }
   ],
   "source": [
    "from sklearn.linear_model import LinearRegression\n",
    "lr = LinearRegression() \n",
    "X = sku_week.query(\"sku_id == 970\")[[\"avg_price_by_week\"]].to_numpy()\n",
    "y = sku_week.query(\"sku_id == 970\")[\"total_spent_by_week\"].to_numpy()\n",
    "lr.fit(X, y) "
   ]
  },
  {
   "attachments": {},
   "cell_type": "markdown",
   "id": "037a0946",
   "metadata": {},
   "source": [
    " - plot the data using scatter plot\n",
    " - plot the regression line using the predicted value of X, which should line up as a straight line as a linear model"
   ]
  },
  {
   "cell_type": "code",
   "execution_count": 13,
   "id": "3fcdeac5",
   "metadata": {},
   "outputs": [
    {
     "data": {
      "text/plain": [
       "[<matplotlib.lines.Line2D at 0x7fdb0a08a0a0>]"
      ]
     },
     "execution_count": 13,
     "metadata": {},
     "output_type": "execute_result"
    },
    {
     "data": {
      "image/png": "[encoded data removed]",
      "text/plain": [
       "<Figure size 432x288 with 1 Axes>"
      ]
     },
     "metadata": {
      "needs_background": "light"
     },
     "output_type": "display_data"
    }
   ],
   "source": [
    "plt.scatter(X, y, c='blue')\n",
    "plt.plot(X, lr.predict(X), color='red')    "
   ]
  },
  {
   "cell_type": "markdown",
   "id": "f0494b53",
   "metadata": {},
   "source": []
  },
  {
   "attachments": {},
   "cell_type": "markdown",
   "id": "74dd818f",
   "metadata": {},
   "source": [
    " - print the coefficients and parameters\n",
    " - notice the negative beta, which seems to make sense wth the scatter plot of the data points"
   ]
  },
  {
   "cell_type": "code",
   "execution_count": 14,
   "id": "7021fe77",
   "metadata": {},
   "outputs": [
    {
     "data": {
      "text/plain": [
       "(array([-18.18436086]),\n",
       " 85495266.87350011,\n",
       " {'copy_X': True,\n",
       "  'fit_intercept': True,\n",
       "  'n_jobs': None,\n",
       "  'normalize': 'deprecated',\n",
       "  'positive': False},\n",
       " 0.0920583515928346)"
      ]
     },
     "execution_count": 14,
     "metadata": {},
     "output_type": "execute_result"
    }
   ],
   "source": [
    "lr.coef_, lr.intercept_, lr.get_params(), lr.score(X,y)"
   ]
  },
  {
   "attachments": {},
   "cell_type": "markdown",
   "id": "ced261a8",
   "metadata": {},
   "source": [
    " - make a function for plotting"
   ]
  },
  {
   "cell_type": "code",
   "execution_count": 15,
   "id": "1cf58684",
   "metadata": {},
   "outputs": [],
   "source": [
    "%matplotlib inline\n",
    "import matplotlib.pyplot as plt\n",
    "def lin_regplot(X, y, model):\n",
    "    plt.scatter(X, y, c='blue')\n",
    "    plt.plot(X, model.predict(X), color='red')    \n",
    "    return"
   ]
  },
  {
   "cell_type": "code",
   "execution_count": 16,
   "id": "d3a9e2db",
   "metadata": {},
   "outputs": [
    {
     "name": "stdout",
     "output_type": "stream",
     "text": [
      "Slope: -18.184\n",
      "Intercept: 85495266.874\n"
     ]
    },
    {
     "data": {
      "text/plain": [
       "(None, None)"
      ]
     },
     "execution_count": 16,
     "metadata": {},
     "output_type": "execute_result"
    },
    {
     "data": {
      "image/png": "[encoded data removed]",
      "text/plain": [
       "<Figure size 432x288 with 1 Axes>"
      ]
     },
     "metadata": {
      "needs_background": "light"
     },
     "output_type": "display_data"
    }
   ],
   "source": [
    "lin_regplot(X, y, lr)\n",
    "print(\"Slope: %.3f\" % lr.coef_[0]), print(\"Intercept: %.3f\" % lr.intercept_)"
   ]
  },
  {
   "attachments": {},
   "cell_type": "markdown",
   "id": "af698124",
   "metadata": {},
   "source": [
    " - Let's do SKU 972"
   ]
  },
  {
   "cell_type": "code",
   "execution_count": 17,
   "id": "bc4525c7",
   "metadata": {},
   "outputs": [
    {
     "name": "stdout",
     "output_type": "stream",
     "text": [
      "Slope: 366.882\n",
      "Intercept: -63383595.655\n",
      "Score: 0.155\n"
     ]
    },
    {
     "data": {
      "image/png": "[encoded data removed]",
      "text/plain": [
       "<Figure size 432x288 with 1 Axes>"
      ]
     },
     "metadata": {
      "needs_background": "light"
     },
     "output_type": "display_data"
    }
   ],
   "source": [
    "lr = LinearRegression()\n",
    "X = sku_week.query(\"sku_id == 972\")[[\"avg_price_by_week\"]].to_numpy()\n",
    "y = sku_week.query(\"sku_id == 972\")[\"total_spent_by_week\"].to_numpy()\n",
    "lr = LinearRegression()\n",
    "lr.fit(X, y)\n",
    "print(\"Slope: %.3f\" % lr.coef_[0]), print(\"Intercept: %.3f\" % lr.intercept_)\n",
    "print(\"Score: %.3f\" % lr.score(X,y))\n",
    "lin_regplot(X, y, lr)"
   ]
  },
  {
   "attachments": {},
   "cell_type": "markdown",
   "id": "7d3fb4e0",
   "metadata": {},
   "source": [
    " - notice the up-trending line, and notice the outliers at bottom or far right\n",
    " - should the regression line be more steep up trending for bigger increase in spent? or, should the regression line be more horizentally flat? "
   ]
  },
  {
   "attachments": {},
   "cell_type": "markdown",
   "id": "62668bc7",
   "metadata": {},
   "source": [
    "### making robust regressions\n",
    " - using scikit-learn's RANSAC "
   ]
  },
  {
   "cell_type": "code",
   "execution_count": 18,
   "id": "834f480c",
   "metadata": {},
   "outputs": [
    {
     "name": "stdout",
     "output_type": "stream",
     "text": [
      "Slope: 5.858\n",
      "Intercept: 79579429.336\n",
      "Score: -0.052\n"
     ]
    },
    {
     "data": {
      "image/png": "[encoded data removed]",
      "text/plain": [
       "<Figure size 432x288 with 1 Axes>"
      ]
     },
     "metadata": {
      "needs_background": "light"
     },
     "output_type": "display_data"
    }
   ],
   "source": [
    "from sklearn.linear_model import RANSACRegressor\n",
    "ransac = RANSACRegressor(random_state=0)\n",
    "X = sku_week.query(\"sku_id == 972\")[[\"avg_price_by_week\"]].to_numpy()\n",
    "y = sku_week.query(\"sku_id == 972\")[\"total_spent_by_week\"].to_numpy()\n",
    "ransac.fit(X,y)\n",
    "lin_regplot(X, y, ransac)\n",
    "print(\"Slope: %.3f\" % ransac.estimator_.coef_[0])\n",
    "print(\"Intercept: %.3f\" % ransac.estimator_.intercept_)\n",
    "print(\"Score: %.3f\" % ransac.estimator_.score(X,y))"
   ]
  },
  {
   "attachments": {},
   "cell_type": "markdown",
   "id": "9d893658",
   "metadata": {},
   "source": [
    " - notice the fairly big changes in slope, intercept\n",
    " - score has reversed the sign"
   ]
  },
  {
   "cell_type": "code",
   "execution_count": 19,
   "id": "7760dc88",
   "metadata": {},
   "outputs": [
    {
     "data": {
      "text/plain": [
       "({'base_estimator': 'deprecated',\n",
       "  'estimator': None,\n",
       "  'is_data_valid': None,\n",
       "  'is_model_valid': None,\n",
       "  'loss': 'absolute_error',\n",
       "  'max_skips': inf,\n",
       "  'max_trials': 100,\n",
       "  'min_samples': None,\n",
       "  'random_state': 0,\n",
       "  'residual_threshold': None,\n",
       "  'stop_n_inliers': inf,\n",
       "  'stop_probability': 0.99,\n",
       "  'stop_score': inf},\n",
       " {'copy_X': True,\n",
       "  'fit_intercept': True,\n",
       "  'n_jobs': None,\n",
       "  'normalize': 'deprecated',\n",
       "  'positive': False})"
      ]
     },
     "execution_count": 19,
     "metadata": {},
     "output_type": "execute_result"
    }
   ],
   "source": [
    "ransac.get_params(), ransac.estimator_.get_params()"
   ]
  },
  {
   "attachments": {},
   "cell_type": "markdown",
   "id": "33625ef6",
   "metadata": {},
   "source": [
    " - we need to know which points are considered inliers by RANSAC"
   ]
  },
  {
   "cell_type": "code",
   "execution_count": 20,
   "id": "2b92e7ab",
   "metadata": {},
   "outputs": [
    {
     "data": {
      "text/plain": [
       "array([False,  True, False, False, False, False, False, False,  True,\n",
       "        True, False, False, False, False,  True, False,  True,  True,\n",
       "        True, False,  True,  True, False,  True, False, False, False,\n",
       "       False,  True,  True, False, False, False, False,  True,  True,\n",
       "       False,  True,  True, False,  True, False,  True,  True,  True,\n",
       "       False,  True,  True, False, False,  True, False, False, False,\n",
       "        True, False,  True,  True,  True,  True,  True,  True,  True,\n",
       "        True, False])"
      ]
     },
     "execution_count": 20,
     "metadata": {},
     "output_type": "execute_result"
    }
   ],
   "source": [
    "ransac.inlier_mask_"
   ]
  },
  {
   "attachments": {},
   "cell_type": "markdown",
   "id": "b0e65b85",
   "metadata": {},
   "source": [
    " - this below is adapted from scikit-learn user guide/sample code"
   ]
  },
  {
   "cell_type": "code",
   "execution_count": 21,
   "id": "fb5922a1",
   "metadata": {},
   "outputs": [
    {
     "data": {
      "image/png": "[encoded data removed]",
      "text/plain": [
       "<Figure size 432x288 with 1 Axes>"
      ]
     },
     "metadata": {
      "needs_background": "light"
     },
     "output_type": "display_data"
    },
    {
     "name": "stdout",
     "output_type": "stream",
     "text": [
      "Slope: 5.858\n",
      "Intercept: 79579429.336\n",
      "Score: -0.052\n"
     ]
    }
   ],
   "source": [
    "inlier_mask = ransac.inlier_mask_\n",
    "outlier_mask = np.logical_not(inlier_mask)\n",
    "\n",
    "plt.scatter(X[inlier_mask], y[inlier_mask],\n",
    "            c='red', edgecolor='white', \n",
    "            marker='o', label='Inliers')\n",
    "plt.scatter(X[outlier_mask], y[outlier_mask],\n",
    "            c='limegreen', edgecolor='white', \n",
    "            marker='s', label='Outliers')\n",
    "line_X = np.arange(360000, 430000, 1000)\n",
    "line_y_ransac = ransac.predict(line_X[:, np.newaxis])\n",
    "plt.plot(line_X, line_y_ransac, color='black', lw=2)   \n",
    "plt.legend(loc='lower right')\n",
    "plt.show()\n",
    "print(\"Slope: %.3f\" % ransac.estimator_.coef_[0])\n",
    "print(\"Intercept: %.3f\" % ransac.estimator_.intercept_)\n",
    "print(\"Score: %.3f\" % ransac.score(X,y))\n"
   ]
  },
  {
   "attachments": {},
   "cell_type": "markdown",
   "id": "92e53a05",
   "metadata": {},
   "source": [
    " - notice a big portion of the data are considered outliers \n",
    " - can we adjust to have bigger range for inliers so that we have less points as outliers?\n",
    " - using the parameter residual_threshold to expand the inlier range\n",
    " - default residual_threshold is set as MAD (median absolute deviation) of y\n",
    " - for the data of sku_week_972 is 6461000.0"
   ]
  },
  {
   "cell_type": "code",
   "execution_count": 22,
   "id": "4291f615",
   "metadata": {},
   "outputs": [
    {
     "data": {
      "text/plain": [
       "(6461000.0, 86894500.0)"
      ]
     },
     "execution_count": 22,
     "metadata": {},
     "output_type": "execute_result"
    }
   ],
   "source": [
    "from scipy.stats import median_abs_deviation\n",
    "median_abs_deviation(y), (max(y) - min(y))"
   ]
  },
  {
   "cell_type": "code",
   "execution_count": 23,
   "id": "855802b9",
   "metadata": {},
   "outputs": [
    {
     "data": {
      "image/png": "[encoded data removed]",
      "text/plain": [
       "<Figure size 432x288 with 1 Axes>"
      ]
     },
     "metadata": {
      "needs_background": "light"
     },
     "output_type": "display_data"
    },
    {
     "name": "stdout",
     "output_type": "stream",
     "text": [
      "Slope: 5.858\n",
      "Intercept: 79579429.336\n",
      "Score: -0.052\n"
     ]
    }
   ],
   "source": [
    "from sklearn.linear_model import RANSACRegressor\n",
    "ransac = RANSACRegressor(residual_threshold=6461000.0, random_state=0) \n",
    "X = sku_week_972[[\"avg_price_by_week\"]].values\n",
    "y = sku_week_972[\"total_spent_by_week\"].values\n",
    "ransac.fit(X,y)\n",
    "\n",
    "inlier_mask = ransac.inlier_mask_\n",
    "outlier_mask = np.logical_not(inlier_mask)\n",
    "\n",
    "line_X = np.arange(360000, 420000, 1000)\n",
    "line_y_ransac = ransac.predict(line_X[:, np.newaxis])\n",
    "plt.scatter(X[inlier_mask], y[inlier_mask],\n",
    "            c='red', edgecolor='white', \n",
    "            marker='o', label='Inliers')\n",
    "plt.scatter(X[outlier_mask], y[outlier_mask],\n",
    "            c='limegreen', edgecolor='white', \n",
    "            marker='s', label='Outliers')\n",
    "plt.plot(line_X, line_y_ransac, color='black', lw=2)   \n",
    "plt.legend(loc='lower right')\n",
    "plt.show()\n",
    "print(\"Slope: %.3f\" % ransac.estimator_.coef_[0])\n",
    "print(\"Intercept: %.3f\" % ransac.estimator_.intercept_)\n",
    "print(\"Score: %.3f\" % ransac.estimator_.score(X,y))\n"
   ]
  },
  {
   "attachments": {},
   "cell_type": "markdown",
   "id": "0549b767",
   "metadata": {},
   "source": [
    " - if we plug in the entire range of y value (86894500.0) as the residual_threshold, it should include all data points as inliers"
   ]
  },
  {
   "cell_type": "code",
   "execution_count": 24,
   "id": "f88cea52",
   "metadata": {},
   "outputs": [
    {
     "data": {
      "image/png": "[encoded data removed]",
      "text/plain": [
       "<Figure size 432x288 with 1 Axes>"
      ]
     },
     "metadata": {
      "needs_background": "light"
     },
     "output_type": "display_data"
    },
    {
     "name": "stdout",
     "output_type": "stream",
     "text": [
      "Slope: 366.882\n",
      "Intercept: -63383595.655\n",
      "Score: 0.155\n"
     ]
    }
   ],
   "source": [
    "from sklearn.linear_model import RANSACRegressor\n",
    "ransac = RANSACRegressor(residual_threshold=86894500.0,random_state=0)\n",
    "#ransac = RANSACRegressor(LinearRegression(),max_trials=100,min_samples=50,loss='absolute_error',residual_threshold=30000000.0,random_state=0)\n",
    "X = sku_week.query(\"sku_id == 972\")[[\"avg_price_by_week\"]].to_numpy()\n",
    "y = sku_week.query(\"sku_id == 972\")[\"total_spent_by_week\"].to_numpy()\n",
    "ransac.fit(X,y)\n",
    "\n",
    "inlier_mask = ransac.inlier_mask_\n",
    "outlier_mask = np.logical_not(inlier_mask)\n",
    "\n",
    "line_X = np.arange(360000, 420000, 1000)\n",
    "line_y_ransac = ransac.predict(line_X[:, np.newaxis])\n",
    "plt.scatter(X[inlier_mask], y[inlier_mask],\n",
    "            c='red', edgecolor='white', \n",
    "            marker='o', label='Inliers')\n",
    "plt.scatter(X[outlier_mask], y[outlier_mask],\n",
    "            c='limegreen', edgecolor='white', \n",
    "            marker='s', label='Outliers')\n",
    "plt.plot(line_X, line_y_ransac, color='black', lw=2)   \n",
    "plt.legend(loc='lower right')\n",
    "plt.show()\n",
    "print(\"Slope: %.3f\" % ransac.estimator_.coef_[0])\n",
    "print(\"Intercept: %.3f\" % ransac.estimator_.intercept_)\n",
    "print(\"Score: %.3f\" % ransac.estimator_.score(X,y))\n"
   ]
  },
  {
   "attachments": {},
   "cell_type": "markdown",
   "id": "6663c37a",
   "metadata": {},
   "source": [
    " - notice the above generate the same regression results on the ordinary linear regression"
   ]
  },
  {
   "cell_type": "code",
   "execution_count": 25,
   "id": "37fba47c",
   "metadata": {},
   "outputs": [
    {
     "data": {
      "image/png": "[encoded data removed]",
      "text/plain": [
       "<Figure size 432x288 with 1 Axes>"
      ]
     },
     "metadata": {
      "needs_background": "light"
     },
     "output_type": "display_data"
    },
    {
     "name": "stdout",
     "output_type": "stream",
     "text": [
      "Slope: 378.390\n",
      "Intercept: -65652727.816\n",
      "Score: 0.137\n"
     ]
    }
   ],
   "source": [
    "from sklearn.linear_model import RANSACRegressor\n",
    "ransac = RANSACRegressor(LinearRegression(),max_trials=100,min_samples=50,loss='absolute_error',residual_threshold=10000000.0,random_state=0)\n",
    "#ransac = RANSACRegressor(LinearRegression(),max_trials=100,min_samples=50,loss='absolute_error',residual_threshold=30000000.0,random_state=0)\n",
    "X = sku_week.query(\"sku_id == 972\")[[\"avg_price_by_week\"]].to_numpy()\n",
    "y = sku_week.query(\"sku_id == 972\")[\"total_spent_by_week\"].to_numpy()\n",
    "ransac.fit(X,y)\n",
    "\n",
    "inlier_mask = ransac.inlier_mask_\n",
    "outlier_mask = np.logical_not(inlier_mask)\n",
    "\n",
    "line_X = np.arange(360000, 420000, 1000)\n",
    "line_y_ransac = ransac.predict(line_X[:, np.newaxis])\n",
    "plt.scatter(X[inlier_mask], y[inlier_mask],\n",
    "            c='red', edgecolor='white', \n",
    "            marker='o', label='Inliers')\n",
    "plt.scatter(X[outlier_mask], y[outlier_mask],\n",
    "            c='limegreen', edgecolor='white', \n",
    "            marker='s', label='Outliers')\n",
    "plt.plot(line_X, line_y_ransac, color='black', lw=2)   \n",
    "plt.legend(loc='lower right')\n",
    "plt.show()\n",
    "print(\"Slope: %.3f\" % ransac.estimator_.coef_[0])\n",
    "print(\"Intercept: %.3f\" % ransac.estimator_.intercept_)\n",
    "print(\"Score: %.3f\" % ransac.estimator_.score(X,y))\n"
   ]
  },
  {
   "cell_type": "code",
   "execution_count": 26,
   "id": "27a331e3",
   "metadata": {},
   "outputs": [
    {
     "data": {
      "text/plain": [
       "[893.8609916450229,\n",
       " 121.0152641476827,\n",
       " 822.4805141449452,\n",
       " 476.5055952808517,\n",
       " 366.8819294608287,\n",
       " 109.28176125209914,\n",
       " 1405.1375076361312,\n",
       " 383.2911899955827,\n",
       " 663.6917872747402,\n",
       " -102.59839472139305,\n",
       " 348.29838582177507,\n",
       " 494.0430817151144,\n",
       " 148.51223625501632,\n",
       " 210.84378154328078,\n",
       " 245.31533060507195,\n",
       " 233.13779162652017,\n",
       " 305.18146720289417,\n",
       " 364.6444752053827,\n",
       " 80.33991053743846,\n",
       " 119.03818977806212]"
      ]
     },
     "execution_count": 26,
     "metadata": {},
     "output_type": "execute_result"
    }
   ],
   "source": [
    "sku_attributes = get_sku_attributes(baskets)\n",
    "top_skus = sku_attributes.sort_values(by=\"num_orders\",ascending=False)[[\"sku_id\"]]\n",
    "betas = [0 * i for i in range(20)]\n",
    "for i in range(20):\n",
    "    sku_id = top_skus.iloc[i]['sku_id']\n",
    "    X = sku_week[sku_week[\"sku_id\"] ==sku_id][['avg_price_by_week']].to_numpy() \n",
    "    y = sku_week[sku_week[\"sku_id\"] ==sku_id][['total_spent_by_week']].values \n",
    "    lr = LinearRegression() \n",
    "    lr.fit(X, y) \n",
    "    betas[i] = lr.coef_[0][0]\n",
    "betas"
   ]
  },
  {
   "cell_type": "code",
   "execution_count": 27,
   "id": "ba433e7e",
   "metadata": {},
   "outputs": [
    {
     "data": {
      "text/plain": [
       "[<matplotlib.lines.Line2D at 0x7fdb08d87700>]"
      ]
     },
     "execution_count": 27,
     "metadata": {},
     "output_type": "execute_result"
    },
    {
     "data": {
      "image/png": "[encoded data removed]",
      "text/plain": [
       "<Figure size 432x288 with 1 Axes>"
      ]
     },
     "metadata": {
      "needs_background": "light"
     },
     "output_type": "display_data"
    }
   ],
   "source": [
    "plt.plot(betas)"
   ]
  },
  {
   "attachments": {},
   "cell_type": "markdown",
   "id": "150a24d3",
   "metadata": {},
   "source": [
    "### run regression for all SKUs"
   ]
  },
  {
   "cell_type": "code",
   "execution_count": 28,
   "id": "2e90dfb0",
   "metadata": {},
   "outputs": [],
   "source": [
    "sku_attributes = get_sku_attributes(baskets)\n",
    "num_sku=sku_attributes.sku_id.nunique()\n",
    "sku_attributes[[\"beta\"]] = 0\n",
    "betas = [0 * i for i in range(num_sku)]\n",
    "for i in range(num_sku):\n",
    "    sku_id = sku_attributes.iloc[i]['sku_id']\n",
    "    X = sku_week[sku_week[\"sku_id\"] ==sku_id][['avg_price_by_week']].values\n",
    "    y = sku_week[sku_week[\"sku_id\"] ==sku_id][['total_spent_by_week']].values \n",
    "    lr = LinearRegression() \n",
    "    lr.fit(X, y) \n",
    "    betas[i] = lr.coef_[0][0]\n",
    "    #print(i), print(sku_id), print(betas[i])\n",
    "sku_attributes[\"beta\"] = pd.DataFrame(betas)\n"
   ]
  },
  {
   "cell_type": "code",
   "execution_count": 29,
   "id": "09d42e4f",
   "metadata": {},
   "outputs": [
    {
     "data": {
      "text/plain": [
       "count    1.860000e+03\n",
       "mean    -3.423099e+03\n",
       "std      1.017991e+05\n",
       "min     -3.331574e+06\n",
       "25%     -1.120795e+01\n",
       "50%      0.000000e+00\n",
       "75%      1.244100e+01\n",
       "max      3.165009e+05\n",
       "Name: beta, dtype: float64"
      ]
     },
     "execution_count": 29,
     "metadata": {},
     "output_type": "execute_result"
    }
   ],
   "source": [
    "sku_attributes.beta.describe()"
   ]
  },
  {
   "cell_type": "code",
   "execution_count": 30,
   "id": "c5aaff27",
   "metadata": {},
   "outputs": [
    {
     "data": {
      "text/plain": [
       "<seaborn.axisgrid.FacetGrid at 0x7fdb079c1c70>"
      ]
     },
     "execution_count": 30,
     "metadata": {},
     "output_type": "execute_result"
    },
    {
     "data": {
      "image/png": "[encoded data removed]",
      "text/plain": [
       "<Figure size 360x360 with 1 Axes>"
      ]
     },
     "metadata": {
      "needs_background": "light"
     },
     "output_type": "display_data"
    }
   ],
   "source": [
    "sns.displot(sku_attributes, x=\"beta\", kind=\"kde\")"
   ]
  },
  {
   "cell_type": "code",
   "execution_count": 31,
   "id": "d9dcb9a9",
   "metadata": {},
   "outputs": [],
   "source": [
    "sku_attributes[\"beta_sign\"] = np.sign(sku_attributes[\"beta\"])"
   ]
  },
  {
   "cell_type": "code",
   "execution_count": 32,
   "id": "585c0f51",
   "metadata": {},
   "outputs": [
    {
     "data": {
      "text/plain": [
       " 1.0    762\n",
       "-1.0    631\n",
       " 0.0    467\n",
       "Name: beta_sign, dtype: int64"
      ]
     },
     "execution_count": 32,
     "metadata": {},
     "output_type": "execute_result"
    }
   ],
   "source": [
    "sku_attributes['beta_sign'].value_counts()"
   ]
  },
  {
   "cell_type": "code",
   "execution_count": 45,
   "id": "dac44c3f",
   "metadata": {},
   "outputs": [
    {
     "data": {
      "text/html": [
       "<div>\n",
       "<style scoped>\n",
       "    .dataframe tbody tr th:only-of-type {\n",
       "        vertical-align: middle;\n",
       "    }\n",
       "\n",
       "    .dataframe tbody tr th {\n",
       "        vertical-align: top;\n",
       "    }\n",
       "\n",
       "    .dataframe thead tr th {\n",
       "        text-align: left;\n",
       "    }\n",
       "\n",
       "    .dataframe thead tr:last-of-type th {\n",
       "        text-align: right;\n",
       "    }\n",
       "</style>\n",
       "<table border=\"1\" class=\"dataframe\">\n",
       "  <thead>\n",
       "    <tr>\n",
       "      <th></th>\n",
       "      <th colspan=\"8\" halign=\"left\">total_spent</th>\n",
       "    </tr>\n",
       "    <tr>\n",
       "      <th></th>\n",
       "      <th>count</th>\n",
       "      <th>mean</th>\n",
       "      <th>std</th>\n",
       "      <th>min</th>\n",
       "      <th>25%</th>\n",
       "      <th>50%</th>\n",
       "      <th>75%</th>\n",
       "      <th>max</th>\n",
       "    </tr>\n",
       "    <tr>\n",
       "      <th>beta_sign</th>\n",
       "      <th></th>\n",
       "      <th></th>\n",
       "      <th></th>\n",
       "      <th></th>\n",
       "      <th></th>\n",
       "      <th></th>\n",
       "      <th></th>\n",
       "      <th></th>\n",
       "    </tr>\n",
       "  </thead>\n",
       "  <tbody>\n",
       "    <tr>\n",
       "      <th>-1.0</th>\n",
       "      <td>631.0</td>\n",
       "      <td>3.546715e+07</td>\n",
       "      <td>1.192347e+08</td>\n",
       "      <td>88500.0</td>\n",
       "      <td>1821000.0</td>\n",
       "      <td>4882000.0</td>\n",
       "      <td>17280500.0</td>\n",
       "      <td>1.599414e+09</td>\n",
       "    </tr>\n",
       "    <tr>\n",
       "      <th>0.0</th>\n",
       "      <td>467.0</td>\n",
       "      <td>3.911465e+06</td>\n",
       "      <td>9.319391e+06</td>\n",
       "      <td>30000.0</td>\n",
       "      <td>432750.0</td>\n",
       "      <td>1280000.0</td>\n",
       "      <td>3154000.0</td>\n",
       "      <td>9.572500e+07</td>\n",
       "    </tr>\n",
       "    <tr>\n",
       "      <th>1.0</th>\n",
       "      <td>762.0</td>\n",
       "      <td>7.959057e+07</td>\n",
       "      <td>3.802602e+08</td>\n",
       "      <td>35000.0</td>\n",
       "      <td>3217750.0</td>\n",
       "      <td>9515150.0</td>\n",
       "      <td>30790000.0</td>\n",
       "      <td>5.820716e+09</td>\n",
       "    </tr>\n",
       "  </tbody>\n",
       "</table>\n",
       "</div>"
      ],
      "text/plain": [
       "          total_spent                                                  \\\n",
       "                count          mean           std      min        25%   \n",
       "beta_sign                                                               \n",
       "-1.0            631.0  3.546715e+07  1.192347e+08  88500.0  1821000.0   \n",
       " 0.0            467.0  3.911465e+06  9.319391e+06  30000.0   432750.0   \n",
       " 1.0            762.0  7.959057e+07  3.802602e+08  35000.0  3217750.0   \n",
       "\n",
       "                                                \n",
       "                 50%         75%           max  \n",
       "beta_sign                                       \n",
       "-1.0       4882000.0  17280500.0  1.599414e+09  \n",
       " 0.0       1280000.0   3154000.0  9.572500e+07  \n",
       " 1.0       9515150.0  30790000.0  5.820716e+09  "
      ]
     },
     "execution_count": 45,
     "metadata": {},
     "output_type": "execute_result"
    }
   ],
   "source": [
    "sku_attributes.groupby(\"beta_sign\")[[\"total_spent\"]].describe()"
   ]
  },
  {
   "cell_type": "code",
   "execution_count": 46,
   "id": "99d62d76",
   "metadata": {},
   "outputs": [
    {
     "data": {
      "text/html": [
       "<div>\n",
       "<style scoped>\n",
       "    .dataframe tbody tr th:only-of-type {\n",
       "        vertical-align: middle;\n",
       "    }\n",
       "\n",
       "    .dataframe tbody tr th {\n",
       "        vertical-align: top;\n",
       "    }\n",
       "\n",
       "    .dataframe thead tr th {\n",
       "        text-align: left;\n",
       "    }\n",
       "\n",
       "    .dataframe thead tr:last-of-type th {\n",
       "        text-align: right;\n",
       "    }\n",
       "</style>\n",
       "<table border=\"1\" class=\"dataframe\">\n",
       "  <thead>\n",
       "    <tr>\n",
       "      <th></th>\n",
       "      <th colspan=\"8\" halign=\"left\">avg_spent_per_order</th>\n",
       "    </tr>\n",
       "    <tr>\n",
       "      <th></th>\n",
       "      <th>count</th>\n",
       "      <th>mean</th>\n",
       "      <th>std</th>\n",
       "      <th>min</th>\n",
       "      <th>25%</th>\n",
       "      <th>50%</th>\n",
       "      <th>75%</th>\n",
       "      <th>max</th>\n",
       "    </tr>\n",
       "    <tr>\n",
       "      <th>beta_sign</th>\n",
       "      <th></th>\n",
       "      <th></th>\n",
       "      <th></th>\n",
       "      <th></th>\n",
       "      <th></th>\n",
       "      <th></th>\n",
       "      <th></th>\n",
       "      <th></th>\n",
       "    </tr>\n",
       "  </thead>\n",
       "  <tbody>\n",
       "    <tr>\n",
       "      <th>-1.0</th>\n",
       "      <td>631.0</td>\n",
       "      <td>160988.055754</td>\n",
       "      <td>390574.075552</td>\n",
       "      <td>10161.891117</td>\n",
       "      <td>44485.839161</td>\n",
       "      <td>79625.000000</td>\n",
       "      <td>140509.951680</td>\n",
       "      <td>4.509845e+06</td>\n",
       "    </tr>\n",
       "    <tr>\n",
       "      <th>0.0</th>\n",
       "      <td>467.0</td>\n",
       "      <td>90035.613723</td>\n",
       "      <td>87558.095931</td>\n",
       "      <td>5658.536585</td>\n",
       "      <td>31401.611909</td>\n",
       "      <td>57142.857143</td>\n",
       "      <td>119252.034884</td>\n",
       "      <td>6.851304e+05</td>\n",
       "    </tr>\n",
       "    <tr>\n",
       "      <th>1.0</th>\n",
       "      <td>762.0</td>\n",
       "      <td>176024.377572</td>\n",
       "      <td>348763.308575</td>\n",
       "      <td>11055.284553</td>\n",
       "      <td>44984.529221</td>\n",
       "      <td>104708.826268</td>\n",
       "      <td>193147.876254</td>\n",
       "      <td>4.475614e+06</td>\n",
       "    </tr>\n",
       "  </tbody>\n",
       "</table>\n",
       "</div>"
      ],
      "text/plain": [
       "          avg_spent_per_order                                              \\\n",
       "                        count           mean            std           min   \n",
       "beta_sign                                                                   \n",
       "-1.0                    631.0  160988.055754  390574.075552  10161.891117   \n",
       " 0.0                    467.0   90035.613723   87558.095931   5658.536585   \n",
       " 1.0                    762.0  176024.377572  348763.308575  11055.284553   \n",
       "\n",
       "                                                                     \n",
       "                    25%            50%            75%           max  \n",
       "beta_sign                                                            \n",
       "-1.0       44485.839161   79625.000000  140509.951680  4.509845e+06  \n",
       " 0.0       31401.611909   57142.857143  119252.034884  6.851304e+05  \n",
       " 1.0       44984.529221  104708.826268  193147.876254  4.475614e+06  "
      ]
     },
     "execution_count": 46,
     "metadata": {},
     "output_type": "execute_result"
    }
   ],
   "source": [
    "sku_attributes.groupby(\"beta_sign\")[[\"avg_spent_per_order\"]].describe()"
   ]
  },
  {
   "cell_type": "code",
   "execution_count": 47,
   "id": "577a2d7f",
   "metadata": {},
   "outputs": [
    {
     "data": {
      "text/html": [
       "<div>\n",
       "<style scoped>\n",
       "    .dataframe tbody tr th:only-of-type {\n",
       "        vertical-align: middle;\n",
       "    }\n",
       "\n",
       "    .dataframe tbody tr th {\n",
       "        vertical-align: top;\n",
       "    }\n",
       "\n",
       "    .dataframe thead th {\n",
       "        text-align: right;\n",
       "    }\n",
       "</style>\n",
       "<table border=\"1\" class=\"dataframe\">\n",
       "  <thead>\n",
       "    <tr style=\"text-align: right;\">\n",
       "      <th></th>\n",
       "      <th>sku_id</th>\n",
       "      <th>total_spent</th>\n",
       "      <th>num_orders</th>\n",
       "      <th>num_merchants</th>\n",
       "      <th>first_month</th>\n",
       "      <th>last_month</th>\n",
       "      <th>num_months</th>\n",
       "      <th>first_week</th>\n",
       "      <th>last_week</th>\n",
       "      <th>num_weeks</th>\n",
       "      <th>num_days</th>\n",
       "      <th>avg_spent_per_order</th>\n",
       "      <th>tenure_month</th>\n",
       "      <th>beta</th>\n",
       "    </tr>\n",
       "    <tr>\n",
       "      <th>beta_sign</th>\n",
       "      <th></th>\n",
       "      <th></th>\n",
       "      <th></th>\n",
       "      <th></th>\n",
       "      <th></th>\n",
       "      <th></th>\n",
       "      <th></th>\n",
       "      <th></th>\n",
       "      <th></th>\n",
       "      <th></th>\n",
       "      <th></th>\n",
       "      <th></th>\n",
       "      <th></th>\n",
       "      <th></th>\n",
       "    </tr>\n",
       "  </thead>\n",
       "  <tbody>\n",
       "    <tr>\n",
       "      <th>-1.0</th>\n",
       "      <td>815.041204</td>\n",
       "      <td>3.546715e+07</td>\n",
       "      <td>210.442155</td>\n",
       "      <td>37.072900</td>\n",
       "      <td>8.675119</td>\n",
       "      <td>17.080824</td>\n",
       "      <td>8.862124</td>\n",
       "      <td>13.709984</td>\n",
       "      <td>46.110935</td>\n",
       "      <td>24.917591</td>\n",
       "      <td>89.733756</td>\n",
       "      <td>160988.055754</td>\n",
       "      <td>9.405705</td>\n",
       "      <td>-11539.510764</td>\n",
       "    </tr>\n",
       "    <tr>\n",
       "      <th>0.0</th>\n",
       "      <td>849.796574</td>\n",
       "      <td>3.911465e+06</td>\n",
       "      <td>67.413276</td>\n",
       "      <td>17.925054</td>\n",
       "      <td>9.725910</td>\n",
       "      <td>15.494647</td>\n",
       "      <td>6.000000</td>\n",
       "      <td>19.543897</td>\n",
       "      <td>43.117773</td>\n",
       "      <td>14.944325</td>\n",
       "      <td>42.496788</td>\n",
       "      <td>90035.613723</td>\n",
       "      <td>6.768737</td>\n",
       "      <td>0.000000</td>\n",
       "    </tr>\n",
       "    <tr>\n",
       "      <th>1.0</th>\n",
       "      <td>1075.569554</td>\n",
       "      <td>7.959057e+07</td>\n",
       "      <td>430.654856</td>\n",
       "      <td>51.190289</td>\n",
       "      <td>9.982940</td>\n",
       "      <td>21.166667</td>\n",
       "      <td>11.437008</td>\n",
       "      <td>7.051181</td>\n",
       "      <td>49.232283</td>\n",
       "      <td>32.670604</td>\n",
       "      <td>123.389764</td>\n",
       "      <td>176024.377572</td>\n",
       "      <td>12.183727</td>\n",
       "      <td>1200.088817</td>\n",
       "    </tr>\n",
       "  </tbody>\n",
       "</table>\n",
       "</div>"
      ],
      "text/plain": [
       "                sku_id   total_spent  num_orders  num_merchants  first_month  \\\n",
       "beta_sign                                                                      \n",
       "-1.0        815.041204  3.546715e+07  210.442155      37.072900     8.675119   \n",
       " 0.0        849.796574  3.911465e+06   67.413276      17.925054     9.725910   \n",
       " 1.0       1075.569554  7.959057e+07  430.654856      51.190289     9.982940   \n",
       "\n",
       "           last_month  num_months  first_week  last_week  num_weeks  \\\n",
       "beta_sign                                                             \n",
       "-1.0        17.080824    8.862124   13.709984  46.110935  24.917591   \n",
       " 0.0        15.494647    6.000000   19.543897  43.117773  14.944325   \n",
       " 1.0        21.166667   11.437008    7.051181  49.232283  32.670604   \n",
       "\n",
       "             num_days  avg_spent_per_order  tenure_month          beta  \n",
       "beta_sign                                                               \n",
       "-1.0        89.733756        160988.055754      9.405705 -11539.510764  \n",
       " 0.0        42.496788         90035.613723      6.768737      0.000000  \n",
       " 1.0       123.389764        176024.377572     12.183727   1200.088817  "
      ]
     },
     "execution_count": 47,
     "metadata": {},
     "output_type": "execute_result"
    }
   ],
   "source": [
    "sku_attributes.groupby(\"beta_sign\").mean()"
   ]
  },
  {
   "cell_type": "code",
   "execution_count": 37,
   "id": "782c9bd6",
   "metadata": {},
   "outputs": [
    {
     "data": {
      "text/plain": [
       "<AxesSubplot:ylabel='Density'>"
      ]
     },
     "execution_count": 37,
     "metadata": {},
     "output_type": "execute_result"
    },
    {
     "data": {
      "image/png": "[encoded data removed]",
      "text/plain": [
       "<Figure size 432x288 with 1 Axes>"
      ]
     },
     "metadata": {
      "needs_background": "light"
     },
     "output_type": "display_data"
    }
   ],
   "source": [
    "np.log2(sku_attributes.query(\"beta>0\")[\"beta\"]).plot.density()"
   ]
  },
  {
   "cell_type": "code",
   "execution_count": 39,
   "id": "64ce4f83",
   "metadata": {},
   "outputs": [
    {
     "data": {
      "text/plain": [
       "<AxesSubplot:ylabel='Density'>"
      ]
     },
     "execution_count": 39,
     "metadata": {},
     "output_type": "execute_result"
    },
    {
     "data": {
      "image/png": "[encoded data removed]",
      "text/plain": [
       "<Figure size 432x288 with 1 Axes>"
      ]
     },
     "metadata": {
      "needs_background": "light"
     },
     "output_type": "display_data"
    }
   ],
   "source": [
    "np.log2(np.abs(sku_attributes.query(\"beta<0\")[\"beta\"])).plot.density()"
   ]
  },
  {
   "cell_type": "code",
   "execution_count": null,
   "id": "ebb56a80",
   "metadata": {},
   "outputs": [],
   "source": []
  }
 ],
 "metadata": {
  "kernelspec": {
   "display_name": "base",
   "language": "python",
   "name": "python3"
  },
  "language_info": {
   "codemirror_mode": {
    "name": "ipython",
    "version": 3
   },
   "file_extension": ".py",
   "mimetype": "text/x-python",
   "name": "python",
   "nbconvert_exporter": "python",
   "pygments_lexer": "ipython3",
   "version": "3.9.12"
  },
  "vscode": {
   "interpreter": {
    "hash": "e57d65b3db466a255fb366a0fd9ddb903b84d832e81688bf0eb6e7b10d96915d"
   }
  }
 },
 "nbformat": 4,
 "nbformat_minor": 5
}
