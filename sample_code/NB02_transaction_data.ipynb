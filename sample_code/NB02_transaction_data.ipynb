{
 "cells": [
  {
   "cell_type": "markdown",
   "metadata": {},
   "source": [
    "### Import pandas and read in the csv file and set it to a dataframe called baskets"
   ]
  },
  {
   "cell_type": "markdown",
   "metadata": {},
   "source": [
    "## Setting up python"
   ]
  },
  {
   "cell_type": "code",
   "execution_count": 2,
   "metadata": {
    "id": "2eYcfvLr2ahn",
    "pycharm": {
     "name": "#%%\n"
    }
   },
   "outputs": [],
   "source": [
    "import pandas as pd\n",
    "import numpy as np"
   ]
  },
  {
   "cell_type": "code",
   "execution_count": 3,
   "metadata": {},
   "outputs": [],
   "source": [
    "baskets = pd.read_csv('./AwanTunai_transaction_data.csv')"
   ]
  },
  {
   "cell_type": "markdown",
   "metadata": {},
   "source": [
    "## Conduct some simple data inspection\n",
    "\n",
    " - take a look at the first ten rows, and last 7 rows"
   ]
  },
  {
   "cell_type": "code",
   "execution_count": 4,
   "metadata": {},
   "outputs": [
    {
     "data": {
      "text/html": [
       "<div>\n",
       "<style scoped>\n",
       "    .dataframe tbody tr th:only-of-type {\n",
       "        vertical-align: middle;\n",
       "    }\n",
       "\n",
       "    .dataframe tbody tr th {\n",
       "        vertical-align: top;\n",
       "    }\n",
       "\n",
       "    .dataframe thead th {\n",
       "        text-align: right;\n",
       "    }\n",
       "</style>\n",
       "<table border=\"1\" class=\"dataframe\">\n",
       "  <thead>\n",
       "    <tr style=\"text-align: right;\">\n",
       "      <th></th>\n",
       "      <th>id</th>\n",
       "      <th>order_id</th>\n",
       "      <th>placed_at</th>\n",
       "      <th>merchant_id</th>\n",
       "      <th>sku_id</th>\n",
       "      <th>top_cat</th>\n",
       "      <th>sub_cat</th>\n",
       "      <th>qty</th>\n",
       "      <th>price</th>\n",
       "    </tr>\n",
       "  </thead>\n",
       "  <tbody>\n",
       "    <tr>\n",
       "      <th>0</th>\n",
       "      <td>1</td>\n",
       "      <td>1</td>\n",
       "      <td>2021-06-17 14:00:31.373</td>\n",
       "      <td>9</td>\n",
       "      <td>10</td>\n",
       "      <td>27.0</td>\n",
       "      <td>86.0</td>\n",
       "      <td>2</td>\n",
       "      <td>343000.0</td>\n",
       "    </tr>\n",
       "    <tr>\n",
       "      <th>1</th>\n",
       "      <td>2</td>\n",
       "      <td>1</td>\n",
       "      <td>2021-06-17 14:00:31.373</td>\n",
       "      <td>9</td>\n",
       "      <td>6</td>\n",
       "      <td>27.0</td>\n",
       "      <td>86.0</td>\n",
       "      <td>1</td>\n",
       "      <td>159000.0</td>\n",
       "    </tr>\n",
       "    <tr>\n",
       "      <th>2</th>\n",
       "      <td>3</td>\n",
       "      <td>1</td>\n",
       "      <td>2021-06-17 14:00:31.373</td>\n",
       "      <td>9</td>\n",
       "      <td>14</td>\n",
       "      <td>27.0</td>\n",
       "      <td>86.0</td>\n",
       "      <td>2</td>\n",
       "      <td>225000.0</td>\n",
       "    </tr>\n",
       "    <tr>\n",
       "      <th>3</th>\n",
       "      <td>4</td>\n",
       "      <td>1</td>\n",
       "      <td>2021-06-17 14:00:31.373</td>\n",
       "      <td>9</td>\n",
       "      <td>5</td>\n",
       "      <td>27.0</td>\n",
       "      <td>86.0</td>\n",
       "      <td>1</td>\n",
       "      <td>246000.0</td>\n",
       "    </tr>\n",
       "    <tr>\n",
       "      <th>4</th>\n",
       "      <td>5</td>\n",
       "      <td>2</td>\n",
       "      <td>2021-06-17 14:29:31.918</td>\n",
       "      <td>10</td>\n",
       "      <td>15</td>\n",
       "      <td>27.0</td>\n",
       "      <td>86.0</td>\n",
       "      <td>5</td>\n",
       "      <td>19500.0</td>\n",
       "    </tr>\n",
       "    <tr>\n",
       "      <th>5</th>\n",
       "      <td>6</td>\n",
       "      <td>2</td>\n",
       "      <td>2021-06-17 14:29:31.918</td>\n",
       "      <td>10</td>\n",
       "      <td>9</td>\n",
       "      <td>27.0</td>\n",
       "      <td>86.0</td>\n",
       "      <td>5</td>\n",
       "      <td>17600.0</td>\n",
       "    </tr>\n",
       "    <tr>\n",
       "      <th>6</th>\n",
       "      <td>7</td>\n",
       "      <td>3</td>\n",
       "      <td>2021-06-17 15:06:17.597</td>\n",
       "      <td>11</td>\n",
       "      <td>11</td>\n",
       "      <td>27.0</td>\n",
       "      <td>86.0</td>\n",
       "      <td>2</td>\n",
       "      <td>68500.0</td>\n",
       "    </tr>\n",
       "    <tr>\n",
       "      <th>7</th>\n",
       "      <td>8</td>\n",
       "      <td>3</td>\n",
       "      <td>2021-06-17 15:06:17.597</td>\n",
       "      <td>11</td>\n",
       "      <td>13</td>\n",
       "      <td>27.0</td>\n",
       "      <td>86.0</td>\n",
       "      <td>2</td>\n",
       "      <td>159500.0</td>\n",
       "    </tr>\n",
       "    <tr>\n",
       "      <th>8</th>\n",
       "      <td>9</td>\n",
       "      <td>3</td>\n",
       "      <td>2021-06-17 15:06:17.597</td>\n",
       "      <td>11</td>\n",
       "      <td>27</td>\n",
       "      <td>27.0</td>\n",
       "      <td>86.0</td>\n",
       "      <td>2</td>\n",
       "      <td>116000.0</td>\n",
       "    </tr>\n",
       "    <tr>\n",
       "      <th>9</th>\n",
       "      <td>10</td>\n",
       "      <td>3</td>\n",
       "      <td>2021-06-17 15:06:17.597</td>\n",
       "      <td>11</td>\n",
       "      <td>7</td>\n",
       "      <td>27.0</td>\n",
       "      <td>86.0</td>\n",
       "      <td>1</td>\n",
       "      <td>193000.0</td>\n",
       "    </tr>\n",
       "  </tbody>\n",
       "</table>\n",
       "</div>"
      ],
      "text/plain": [
       "   id  order_id                placed_at  merchant_id  sku_id  top_cat  \\\n",
       "0   1         1  2021-06-17 14:00:31.373            9      10     27.0   \n",
       "1   2         1  2021-06-17 14:00:31.373            9       6     27.0   \n",
       "2   3         1  2021-06-17 14:00:31.373            9      14     27.0   \n",
       "3   4         1  2021-06-17 14:00:31.373            9       5     27.0   \n",
       "4   5         2  2021-06-17 14:29:31.918           10      15     27.0   \n",
       "5   6         2  2021-06-17 14:29:31.918           10       9     27.0   \n",
       "6   7         3  2021-06-17 15:06:17.597           11      11     27.0   \n",
       "7   8         3  2021-06-17 15:06:17.597           11      13     27.0   \n",
       "8   9         3  2021-06-17 15:06:17.597           11      27     27.0   \n",
       "9  10         3  2021-06-17 15:06:17.597           11       7     27.0   \n",
       "\n",
       "   sub_cat  qty     price  \n",
       "0     86.0    2  343000.0  \n",
       "1     86.0    1  159000.0  \n",
       "2     86.0    2  225000.0  \n",
       "3     86.0    1  246000.0  \n",
       "4     86.0    5   19500.0  \n",
       "5     86.0    5   17600.0  \n",
       "6     86.0    2   68500.0  \n",
       "7     86.0    2  159500.0  \n",
       "8     86.0    2  116000.0  \n",
       "9     86.0    1  193000.0  "
      ]
     },
     "execution_count": 4,
     "metadata": {},
     "output_type": "execute_result"
    }
   ],
   "source": [
    "baskets.head(10)"
   ]
  },
  {
   "cell_type": "code",
   "execution_count": 5,
   "metadata": {},
   "outputs": [
    {
     "data": {
      "text/html": [
       "<div>\n",
       "<style scoped>\n",
       "    .dataframe tbody tr th:only-of-type {\n",
       "        vertical-align: middle;\n",
       "    }\n",
       "\n",
       "    .dataframe tbody tr th {\n",
       "        vertical-align: top;\n",
       "    }\n",
       "\n",
       "    .dataframe thead th {\n",
       "        text-align: right;\n",
       "    }\n",
       "</style>\n",
       "<table border=\"1\" class=\"dataframe\">\n",
       "  <thead>\n",
       "    <tr style=\"text-align: right;\">\n",
       "      <th></th>\n",
       "      <th>id</th>\n",
       "      <th>order_id</th>\n",
       "      <th>placed_at</th>\n",
       "      <th>merchant_id</th>\n",
       "      <th>sku_id</th>\n",
       "      <th>top_cat</th>\n",
       "      <th>sub_cat</th>\n",
       "      <th>qty</th>\n",
       "      <th>price</th>\n",
       "    </tr>\n",
       "  </thead>\n",
       "  <tbody>\n",
       "    <tr>\n",
       "      <th>0</th>\n",
       "      <td>1</td>\n",
       "      <td>1</td>\n",
       "      <td>2021-06-17 14:00:31.373</td>\n",
       "      <td>9</td>\n",
       "      <td>10</td>\n",
       "      <td>27.0</td>\n",
       "      <td>86.0</td>\n",
       "      <td>2</td>\n",
       "      <td>343000.0</td>\n",
       "    </tr>\n",
       "    <tr>\n",
       "      <th>1</th>\n",
       "      <td>2</td>\n",
       "      <td>1</td>\n",
       "      <td>2021-06-17 14:00:31.373</td>\n",
       "      <td>9</td>\n",
       "      <td>6</td>\n",
       "      <td>27.0</td>\n",
       "      <td>86.0</td>\n",
       "      <td>1</td>\n",
       "      <td>159000.0</td>\n",
       "    </tr>\n",
       "    <tr>\n",
       "      <th>2</th>\n",
       "      <td>3</td>\n",
       "      <td>1</td>\n",
       "      <td>2021-06-17 14:00:31.373</td>\n",
       "      <td>9</td>\n",
       "      <td>14</td>\n",
       "      <td>27.0</td>\n",
       "      <td>86.0</td>\n",
       "      <td>2</td>\n",
       "      <td>225000.0</td>\n",
       "    </tr>\n",
       "  </tbody>\n",
       "</table>\n",
       "</div>"
      ],
      "text/plain": [
       "   id  order_id                placed_at  merchant_id  sku_id  top_cat  \\\n",
       "0   1         1  2021-06-17 14:00:31.373            9      10     27.0   \n",
       "1   2         1  2021-06-17 14:00:31.373            9       6     27.0   \n",
       "2   3         1  2021-06-17 14:00:31.373            9      14     27.0   \n",
       "\n",
       "   sub_cat  qty     price  \n",
       "0     86.0    2  343000.0  \n",
       "1     86.0    1  159000.0  \n",
       "2     86.0    2  225000.0  "
      ]
     },
     "execution_count": 5,
     "metadata": {},
     "output_type": "execute_result"
    }
   ],
   "source": [
    "baskets.head(3)"
   ]
  },
  {
   "cell_type": "code",
   "execution_count": 4,
   "metadata": {},
   "outputs": [
    {
     "data": {
      "text/html": [
       "<div>\n",
       "<style scoped>\n",
       "    .dataframe tbody tr th:only-of-type {\n",
       "        vertical-align: middle;\n",
       "    }\n",
       "\n",
       "    .dataframe tbody tr th {\n",
       "        vertical-align: top;\n",
       "    }\n",
       "\n",
       "    .dataframe thead th {\n",
       "        text-align: right;\n",
       "    }\n",
       "</style>\n",
       "<table border=\"1\" class=\"dataframe\">\n",
       "  <thead>\n",
       "    <tr style=\"text-align: right;\">\n",
       "      <th></th>\n",
       "      <th>id</th>\n",
       "      <th>order_id</th>\n",
       "      <th>placed_at</th>\n",
       "      <th>merchant_id</th>\n",
       "      <th>sku_id</th>\n",
       "      <th>top_cat</th>\n",
       "      <th>sub_cat</th>\n",
       "      <th>qty</th>\n",
       "      <th>price</th>\n",
       "    </tr>\n",
       "  </thead>\n",
       "  <tbody>\n",
       "    <tr>\n",
       "      <th>492430</th>\n",
       "      <td>492431</td>\n",
       "      <td>53438</td>\n",
       "      <td>2022-12-31 18:14:45.659</td>\n",
       "      <td>184</td>\n",
       "      <td>973</td>\n",
       "      <td>27.0</td>\n",
       "      <td>86.0</td>\n",
       "      <td>1</td>\n",
       "      <td>79000.0</td>\n",
       "    </tr>\n",
       "    <tr>\n",
       "      <th>492431</th>\n",
       "      <td>492432</td>\n",
       "      <td>53438</td>\n",
       "      <td>2022-12-31 18:14:45.659</td>\n",
       "      <td>184</td>\n",
       "      <td>971</td>\n",
       "      <td>27.0</td>\n",
       "      <td>86.0</td>\n",
       "      <td>5</td>\n",
       "      <td>21300.0</td>\n",
       "    </tr>\n",
       "    <tr>\n",
       "      <th>492432</th>\n",
       "      <td>492433</td>\n",
       "      <td>53438</td>\n",
       "      <td>2022-12-31 18:14:45.659</td>\n",
       "      <td>184</td>\n",
       "      <td>1500</td>\n",
       "      <td>27.0</td>\n",
       "      <td>86.0</td>\n",
       "      <td>5</td>\n",
       "      <td>21000.0</td>\n",
       "    </tr>\n",
       "    <tr>\n",
       "      <th>492433</th>\n",
       "      <td>492434</td>\n",
       "      <td>53438</td>\n",
       "      <td>2022-12-31 18:14:45.659</td>\n",
       "      <td>184</td>\n",
       "      <td>1655</td>\n",
       "      <td>18.0</td>\n",
       "      <td>61.0</td>\n",
       "      <td>1</td>\n",
       "      <td>38000.0</td>\n",
       "    </tr>\n",
       "    <tr>\n",
       "      <th>492434</th>\n",
       "      <td>492435</td>\n",
       "      <td>53438</td>\n",
       "      <td>2022-12-31 18:14:45.659</td>\n",
       "      <td>184</td>\n",
       "      <td>1504</td>\n",
       "      <td>27.0</td>\n",
       "      <td>86.0</td>\n",
       "      <td>1</td>\n",
       "      <td>274000.0</td>\n",
       "    </tr>\n",
       "    <tr>\n",
       "      <th>492435</th>\n",
       "      <td>492436</td>\n",
       "      <td>53438</td>\n",
       "      <td>2022-12-31 18:14:45.659</td>\n",
       "      <td>184</td>\n",
       "      <td>984</td>\n",
       "      <td>27.0</td>\n",
       "      <td>86.0</td>\n",
       "      <td>5</td>\n",
       "      <td>19400.0</td>\n",
       "    </tr>\n",
       "    <tr>\n",
       "      <th>492436</th>\n",
       "      <td>492437</td>\n",
       "      <td>53438</td>\n",
       "      <td>2022-12-31 18:14:45.659</td>\n",
       "      <td>184</td>\n",
       "      <td>866</td>\n",
       "      <td>27.0</td>\n",
       "      <td>86.0</td>\n",
       "      <td>5</td>\n",
       "      <td>21200.0</td>\n",
       "    </tr>\n",
       "  </tbody>\n",
       "</table>\n",
       "</div>"
      ],
      "text/plain": [
       "            id  order_id                placed_at  merchant_id  sku_id  \\\n",
       "492430  492431     53438  2022-12-31 18:14:45.659          184     973   \n",
       "492431  492432     53438  2022-12-31 18:14:45.659          184     971   \n",
       "492432  492433     53438  2022-12-31 18:14:45.659          184    1500   \n",
       "492433  492434     53438  2022-12-31 18:14:45.659          184    1655   \n",
       "492434  492435     53438  2022-12-31 18:14:45.659          184    1504   \n",
       "492435  492436     53438  2022-12-31 18:14:45.659          184     984   \n",
       "492436  492437     53438  2022-12-31 18:14:45.659          184     866   \n",
       "\n",
       "        top_cat  sub_cat  qty     price  \n",
       "492430     27.0     86.0    1   79000.0  \n",
       "492431     27.0     86.0    5   21300.0  \n",
       "492432     27.0     86.0    5   21000.0  \n",
       "492433     18.0     61.0    1   38000.0  \n",
       "492434     27.0     86.0    1  274000.0  \n",
       "492435     27.0     86.0    5   19400.0  \n",
       "492436     27.0     86.0    5   21200.0  "
      ]
     },
     "execution_count": 4,
     "metadata": {},
     "output_type": "execute_result"
    }
   ],
   "source": [
    "baskets.tail(7)"
   ]
  },
  {
   "cell_type": "markdown",
   "metadata": {},
   "source": [
    "### dataframe dimensions, column names, column data types, ranges of column values"
   ]
  },
  {
   "cell_type": "code",
   "execution_count": 5,
   "metadata": {},
   "outputs": [
    {
     "data": {
      "text/plain": [
       "(492437, 9)"
      ]
     },
     "execution_count": 5,
     "metadata": {},
     "output_type": "execute_result"
    }
   ],
   "source": [
    "baskets.shape"
   ]
  },
  {
   "cell_type": "code",
   "execution_count": 6,
   "metadata": {
    "colab": {
     "base_uri": "https://localhost:8080/"
    },
    "id": "fiOM4VZs9ZRV",
    "outputId": "58b2036b-2ad6-4100-d7e2-520f823c9a93",
    "pycharm": {
     "name": "#%%\n"
    }
   },
   "outputs": [
    {
     "data": {
      "text/plain": [
       "Index(['id', 'order_id', 'placed_at', 'merchant_id', 'sku_id', 'top_cat',\n",
       "       'sub_cat', 'qty', 'price'],\n",
       "      dtype='object')"
      ]
     },
     "execution_count": 6,
     "metadata": {},
     "output_type": "execute_result"
    }
   ],
   "source": [
    "baskets.columns"
   ]
  },
  {
   "cell_type": "markdown",
   "metadata": {},
   "source": [
    " - noticed columns \"placed_at\" is not numeric and the rest are numerical columns"
   ]
  },
  {
   "cell_type": "code",
   "execution_count": 7,
   "metadata": {},
   "outputs": [
    {
     "name": "stdout",
     "output_type": "stream",
     "text": [
      "<class 'pandas.core.frame.DataFrame'>\n",
      "RangeIndex: 492437 entries, 0 to 492436\n",
      "Data columns (total 9 columns):\n",
      " #   Column       Non-Null Count   Dtype  \n",
      "---  ------       --------------   -----  \n",
      " 0   id           492437 non-null  int64  \n",
      " 1   order_id     492437 non-null  int64  \n",
      " 2   placed_at    492437 non-null  object \n",
      " 3   merchant_id  492437 non-null  int64  \n",
      " 4   sku_id       492437 non-null  int64  \n",
      " 5   top_cat      491449 non-null  float64\n",
      " 6   sub_cat      491449 non-null  float64\n",
      " 7   qty          492437 non-null  int64  \n",
      " 8   price        492437 non-null  float64\n",
      "dtypes: float64(3), int64(5), object(1)\n",
      "memory usage: 33.8+ MB\n"
     ]
    }
   ],
   "source": [
    "baskets.info()"
   ]
  },
  {
   "cell_type": "markdown",
   "metadata": {},
   "source": [
    " - another way to check the data types"
   ]
  },
  {
   "cell_type": "code",
   "execution_count": 8,
   "metadata": {},
   "outputs": [
    {
     "data": {
      "text/plain": [
       "id               int64\n",
       "order_id         int64\n",
       "placed_at       object\n",
       "merchant_id      int64\n",
       "sku_id           int64\n",
       "top_cat        float64\n",
       "sub_cat        float64\n",
       "qty              int64\n",
       "price          float64\n",
       "dtype: object"
      ]
     },
     "execution_count": 8,
     "metadata": {},
     "output_type": "execute_result"
    }
   ],
   "source": [
    "baskets.dtypes"
   ]
  },
  {
   "cell_type": "markdown",
   "metadata": {},
   "source": [
    " - one way to get an overview of the data values"
   ]
  },
  {
   "cell_type": "code",
   "execution_count": 9,
   "metadata": {},
   "outputs": [
    {
     "data": {
      "text/html": [
       "<div>\n",
       "<style scoped>\n",
       "    .dataframe tbody tr th:only-of-type {\n",
       "        vertical-align: middle;\n",
       "    }\n",
       "\n",
       "    .dataframe tbody tr th {\n",
       "        vertical-align: top;\n",
       "    }\n",
       "\n",
       "    .dataframe thead th {\n",
       "        text-align: right;\n",
       "    }\n",
       "</style>\n",
       "<table border=\"1\" class=\"dataframe\">\n",
       "  <thead>\n",
       "    <tr style=\"text-align: right;\">\n",
       "      <th></th>\n",
       "      <th>id</th>\n",
       "      <th>order_id</th>\n",
       "      <th>merchant_id</th>\n",
       "      <th>sku_id</th>\n",
       "      <th>top_cat</th>\n",
       "      <th>sub_cat</th>\n",
       "      <th>qty</th>\n",
       "      <th>price</th>\n",
       "    </tr>\n",
       "  </thead>\n",
       "  <tbody>\n",
       "    <tr>\n",
       "      <th>count</th>\n",
       "      <td>492437.000000</td>\n",
       "      <td>492437.000000</td>\n",
       "      <td>492437.000000</td>\n",
       "      <td>492437.000000</td>\n",
       "      <td>491449.000000</td>\n",
       "      <td>491449.000000</td>\n",
       "      <td>492437.000000</td>\n",
       "      <td>4.924370e+05</td>\n",
       "    </tr>\n",
       "    <tr>\n",
       "      <th>mean</th>\n",
       "      <td>246219.000000</td>\n",
       "      <td>25313.575371</td>\n",
       "      <td>143.411031</td>\n",
       "      <td>1080.489256</td>\n",
       "      <td>21.282263</td>\n",
       "      <td>67.775401</td>\n",
       "      <td>3.059088</td>\n",
       "      <td>1.131020e+05</td>\n",
       "    </tr>\n",
       "    <tr>\n",
       "      <th>std</th>\n",
       "      <td>142154.461592</td>\n",
       "      <td>15459.726935</td>\n",
       "      <td>82.515747</td>\n",
       "      <td>387.372125</td>\n",
       "      <td>7.735270</td>\n",
       "      <td>28.466744</td>\n",
       "      <td>17.958188</td>\n",
       "      <td>1.923181e+05</td>\n",
       "    </tr>\n",
       "    <tr>\n",
       "      <th>min</th>\n",
       "      <td>1.000000</td>\n",
       "      <td>1.000000</td>\n",
       "      <td>1.000000</td>\n",
       "      <td>1.000000</td>\n",
       "      <td>1.000000</td>\n",
       "      <td>1.000000</td>\n",
       "      <td>1.000000</td>\n",
       "      <td>1.000000e+00</td>\n",
       "    </tr>\n",
       "    <tr>\n",
       "      <th>25%</th>\n",
       "      <td>123110.000000</td>\n",
       "      <td>11579.000000</td>\n",
       "      <td>61.000000</td>\n",
       "      <td>873.000000</td>\n",
       "      <td>15.000000</td>\n",
       "      <td>45.000000</td>\n",
       "      <td>1.000000</td>\n",
       "      <td>1.910000e+04</td>\n",
       "    </tr>\n",
       "    <tr>\n",
       "      <th>50%</th>\n",
       "      <td>246219.000000</td>\n",
       "      <td>24300.000000</td>\n",
       "      <td>164.000000</td>\n",
       "      <td>1025.000000</td>\n",
       "      <td>27.000000</td>\n",
       "      <td>86.000000</td>\n",
       "      <td>1.000000</td>\n",
       "      <td>7.650000e+04</td>\n",
       "    </tr>\n",
       "    <tr>\n",
       "      <th>75%</th>\n",
       "      <td>369328.000000</td>\n",
       "      <td>38773.000000</td>\n",
       "      <td>191.000000</td>\n",
       "      <td>1400.000000</td>\n",
       "      <td>27.000000</td>\n",
       "      <td>86.000000</td>\n",
       "      <td>3.000000</td>\n",
       "      <td>1.720000e+05</td>\n",
       "    </tr>\n",
       "    <tr>\n",
       "      <th>max</th>\n",
       "      <td>492437.000000</td>\n",
       "      <td>53438.000000</td>\n",
       "      <td>357.000000</td>\n",
       "      <td>1860.000000</td>\n",
       "      <td>35.000000</td>\n",
       "      <td>108.000000</td>\n",
       "      <td>6000.000000</td>\n",
       "      <td>4.240000e+06</td>\n",
       "    </tr>\n",
       "  </tbody>\n",
       "</table>\n",
       "</div>"
      ],
      "text/plain": [
       "                  id       order_id    merchant_id         sku_id  \\\n",
       "count  492437.000000  492437.000000  492437.000000  492437.000000   \n",
       "mean   246219.000000   25313.575371     143.411031    1080.489256   \n",
       "std    142154.461592   15459.726935      82.515747     387.372125   \n",
       "min         1.000000       1.000000       1.000000       1.000000   \n",
       "25%    123110.000000   11579.000000      61.000000     873.000000   \n",
       "50%    246219.000000   24300.000000     164.000000    1025.000000   \n",
       "75%    369328.000000   38773.000000     191.000000    1400.000000   \n",
       "max    492437.000000   53438.000000     357.000000    1860.000000   \n",
       "\n",
       "             top_cat        sub_cat            qty         price  \n",
       "count  491449.000000  491449.000000  492437.000000  4.924370e+05  \n",
       "mean       21.282263      67.775401       3.059088  1.131020e+05  \n",
       "std         7.735270      28.466744      17.958188  1.923181e+05  \n",
       "min         1.000000       1.000000       1.000000  1.000000e+00  \n",
       "25%        15.000000      45.000000       1.000000  1.910000e+04  \n",
       "50%        27.000000      86.000000       1.000000  7.650000e+04  \n",
       "75%        27.000000      86.000000       3.000000  1.720000e+05  \n",
       "max        35.000000     108.000000    6000.000000  4.240000e+06  "
      ]
     },
     "execution_count": 9,
     "metadata": {},
     "output_type": "execute_result"
    }
   ],
   "source": [
    "baskets.describe()"
   ]
  },
  {
   "cell_type": "markdown",
   "metadata": {},
   "source": [
    " - question: what can you observe from the above result?\n",
    " - why are the count on top_cat_id and sub_cat_id different from others? "
   ]
  },
  {
   "cell_type": "markdown",
   "metadata": {},
   "source": [
    " - noticed that the \"placed_at\" column was not shown in the above result, maybe due to its type?  \n",
    " - wondering that ID columns' statistics may not make sense other than count, min, max, since they are supposed to be identifiers"
   ]
  },
  {
   "cell_type": "markdown",
   "metadata": {},
   "source": [
    " - take a look at 3 random rows, it is important to inspect data beyond the head and tail"
   ]
  },
  {
   "cell_type": "code",
   "execution_count": 9,
   "metadata": {},
   "outputs": [
    {
     "data": {
      "text/plain": [
       "array([469615,  64753, 297103])"
      ]
     },
     "execution_count": 9,
     "metadata": {},
     "output_type": "execute_result"
    }
   ],
   "source": [
    "# set seed for random function so that we get same rows when re-run the cell\n",
    "np.random.seed(17)\n",
    "np.random.randint(0, baskets.shape[0],3)\n"
   ]
  },
  {
   "cell_type": "code",
   "execution_count": 10,
   "metadata": {},
   "outputs": [
    {
     "data": {
      "text/plain": [
       "array([491926, 304441, 125680])"
      ]
     },
     "execution_count": 10,
     "metadata": {},
     "output_type": "execute_result"
    }
   ],
   "source": [
    "np.random.randint(0, baskets.shape[0],3)"
   ]
  },
  {
   "cell_type": "code",
   "execution_count": 8,
   "metadata": {},
   "outputs": [
    {
     "data": {
      "text/html": [
       "<div>\n",
       "<style scoped>\n",
       "    .dataframe tbody tr th:only-of-type {\n",
       "        vertical-align: middle;\n",
       "    }\n",
       "\n",
       "    .dataframe tbody tr th {\n",
       "        vertical-align: top;\n",
       "    }\n",
       "\n",
       "    .dataframe thead th {\n",
       "        text-align: right;\n",
       "    }\n",
       "</style>\n",
       "<table border=\"1\" class=\"dataframe\">\n",
       "  <thead>\n",
       "    <tr style=\"text-align: right;\">\n",
       "      <th></th>\n",
       "      <th>id</th>\n",
       "      <th>order_id</th>\n",
       "      <th>placed_at</th>\n",
       "      <th>merchant_id</th>\n",
       "      <th>sku_id</th>\n",
       "      <th>top_cat</th>\n",
       "      <th>sub_cat</th>\n",
       "      <th>qty</th>\n",
       "      <th>price</th>\n",
       "    </tr>\n",
       "  </thead>\n",
       "  <tbody>\n",
       "    <tr>\n",
       "      <th>469615</th>\n",
       "      <td>469620</td>\n",
       "      <td>50662</td>\n",
       "      <td>2022-12-10 10:47:32.698</td>\n",
       "      <td>257</td>\n",
       "      <td>971</td>\n",
       "      <td>27.0</td>\n",
       "      <td>86.0</td>\n",
       "      <td>5</td>\n",
       "      <td>20700.0</td>\n",
       "    </tr>\n",
       "    <tr>\n",
       "      <th>64753</th>\n",
       "      <td>64758</td>\n",
       "      <td>6479</td>\n",
       "      <td>2021-11-03 11:53:01.836</td>\n",
       "      <td>48</td>\n",
       "      <td>1338</td>\n",
       "      <td>27.0</td>\n",
       "      <td>86.0</td>\n",
       "      <td>1</td>\n",
       "      <td>180500.0</td>\n",
       "    </tr>\n",
       "    <tr>\n",
       "      <th>297103</th>\n",
       "      <td>297115</td>\n",
       "      <td>30089</td>\n",
       "      <td>2022-07-01 13:14:03.976</td>\n",
       "      <td>191</td>\n",
       "      <td>1504</td>\n",
       "      <td>27.0</td>\n",
       "      <td>86.0</td>\n",
       "      <td>2</td>\n",
       "      <td>257000.0</td>\n",
       "    </tr>\n",
       "  </tbody>\n",
       "</table>\n",
       "</div>"
      ],
      "text/plain": [
       "            id  order_id                placed_at  merchant_id  sku_id  \\\n",
       "469615  469620     50662  2022-12-10 10:47:32.698          257     971   \n",
       "64753    64758      6479  2021-11-03 11:53:01.836           48    1338   \n",
       "297103  297115     30089  2022-07-01 13:14:03.976          191    1504   \n",
       "\n",
       "        top_cat  sub_cat  qty     price  \n",
       "469615     27.0     86.0    5   20700.0  \n",
       "64753      27.0     86.0    1  180500.0  \n",
       "297103     27.0     86.0    2  257000.0  "
      ]
     },
     "execution_count": 8,
     "metadata": {},
     "output_type": "execute_result"
    }
   ],
   "source": [
    "# set seed for random function so that we get same rows when re-run the cell\n",
    "np.random.seed(17)\n",
    "baskets.iloc[np.random.randint(0, baskets.shape[0],3)]"
   ]
  },
  {
   "cell_type": "markdown",
   "metadata": {},
   "source": [
    " - take a look at transactions for a specific merchant_id, say merchant 48 from above result"
   ]
  },
  {
   "cell_type": "code",
   "execution_count": 11,
   "metadata": {},
   "outputs": [
    {
     "data": {
      "text/html": [
       "<div>\n",
       "<style scoped>\n",
       "    .dataframe tbody tr th:only-of-type {\n",
       "        vertical-align: middle;\n",
       "    }\n",
       "\n",
       "    .dataframe tbody tr th {\n",
       "        vertical-align: top;\n",
       "    }\n",
       "\n",
       "    .dataframe thead th {\n",
       "        text-align: right;\n",
       "    }\n",
       "</style>\n",
       "<table border=\"1\" class=\"dataframe\">\n",
       "  <thead>\n",
       "    <tr style=\"text-align: right;\">\n",
       "      <th></th>\n",
       "      <th>id</th>\n",
       "      <th>order_id</th>\n",
       "      <th>placed_at</th>\n",
       "      <th>merchant_id</th>\n",
       "      <th>sku_id</th>\n",
       "      <th>top_cat</th>\n",
       "      <th>sub_cat</th>\n",
       "      <th>qty</th>\n",
       "      <th>price</th>\n",
       "    </tr>\n",
       "  </thead>\n",
       "  <tbody>\n",
       "    <tr>\n",
       "      <th>29583</th>\n",
       "      <td>29597</td>\n",
       "      <td>3236</td>\n",
       "      <td>2021-09-29 16:30:06.949</td>\n",
       "      <td>48</td>\n",
       "      <td>562</td>\n",
       "      <td>27.0</td>\n",
       "      <td>86.0</td>\n",
       "      <td>10</td>\n",
       "      <td>18000.0</td>\n",
       "    </tr>\n",
       "    <tr>\n",
       "      <th>29584</th>\n",
       "      <td>29598</td>\n",
       "      <td>3236</td>\n",
       "      <td>2021-09-29 16:30:06.949</td>\n",
       "      <td>48</td>\n",
       "      <td>406</td>\n",
       "      <td>27.0</td>\n",
       "      <td>86.0</td>\n",
       "      <td>10</td>\n",
       "      <td>23450.0</td>\n",
       "    </tr>\n",
       "    <tr>\n",
       "      <th>29585</th>\n",
       "      <td>29599</td>\n",
       "      <td>3236</td>\n",
       "      <td>2021-09-29 16:30:06.949</td>\n",
       "      <td>48</td>\n",
       "      <td>180</td>\n",
       "      <td>27.0</td>\n",
       "      <td>86.0</td>\n",
       "      <td>20</td>\n",
       "      <td>18200.0</td>\n",
       "    </tr>\n",
       "    <tr>\n",
       "      <th>29586</th>\n",
       "      <td>29600</td>\n",
       "      <td>3236</td>\n",
       "      <td>2021-09-29 16:30:06.949</td>\n",
       "      <td>48</td>\n",
       "      <td>401</td>\n",
       "      <td>27.0</td>\n",
       "      <td>86.0</td>\n",
       "      <td>10</td>\n",
       "      <td>10700.0</td>\n",
       "    </tr>\n",
       "    <tr>\n",
       "      <th>29587</th>\n",
       "      <td>29601</td>\n",
       "      <td>3236</td>\n",
       "      <td>2021-09-29 16:30:06.949</td>\n",
       "      <td>48</td>\n",
       "      <td>160</td>\n",
       "      <td>27.0</td>\n",
       "      <td>86.0</td>\n",
       "      <td>10</td>\n",
       "      <td>17900.0</td>\n",
       "    </tr>\n",
       "    <tr>\n",
       "      <th>...</th>\n",
       "      <td>...</td>\n",
       "      <td>...</td>\n",
       "      <td>...</td>\n",
       "      <td>...</td>\n",
       "      <td>...</td>\n",
       "      <td>...</td>\n",
       "      <td>...</td>\n",
       "      <td>...</td>\n",
       "      <td>...</td>\n",
       "    </tr>\n",
       "    <tr>\n",
       "      <th>267279</th>\n",
       "      <td>267315</td>\n",
       "      <td>26685</td>\n",
       "      <td>2022-06-02 13:27:47.872</td>\n",
       "      <td>48</td>\n",
       "      <td>991</td>\n",
       "      <td>27.0</td>\n",
       "      <td>86.0</td>\n",
       "      <td>3</td>\n",
       "      <td>25600.0</td>\n",
       "    </tr>\n",
       "    <tr>\n",
       "      <th>267280</th>\n",
       "      <td>267316</td>\n",
       "      <td>26685</td>\n",
       "      <td>2022-06-02 13:27:47.872</td>\n",
       "      <td>48</td>\n",
       "      <td>984</td>\n",
       "      <td>27.0</td>\n",
       "      <td>86.0</td>\n",
       "      <td>5</td>\n",
       "      <td>17200.0</td>\n",
       "    </tr>\n",
       "    <tr>\n",
       "      <th>294265</th>\n",
       "      <td>294271</td>\n",
       "      <td>29751</td>\n",
       "      <td>2022-06-28 12:48:58.711</td>\n",
       "      <td>48</td>\n",
       "      <td>973</td>\n",
       "      <td>27.0</td>\n",
       "      <td>86.0</td>\n",
       "      <td>1</td>\n",
       "      <td>73000.0</td>\n",
       "    </tr>\n",
       "    <tr>\n",
       "      <th>294266</th>\n",
       "      <td>294272</td>\n",
       "      <td>29751</td>\n",
       "      <td>2022-06-28 12:48:58.711</td>\n",
       "      <td>48</td>\n",
       "      <td>1503</td>\n",
       "      <td>27.0</td>\n",
       "      <td>86.0</td>\n",
       "      <td>5</td>\n",
       "      <td>25700.0</td>\n",
       "    </tr>\n",
       "    <tr>\n",
       "      <th>294267</th>\n",
       "      <td>294273</td>\n",
       "      <td>29751</td>\n",
       "      <td>2022-06-28 12:48:58.711</td>\n",
       "      <td>48</td>\n",
       "      <td>971</td>\n",
       "      <td>27.0</td>\n",
       "      <td>86.0</td>\n",
       "      <td>5</td>\n",
       "      <td>19200.0</td>\n",
       "    </tr>\n",
       "  </tbody>\n",
       "</table>\n",
       "<p>889 rows × 9 columns</p>\n",
       "</div>"
      ],
      "text/plain": [
       "            id  order_id                placed_at  merchant_id  sku_id  \\\n",
       "29583    29597      3236  2021-09-29 16:30:06.949           48     562   \n",
       "29584    29598      3236  2021-09-29 16:30:06.949           48     406   \n",
       "29585    29599      3236  2021-09-29 16:30:06.949           48     180   \n",
       "29586    29600      3236  2021-09-29 16:30:06.949           48     401   \n",
       "29587    29601      3236  2021-09-29 16:30:06.949           48     160   \n",
       "...        ...       ...                      ...          ...     ...   \n",
       "267279  267315     26685  2022-06-02 13:27:47.872           48     991   \n",
       "267280  267316     26685  2022-06-02 13:27:47.872           48     984   \n",
       "294265  294271     29751  2022-06-28 12:48:58.711           48     973   \n",
       "294266  294272     29751  2022-06-28 12:48:58.711           48    1503   \n",
       "294267  294273     29751  2022-06-28 12:48:58.711           48     971   \n",
       "\n",
       "        top_cat  sub_cat  qty    price  \n",
       "29583      27.0     86.0   10  18000.0  \n",
       "29584      27.0     86.0   10  23450.0  \n",
       "29585      27.0     86.0   20  18200.0  \n",
       "29586      27.0     86.0   10  10700.0  \n",
       "29587      27.0     86.0   10  17900.0  \n",
       "...         ...      ...  ...      ...  \n",
       "267279     27.0     86.0    3  25600.0  \n",
       "267280     27.0     86.0    5  17200.0  \n",
       "294265     27.0     86.0    1  73000.0  \n",
       "294266     27.0     86.0    5  25700.0  \n",
       "294267     27.0     86.0    5  19200.0  \n",
       "\n",
       "[889 rows x 9 columns]"
      ]
     },
     "execution_count": 11,
     "metadata": {},
     "output_type": "execute_result"
    }
   ],
   "source": [
    "baskets[baskets['merchant_id'] == 48]"
   ]
  },
  {
   "cell_type": "code",
   "execution_count": 11,
   "metadata": {},
   "outputs": [
    {
     "data": {
      "text/plain": [
       "0         False\n",
       "1         False\n",
       "2         False\n",
       "3         False\n",
       "4         False\n",
       "          ...  \n",
       "492432    False\n",
       "492433    False\n",
       "492434    False\n",
       "492435    False\n",
       "492436    False\n",
       "Name: merchant_id, Length: 492437, dtype: bool"
      ]
     },
     "execution_count": 11,
     "metadata": {},
     "output_type": "execute_result"
    }
   ],
   "source": [
    "baskets['merchant_id'] == 48"
   ]
  },
  {
   "cell_type": "markdown",
   "metadata": {},
   "source": [
    "## Conduct some more data inspection at your own time"
   ]
  },
  {
   "cell_type": "markdown",
   "metadata": {},
   "source": [
    " - how much did it cost in total for this particular merchant?"
   ]
  },
  {
   "cell_type": "code",
   "execution_count": 12,
   "metadata": {},
   "outputs": [
    {
     "data": {
      "text/plain": [
       "(113101.97735813889, 1.0, 4240000.0)"
      ]
     },
     "execution_count": 12,
     "metadata": {},
     "output_type": "execute_result"
    }
   ],
   "source": [
    "baskets['price'].mean(), baskets['price'].min(), baskets['price'].max(), "
   ]
  },
  {
   "cell_type": "markdown",
   "metadata": {},
   "source": [
    " - what is the average price for the first order?"
   ]
  },
  {
   "cell_type": "code",
   "execution_count": 13,
   "metadata": {},
   "outputs": [
    {
     "data": {
      "text/plain": [
       "243250.0"
      ]
     },
     "execution_count": 13,
     "metadata": {},
     "output_type": "execute_result"
    }
   ],
   "source": [
    "o_id = baskets.order_id[0]\n",
    "baskets[baskets['order_id'] == o_id].price.mean()"
   ]
  },
  {
   "cell_type": "markdown",
   "metadata": {},
   "source": [
    " - how much did it cost in total for a particular merchant?"
   ]
  },
  {
   "cell_type": "markdown",
   "metadata": {},
   "source": [
    "baskets[baskets['merchant_id'] == 48].price.sum()"
   ]
  },
  {
   "cell_type": "markdown",
   "metadata": {},
   "source": [
    " - do the above two queries make sense? why and why not? what do the results really mean? \n",
    " - notice the min price is 1, does this make sense?"
   ]
  },
  {
   "cell_type": "markdown",
   "metadata": {},
   "source": [
    " - notice the min price of whole dateset is 1, how many rows have price of 1\n",
    " - question: Why would some items have price of 1? (1 rupiah is USD 0.000064)"
   ]
  },
  {
   "cell_type": "code",
   "execution_count": 14,
   "metadata": {},
   "outputs": [
    {
     "data": {
      "text/plain": [
       "id             2\n",
       "order_id       2\n",
       "placed_at      2\n",
       "merchant_id    2\n",
       "sku_id         2\n",
       "top_cat        2\n",
       "sub_cat        2\n",
       "qty            2\n",
       "price          2\n",
       "dtype: int64"
      ]
     },
     "execution_count": 14,
     "metadata": {},
     "output_type": "execute_result"
    }
   ],
   "source": [
    "baskets[baskets['price']==1].count()"
   ]
  },
  {
   "cell_type": "markdown",
   "metadata": {},
   "source": [
    " - hmm, let us also check the rows with max price"
   ]
  },
  {
   "cell_type": "code",
   "execution_count": 15,
   "metadata": {},
   "outputs": [
    {
     "data": {
      "text/plain": [
       "id             2\n",
       "order_id       2\n",
       "placed_at      2\n",
       "merchant_id    2\n",
       "sku_id         2\n",
       "top_cat        2\n",
       "sub_cat        2\n",
       "qty            2\n",
       "price          2\n",
       "dtype: int64"
      ]
     },
     "execution_count": 15,
     "metadata": {},
     "output_type": "execute_result"
    }
   ],
   "source": [
    "baskets[baskets['price']== 4240000].count()"
   ]
  },
  {
   "cell_type": "markdown",
   "metadata": {},
   "source": [
    " - can the two be on same rows?"
   ]
  },
  {
   "cell_type": "code",
   "execution_count": 16,
   "metadata": {},
   "outputs": [
    {
     "data": {
      "text/html": [
       "<div>\n",
       "<style scoped>\n",
       "    .dataframe tbody tr th:only-of-type {\n",
       "        vertical-align: middle;\n",
       "    }\n",
       "\n",
       "    .dataframe tbody tr th {\n",
       "        vertical-align: top;\n",
       "    }\n",
       "\n",
       "    .dataframe thead th {\n",
       "        text-align: right;\n",
       "    }\n",
       "</style>\n",
       "<table border=\"1\" class=\"dataframe\">\n",
       "  <thead>\n",
       "    <tr style=\"text-align: right;\">\n",
       "      <th></th>\n",
       "      <th>id</th>\n",
       "      <th>order_id</th>\n",
       "      <th>placed_at</th>\n",
       "      <th>merchant_id</th>\n",
       "      <th>sku_id</th>\n",
       "      <th>top_cat</th>\n",
       "      <th>sub_cat</th>\n",
       "      <th>qty</th>\n",
       "      <th>price</th>\n",
       "    </tr>\n",
       "  </thead>\n",
       "  <tbody>\n",
       "    <tr>\n",
       "      <th>29328</th>\n",
       "      <td>29342</td>\n",
       "      <td>3207</td>\n",
       "      <td>2021-09-29 11:49:17.746</td>\n",
       "      <td>23</td>\n",
       "      <td>233</td>\n",
       "      <td>14.0</td>\n",
       "      <td>34.0</td>\n",
       "      <td>1</td>\n",
       "      <td>1.0</td>\n",
       "    </tr>\n",
       "    <tr>\n",
       "      <th>29329</th>\n",
       "      <td>29343</td>\n",
       "      <td>3207</td>\n",
       "      <td>2021-09-29 11:49:17.746</td>\n",
       "      <td>23</td>\n",
       "      <td>186</td>\n",
       "      <td>27.0</td>\n",
       "      <td>86.0</td>\n",
       "      <td>1</td>\n",
       "      <td>1.0</td>\n",
       "    </tr>\n",
       "    <tr>\n",
       "      <th>482817</th>\n",
       "      <td>482819</td>\n",
       "      <td>52262</td>\n",
       "      <td>2022-12-22 14:39:52.383</td>\n",
       "      <td>355</td>\n",
       "      <td>970</td>\n",
       "      <td>27.0</td>\n",
       "      <td>86.0</td>\n",
       "      <td>1</td>\n",
       "      <td>4240000.0</td>\n",
       "    </tr>\n",
       "    <tr>\n",
       "      <th>486896</th>\n",
       "      <td>486931</td>\n",
       "      <td>52741</td>\n",
       "      <td>2022-12-26 13:01:10.968</td>\n",
       "      <td>161</td>\n",
       "      <td>970</td>\n",
       "      <td>27.0</td>\n",
       "      <td>86.0</td>\n",
       "      <td>2</td>\n",
       "      <td>4240000.0</td>\n",
       "    </tr>\n",
       "  </tbody>\n",
       "</table>\n",
       "</div>"
      ],
      "text/plain": [
       "            id  order_id                placed_at  merchant_id  sku_id  \\\n",
       "29328    29342      3207  2021-09-29 11:49:17.746           23     233   \n",
       "29329    29343      3207  2021-09-29 11:49:17.746           23     186   \n",
       "482817  482819     52262  2022-12-22 14:39:52.383          355     970   \n",
       "486896  486931     52741  2022-12-26 13:01:10.968          161     970   \n",
       "\n",
       "        top_cat  sub_cat  qty      price  \n",
       "29328      14.0     34.0    1        1.0  \n",
       "29329      27.0     86.0    1        1.0  \n",
       "482817     27.0     86.0    1  4240000.0  \n",
       "486896     27.0     86.0    2  4240000.0  "
      ]
     },
     "execution_count": 16,
     "metadata": {},
     "output_type": "execute_result"
    }
   ],
   "source": [
    "baskets.query(\"price == 1 or price == 4240000\")"
   ]
  },
  {
   "cell_type": "markdown",
   "metadata": {},
   "source": [
    " - check columns' number of unique values"
   ]
  },
  {
   "cell_type": "code",
   "execution_count": 17,
   "metadata": {},
   "outputs": [
    {
     "data": {
      "text/plain": [
       "id             492437\n",
       "order_id        53438\n",
       "placed_at       53434\n",
       "merchant_id       357\n",
       "sku_id           1860\n",
       "top_cat            35\n",
       "sub_cat           108\n",
       "qty                97\n",
       "price            1607\n",
       "dtype: int64"
      ]
     },
     "execution_count": 17,
     "metadata": {},
     "output_type": "execute_result"
    }
   ],
   "source": [
    "baskets.nunique()"
   ]
  },
  {
   "cell_type": "markdown",
   "metadata": {},
   "source": [
    "- question: what can you observe from the above result? what might seem to be peculiar? "
   ]
  },
  {
   "cell_type": "markdown",
   "metadata": {},
   "source": [
    " - let us check the min and max of \"placed_date\" column"
   ]
  },
  {
   "cell_type": "code",
   "execution_count": 18,
   "metadata": {},
   "outputs": [
    {
     "data": {
      "text/plain": [
       "('2021-06-17 14:00:31.373', '2022-12-31 18:14:45.659')"
      ]
     },
     "execution_count": 18,
     "metadata": {},
     "output_type": "execute_result"
    }
   ],
   "source": [
    "baskets['placed_at'].min(), baskets['placed_at'].max()"
   ]
  },
  {
   "cell_type": "markdown",
   "metadata": {},
   "source": [
    " - how many merchant transacted on a particular day, say December 31, 2022?\n",
    " - what is the type \"object\" anyways?"
   ]
  },
  {
   "cell_type": "code",
   "execution_count": 19,
   "metadata": {},
   "outputs": [
    {
     "data": {
      "text/plain": [
       "('2022-12-31 18:14:45.659', str)"
      ]
     },
     "execution_count": 19,
     "metadata": {},
     "output_type": "execute_result"
    }
   ],
   "source": [
    "baskets['placed_at'][baskets.shape[0]-1], type(baskets['placed_at'][baskets.shape[0]-1])"
   ]
  },
  {
   "cell_type": "code",
   "execution_count": 20,
   "metadata": {},
   "outputs": [
    {
     "data": {
      "text/html": [
       "<div>\n",
       "<style scoped>\n",
       "    .dataframe tbody tr th:only-of-type {\n",
       "        vertical-align: middle;\n",
       "    }\n",
       "\n",
       "    .dataframe tbody tr th {\n",
       "        vertical-align: top;\n",
       "    }\n",
       "\n",
       "    .dataframe thead th {\n",
       "        text-align: right;\n",
       "    }\n",
       "</style>\n",
       "<table border=\"1\" class=\"dataframe\">\n",
       "  <thead>\n",
       "    <tr style=\"text-align: right;\">\n",
       "      <th></th>\n",
       "      <th>id</th>\n",
       "      <th>order_id</th>\n",
       "      <th>placed_at</th>\n",
       "      <th>merchant_id</th>\n",
       "      <th>sku_id</th>\n",
       "      <th>top_cat</th>\n",
       "      <th>sub_cat</th>\n",
       "      <th>qty</th>\n",
       "      <th>price</th>\n",
       "    </tr>\n",
       "  </thead>\n",
       "  <tbody>\n",
       "    <tr>\n",
       "      <th>492430</th>\n",
       "      <td>492431</td>\n",
       "      <td>53438</td>\n",
       "      <td>2022-12-31 18:14:45.659</td>\n",
       "      <td>184</td>\n",
       "      <td>973</td>\n",
       "      <td>27.0</td>\n",
       "      <td>86.0</td>\n",
       "      <td>1</td>\n",
       "      <td>79000.0</td>\n",
       "    </tr>\n",
       "    <tr>\n",
       "      <th>492431</th>\n",
       "      <td>492432</td>\n",
       "      <td>53438</td>\n",
       "      <td>2022-12-31 18:14:45.659</td>\n",
       "      <td>184</td>\n",
       "      <td>971</td>\n",
       "      <td>27.0</td>\n",
       "      <td>86.0</td>\n",
       "      <td>5</td>\n",
       "      <td>21300.0</td>\n",
       "    </tr>\n",
       "    <tr>\n",
       "      <th>492432</th>\n",
       "      <td>492433</td>\n",
       "      <td>53438</td>\n",
       "      <td>2022-12-31 18:14:45.659</td>\n",
       "      <td>184</td>\n",
       "      <td>1500</td>\n",
       "      <td>27.0</td>\n",
       "      <td>86.0</td>\n",
       "      <td>5</td>\n",
       "      <td>21000.0</td>\n",
       "    </tr>\n",
       "    <tr>\n",
       "      <th>492433</th>\n",
       "      <td>492434</td>\n",
       "      <td>53438</td>\n",
       "      <td>2022-12-31 18:14:45.659</td>\n",
       "      <td>184</td>\n",
       "      <td>1655</td>\n",
       "      <td>18.0</td>\n",
       "      <td>61.0</td>\n",
       "      <td>1</td>\n",
       "      <td>38000.0</td>\n",
       "    </tr>\n",
       "    <tr>\n",
       "      <th>492434</th>\n",
       "      <td>492435</td>\n",
       "      <td>53438</td>\n",
       "      <td>2022-12-31 18:14:45.659</td>\n",
       "      <td>184</td>\n",
       "      <td>1504</td>\n",
       "      <td>27.0</td>\n",
       "      <td>86.0</td>\n",
       "      <td>1</td>\n",
       "      <td>274000.0</td>\n",
       "    </tr>\n",
       "    <tr>\n",
       "      <th>492435</th>\n",
       "      <td>492436</td>\n",
       "      <td>53438</td>\n",
       "      <td>2022-12-31 18:14:45.659</td>\n",
       "      <td>184</td>\n",
       "      <td>984</td>\n",
       "      <td>27.0</td>\n",
       "      <td>86.0</td>\n",
       "      <td>5</td>\n",
       "      <td>19400.0</td>\n",
       "    </tr>\n",
       "    <tr>\n",
       "      <th>492436</th>\n",
       "      <td>492437</td>\n",
       "      <td>53438</td>\n",
       "      <td>2022-12-31 18:14:45.659</td>\n",
       "      <td>184</td>\n",
       "      <td>866</td>\n",
       "      <td>27.0</td>\n",
       "      <td>86.0</td>\n",
       "      <td>5</td>\n",
       "      <td>21200.0</td>\n",
       "    </tr>\n",
       "  </tbody>\n",
       "</table>\n",
       "</div>"
      ],
      "text/plain": [
       "            id  order_id                placed_at  merchant_id  sku_id  \\\n",
       "492430  492431     53438  2022-12-31 18:14:45.659          184     973   \n",
       "492431  492432     53438  2022-12-31 18:14:45.659          184     971   \n",
       "492432  492433     53438  2022-12-31 18:14:45.659          184    1500   \n",
       "492433  492434     53438  2022-12-31 18:14:45.659          184    1655   \n",
       "492434  492435     53438  2022-12-31 18:14:45.659          184    1504   \n",
       "492435  492436     53438  2022-12-31 18:14:45.659          184     984   \n",
       "492436  492437     53438  2022-12-31 18:14:45.659          184     866   \n",
       "\n",
       "        top_cat  sub_cat  qty     price  \n",
       "492430     27.0     86.0    1   79000.0  \n",
       "492431     27.0     86.0    5   21300.0  \n",
       "492432     27.0     86.0    5   21000.0  \n",
       "492433     18.0     61.0    1   38000.0  \n",
       "492434     27.0     86.0    1  274000.0  \n",
       "492435     27.0     86.0    5   19400.0  \n",
       "492436     27.0     86.0    5   21200.0  "
      ]
     },
     "execution_count": 20,
     "metadata": {},
     "output_type": "execute_result"
    }
   ],
   "source": [
    "baskets[baskets[\"placed_at\"] == baskets['placed_at'][baskets.shape[0]-1]]"
   ]
  },
  {
   "cell_type": "markdown",
   "metadata": {},
   "source": [
    " - how do we work with a string object and get the date, hour, min, second, millisecond?"
   ]
  },
  {
   "cell_type": "markdown",
   "metadata": {},
   "source": [
    "## gather all observations, questions, and TODOs\n",
    "\n",
    " - columns \"placed_at\" is string type and the rest are numerical columns\n",
    " - why are the count on top_cat_id and sub_cat_id different from others? \n",
    " - ID columns' statistics make sense other than count, min, max, since they are supposed to be identifiers, should we treat them as categorical?\n",
    " - why would some items have price of 1? Is there a data issue here?\n",
    " - unique \"placed_at\" is 4 less than unique order_id, what can this possibly imply?\n",
    " - is it possible that 4 orders are made on exactly the same milisecond as some other orders? In theory it is possible, but might there be potential fraud?\n",
    " - how can we find out which 4 orders happened on the exact same millisecond? \n",
    " - how many merchant transacted on a particular day, say December 31, 2022?\n",
    " - how do we work with a string object and get the date, hour, min, second, millisecond? "
   ]
  }
 ],
 "metadata": {
  "colab": {
   "name": "AwanTunai.ipynb",
   "provenance": []
  },
  "kernelspec": {
   "display_name": "Python 3 (ipykernel)",
   "language": "python",
   "name": "python3"
  },
  "language_info": {
   "codemirror_mode": {
    "name": "ipython",
    "version": 3
   },
   "file_extension": ".py",
   "mimetype": "text/x-python",
   "name": "python",
   "nbconvert_exporter": "python",
   "pygments_lexer": "ipython3",
   "version": "3.9.12 (main, Apr  5 2022, 01:53:17) \n[Clang 12.0.0 ]"
  },
  "vscode": {
   "interpreter": {
    "hash": "e57d65b3db466a255fb366a0fd9ddb903b84d832e81688bf0eb6e7b10d96915d"
   }
  }
 },
 "nbformat": 4,
 "nbformat_minor": 4
}
