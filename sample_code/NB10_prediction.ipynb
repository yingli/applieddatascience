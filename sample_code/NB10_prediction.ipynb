{
 "cells": [
  {
   "cell_type": "markdown",
   "metadata": {
    "id": "xEzmUkvDuLTO"
   },
   "source": [
    "# Predicting Churn"
   ]
  },
  {
   "cell_type": "code",
   "execution_count": 1,
   "metadata": {
    "id": "TJSK2qo5gIWX"
   },
   "outputs": [],
   "source": [
    "import pandas as pd\n",
    "import numpy as np\n",
    "import math\n",
    "import matplotlib.pyplot as plt \n",
    "import seaborn as sns\n",
    "\n",
    "from sklearn import preprocessing\n",
    "from sklearn.linear_model import LogisticRegression\n",
    "from sklearn.model_selection import train_test_split\n",
    "from sklearn.model_selection import cross_val_score\n",
    "from sklearn import tree\n",
    "from sklearn.tree import DecisionTreeClassifier\n",
    "from sklearn import metrics\n",
    "from sklearn.metrics import confusion_matrix\n",
    "from sklearn.metrics import classification_report\n",
    "from sklearn.metrics import roc_curve\n",
    "\n",
    "from datetime import date, datetime, timedelta\n",
    "from sklearn.preprocessing import OrdinalEncoder\n",
    "from sklearn.compose import ColumnTransformer\n",
    "from sklearn.model_selection import train_test_split, GridSearchCV\n",
    "from sklearn.ensemble import RandomForestClassifier\n",
    "from sklearn.metrics import accuracy_score, roc_auc_score, confusion_matrix, roc_curve\n",
    "import joblib\n"
   ]
  },
  {
   "cell_type": "code",
   "execution_count": 2,
   "metadata": {},
   "outputs": [],
   "source": [
    "merchant_churn_data = pd.read_csv(\"merchant_churn_data.csv\")"
   ]
  },
  {
   "cell_type": "code",
   "execution_count": 3,
   "metadata": {},
   "outputs": [],
   "source": [
    "merchant_churn_data.reset_index()\n",
    "merchant_attributes = merchant_churn_data.drop(columns=[\"merchant_id\",\"churn\"])\n",
    "churn_label = merchant_churn_data[\"churn\"]\n",
    "X_train, X_test, y_train, y_test = train_test_split(\n",
    "    merchant_attributes, churn_label, test_size=0.33, random_state=7)"
   ]
  },
  {
   "cell_type": "code",
   "execution_count": 4,
   "metadata": {},
   "outputs": [
    {
     "data": {
      "text/plain": [
       "array([[57, 12],\n",
       "       [26, 14]])"
      ]
     },
     "execution_count": 4,
     "metadata": {},
     "output_type": "execute_result"
    }
   ],
   "source": [
    "from sklearn.neighbors import KNeighborsClassifier\n",
    "knn = KNeighborsClassifier(p=1)\n",
    "knn.fit(X_train, y_train)\n",
    "confusion_matrix(y_test, knn.predict(X_test))"
   ]
  },
  {
   "attachments": {},
   "cell_type": "markdown",
   "metadata": {},
   "source": [
    " - confusion matrix: row for true label, column for predicted label\n",
    " - https://scikit-learn.org/stable/modules/generated/sklearn.metrics.confusion_matrix.html\n",
    " - ravel() - flatten the array, default is row major\n",
    " - https://numpy.org/doc/stable/reference/generated/numpy.ravel.html"
   ]
  },
  {
   "cell_type": "code",
   "execution_count": 19,
   "metadata": {},
   "outputs": [
    {
     "data": {
      "text/plain": [
       "array([57, 12, 26, 14])"
      ]
     },
     "execution_count": 19,
     "metadata": {},
     "output_type": "execute_result"
    }
   ],
   "source": [
    "metrics.confusion_matrix(y_test, knn.predict(X_test)).ravel()"
   ]
  },
  {
   "cell_type": "code",
   "execution_count": 18,
   "metadata": {},
   "outputs": [
    {
     "data": {
      "text/plain": [
       "array([57, 12, 26, 14])"
      ]
     },
     "execution_count": 18,
     "metadata": {},
     "output_type": "execute_result"
    }
   ],
   "source": [
    "metrics.confusion_matrix(y_test, knn.predict(X_test), labels=[0,1]).ravel()"
   ]
  },
  {
   "cell_type": "code",
   "execution_count": 17,
   "metadata": {},
   "outputs": [
    {
     "data": {
      "text/plain": [
       "array([14, 26, 12, 57])"
      ]
     },
     "execution_count": 17,
     "metadata": {},
     "output_type": "execute_result"
    }
   ],
   "source": [
    "metrics.confusion_matrix(y_test, knn.predict(X_test), labels=[1,0]).ravel()"
   ]
  },
  {
   "cell_type": "code",
   "execution_count": 13,
   "metadata": {},
   "outputs": [
    {
     "data": {
      "text/plain": [
       "(0.5229357798165137,\n",
       " 0.11009174311926606,\n",
       " 0.23853211009174313,\n",
       " 0.12844036697247707)"
      ]
     },
     "execution_count": 13,
     "metadata": {},
     "output_type": "execute_result"
    }
   ],
   "source": [
    "tn,fp,fn,tp  = metrics.confusion_matrix(y_test, knn.predict(X_test)).ravel()/(len(y_test))\n",
    "tn,fp,fn,tp "
   ]
  },
  {
   "attachments": {},
   "cell_type": "markdown",
   "metadata": {},
   "source": [
    " - in our data, 0 is negative (for predicting churn), 1 is positive"
   ]
  },
  {
   "cell_type": "code",
   "execution_count": 6,
   "metadata": {},
   "outputs": [
    {
     "data": {
      "text/plain": [
       "(0.8715596330275229,\n",
       " array([0.81818182, 0.72727273, 0.90909091, 0.81818182, 0.90909091,\n",
       "        0.77272727, 0.68181818, 0.68181818, 0.81818182, 0.72727273]))"
      ]
     },
     "execution_count": 6,
     "metadata": {},
     "output_type": "execute_result"
    }
   ],
   "source": [
    "score,cv_score"
   ]
  },
  {
   "cell_type": "code",
   "execution_count": 7,
   "metadata": {},
   "outputs": [
    {
     "name": "stderr",
     "output_type": "stream",
     "text": [
      "/Users/yingli/opt/anaconda3/lib/python3.9/site-packages/sklearn/utils/deprecation.py:87: FutureWarning: Function plot_roc_curve is deprecated; Function :func:`plot_roc_curve` is deprecated in 1.0 and will be removed in 1.2. Use one of the class methods: :meth:`sklearn.metrics.RocCurveDisplay.from_predictions` or :meth:`sklearn.metrics.RocCurveDisplay.from_estimator`.\n",
      "  warnings.warn(msg, category=FutureWarning)\n"
     ]
    },
    {
     "data": {
      "text/plain": [
       "<sklearn.metrics._plot.roc_curve.RocCurveDisplay at 0x7fcf3369ffa0>"
      ]
     },
     "execution_count": 7,
     "metadata": {},
     "output_type": "execute_result"
    },
    {
     "data": {
      "image/png": "[encoded data removed]",
      "text/plain": [
       "<Figure size 432x288 with 1 Axes>"
      ]
     },
     "metadata": {
      "needs_background": "light"
     },
     "output_type": "display_data"
    }
   ],
   "source": [
    "metrics.plot_roc_curve(knn, X_test, y_test)"
   ]
  },
  {
   "cell_type": "code",
   "execution_count": 8,
   "metadata": {},
   "outputs": [
    {
     "data": {
      "text/plain": [
       "(0.6513761467889908,\n",
       " array([0.54545455, 0.77272727, 0.5       , 0.72727273, 0.68181818,\n",
       "        0.59090909, 0.5       , 0.63636364, 0.63636364, 0.72727273]))"
      ]
     },
     "execution_count": 8,
     "metadata": {},
     "output_type": "execute_result"
    }
   ],
   "source": [
    "score = knn.score(X_test, y_test)\n",
    "cv_score = cross_val_score(knn, X_train, y_train, cv=10)\n",
    "score, cv_score"
   ]
  },
  {
   "cell_type": "code",
   "execution_count": 9,
   "metadata": {},
   "outputs": [
    {
     "name": "stdout",
     "output_type": "stream",
     "text": [
      "              precision    recall  f1-score   support\n",
      "\n",
      "           0       0.83      0.69      0.75        83\n",
      "           1       0.35      0.54      0.42        26\n",
      "\n",
      "    accuracy                           0.65       109\n",
      "   macro avg       0.59      0.61      0.59       109\n",
      "weighted avg       0.71      0.65      0.67       109\n",
      "\n"
     ]
    }
   ],
   "source": [
    "print(classification_report(knn.predict(X_test),y_test))"
   ]
  },
  {
   "cell_type": "code",
   "execution_count": 12,
   "metadata": {},
   "outputs": [
    {
     "data": {
      "text/plain": [
       "(0.5229357798165137,\n",
       " 0.11009174311926606,\n",
       " 0.23853211009174313,\n",
       " 0.12844036697247707)"
      ]
     },
     "execution_count": 12,
     "metadata": {},
     "output_type": "execute_result"
    }
   ],
   "source": []
  },
  {
   "cell_type": "code",
   "execution_count": 10,
   "metadata": {},
   "outputs": [
    {
     "name": "stdout",
     "output_type": "stream",
     "text": [
      "[[0.8 0.2]\n",
      " [0.8 0.2]\n",
      " [0.2 0.8]\n",
      " [1.  0. ]\n",
      " [0.4 0.6]\n",
      " [0.2 0.8]\n",
      " [0.8 0.2]\n",
      " [0.6 0.4]\n",
      " [0.8 0.2]\n",
      " [0.4 0.6]\n",
      " [0.8 0.2]\n",
      " [0.8 0.2]\n",
      " [0.6 0.4]\n",
      " [0.6 0.4]\n",
      " [1.  0. ]\n",
      " [0.8 0.2]\n",
      " [0.6 0.4]\n",
      " [0.6 0.4]\n",
      " [0.2 0.8]\n",
      " [0.6 0.4]\n",
      " [0.  1. ]\n",
      " [0.2 0.8]\n",
      " [0.6 0.4]\n",
      " [0.8 0.2]\n",
      " [0.8 0.2]\n",
      " [0.2 0.8]\n",
      " [0.2 0.8]\n",
      " [0.6 0.4]\n",
      " [1.  0. ]\n",
      " [0.8 0.2]\n",
      " [0.6 0.4]\n",
      " [0.8 0.2]\n",
      " [0.6 0.4]\n",
      " [0.2 0.8]\n",
      " [0.2 0.8]\n",
      " [0.6 0.4]\n",
      " [0.6 0.4]\n",
      " [0.4 0.6]\n",
      " [0.6 0.4]\n",
      " [0.8 0.2]\n",
      " [1.  0. ]\n",
      " [0.2 0.8]\n",
      " [0.4 0.6]\n",
      " [0.8 0.2]\n",
      " [0.8 0.2]\n",
      " [1.  0. ]\n",
      " [1.  0. ]\n",
      " [0.6 0.4]\n",
      " [0.6 0.4]\n",
      " [0.8 0.2]\n",
      " [0.4 0.6]\n",
      " [0.8 0.2]\n",
      " [0.8 0.2]\n",
      " [0.8 0.2]\n",
      " [0.8 0.2]\n",
      " [0.8 0.2]\n",
      " [0.6 0.4]\n",
      " [0.6 0.4]\n",
      " [0.8 0.2]\n",
      " [0.6 0.4]\n",
      " [0.4 0.6]\n",
      " [1.  0. ]\n",
      " [0.8 0.2]\n",
      " [0.8 0.2]\n",
      " [0.6 0.4]\n",
      " [0.8 0.2]\n",
      " [0.4 0.6]\n",
      " [1.  0. ]\n",
      " [0.4 0.6]\n",
      " [1.  0. ]\n",
      " [0.8 0.2]\n",
      " [0.2 0.8]\n",
      " [0.8 0.2]\n",
      " [0.6 0.4]\n",
      " [0.8 0.2]\n",
      " [0.8 0.2]\n",
      " [0.2 0.8]\n",
      " [0.6 0.4]\n",
      " [0.6 0.4]\n",
      " [0.8 0.2]\n",
      " [0.8 0.2]\n",
      " [0.8 0.2]\n",
      " [0.2 0.8]\n",
      " [0.6 0.4]\n",
      " [0.6 0.4]\n",
      " [0.8 0.2]\n",
      " [1.  0. ]\n",
      " [0.2 0.8]\n",
      " [0.2 0.8]\n",
      " [0.6 0.4]\n",
      " [1.  0. ]\n",
      " [1.  0. ]\n",
      " [0.8 0.2]\n",
      " [0.8 0.2]\n",
      " [0.6 0.4]\n",
      " [0.2 0.8]\n",
      " [1.  0. ]\n",
      " [0.6 0.4]\n",
      " [0.6 0.4]\n",
      " [0.6 0.4]\n",
      " [0.8 0.2]\n",
      " [0.6 0.4]\n",
      " [1.  0. ]\n",
      " [0.4 0.6]\n",
      " [0.8 0.2]\n",
      " [0.8 0.2]\n",
      " [0.4 0.6]\n",
      " [0.8 0.2]\n",
      " [0.6 0.4]]\n"
     ]
    }
   ],
   "source": [
    "print(knn.predict_proba(X_test))"
   ]
  },
  {
   "cell_type": "code",
   "execution_count": 11,
   "metadata": {},
   "outputs": [
    {
     "data": {
      "text/plain": [
       "(array([0, 0, 1, 0, 1, 1, 0, 0, 0, 1, 0, 0, 0, 0, 0, 0, 0, 0, 1, 0, 1, 1,\n",
       "        0, 0, 0, 1, 1, 0, 0, 0, 0, 0, 0, 1, 1, 0, 0, 1, 0, 0, 0, 1, 1, 0,\n",
       "        0, 0, 0, 0, 0, 0, 1, 0, 0, 0, 0, 0, 0, 0, 0, 0, 1, 0, 0, 0, 0, 0,\n",
       "        1, 0, 1, 0, 0, 1, 0, 0, 0, 0, 1, 0, 0, 0, 0, 0, 1, 0, 0, 0, 0, 1,\n",
       "        1, 0, 0, 0, 0, 0, 0, 1, 0, 0, 0, 0, 0, 0, 0, 1, 0, 0, 1, 0, 0]),\n",
       " 97     1\n",
       " 217    0\n",
       " 287    1\n",
       " 296    0\n",
       " 208    1\n",
       "       ..\n",
       " 237    0\n",
       " 141    0\n",
       " 193    1\n",
       " 269    0\n",
       " 24     1\n",
       " Name: churn, Length: 109, dtype: int64)"
      ]
     },
     "execution_count": 11,
     "metadata": {},
     "output_type": "execute_result"
    }
   ],
   "source": [
    "knn.predict(X_test),y_test"
   ]
  },
  {
   "cell_type": "code",
   "execution_count": 20,
   "metadata": {},
   "outputs": [
    {
     "name": "stdout",
     "output_type": "stream",
     "text": [
      "[0 0 1 0 1 1 0 0 0 0 0 0 0 0 1 0 0 1 0 0 1 0 1 0 0 0 1 1 0 0 0 0 1 0 1 0 0\n",
      " 0 0 0 0 1 0 0 0 0 0 1 1 0 1 1 1 0 1 0 1 1 1 0 0 0 0 0 0 0 0 0 0 0 0 1 0 0\n",
      " 0 0 1 1 0 0 0 0 0 1 0 0 0 0 1 1 0 0 0 0 0 0 1 1 1 0 0 0 0 1 0 0 1 0 0]\n"
     ]
    }
   ],
   "source": [
    "rf = RandomForestClassifier(max_depth=2, random_state=0)\n",
    "rf.fit(X_train, y_train)\n",
    "print(rf.predict(X_test))"
   ]
  },
  {
   "cell_type": "code",
   "execution_count": 21,
   "metadata": {},
   "outputs": [
    {
     "name": "stdout",
     "output_type": "stream",
     "text": [
      "              precision    recall  f1-score   support\n",
      "\n",
      "           0       0.91      0.82      0.86        77\n",
      "           1       0.65      0.81      0.72        32\n",
      "\n",
      "    accuracy                           0.82       109\n",
      "   macro avg       0.78      0.82      0.79       109\n",
      "weighted avg       0.84      0.82      0.82       109\n",
      "\n"
     ]
    }
   ],
   "source": [
    "print(classification_report(rf.predict(X_test),y_test))"
   ]
  },
  {
   "cell_type": "code",
   "execution_count": 24,
   "metadata": {},
   "outputs": [
    {
     "name": "stdout",
     "output_type": "stream",
     "text": [
      "              precision    recall  f1-score   support\n",
      "\n",
      "           0       0.83      0.69      0.75        83\n",
      "           1       0.35      0.54      0.42        26\n",
      "\n",
      "    accuracy                           0.65       109\n",
      "   macro avg       0.59      0.61      0.59       109\n",
      "weighted avg       0.71      0.65      0.67       109\n",
      "\n"
     ]
    }
   ],
   "source": [
    "print(classification_report(knn.predict(X_test),y_test))"
   ]
  },
  {
   "cell_type": "code",
   "execution_count": 22,
   "metadata": {},
   "outputs": [
    {
     "data": {
      "text/plain": [
       "(0.5779816513761468,\n",
       " 0.05504587155963303,\n",
       " 0.12844036697247707,\n",
       " 0.23853211009174313)"
      ]
     },
     "execution_count": 22,
     "metadata": {},
     "output_type": "execute_result"
    }
   ],
   "source": [
    "tn,fp,fn,tp  = metrics.confusion_matrix(y_test, rf.predict(X_test)).ravel()/(len(y_test))\n",
    "tn,fp,fn,tp "
   ]
  },
  {
   "cell_type": "code",
   "execution_count": 23,
   "metadata": {},
   "outputs": [
    {
     "data": {
      "text/plain": [
       "(0.5229357798165137,\n",
       " 0.11009174311926606,\n",
       " 0.23853211009174313,\n",
       " 0.12844036697247707)"
      ]
     },
     "execution_count": 23,
     "metadata": {},
     "output_type": "execute_result"
    }
   ],
   "source": [
    "tn,fp,fn,tp  = metrics.confusion_matrix(y_test, knn.predict(X_test)).ravel()/(len(y_test))\n",
    "tn,fp,fn,tp "
   ]
  },
  {
   "cell_type": "code",
   "execution_count": null,
   "metadata": {},
   "outputs": [],
   "source": []
  }
 ],
 "metadata": {
  "colab": {
   "provenance": []
  },
  "environment": {
   "kernel": "python3",
   "name": "common-cu110.m89",
   "type": "gcloud",
   "uri": "gcr.io/deeplearning-platform-release/base-cu110:m89"
  },
  "kernelspec": {
   "display_name": "Python 3",
   "language": "python",
   "name": "python3"
  },
  "language_info": {
   "codemirror_mode": {
    "name": "ipython",
    "version": 3
   },
   "file_extension": ".py",
   "mimetype": "text/x-python",
   "name": "python",
   "nbconvert_exporter": "python",
   "pygments_lexer": "ipython3",
   "version": "3.9.12"
  },
  "vscode": {
   "interpreter": {
    "hash": "e57d65b3db466a255fb366a0fd9ddb903b84d832e81688bf0eb6e7b10d96915d"
   }
  }
 },
 "nbformat": 4,
 "nbformat_minor": 4
}
