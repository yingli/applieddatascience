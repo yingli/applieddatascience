{
 "cells": [
  {
   "attachments": {},
   "cell_type": "markdown",
   "id": "fe71f8be",
   "metadata": {},
   "source": [
    "### In class practice\n",
    " - run regression of total spent by day over average price by day\n",
    " - use the same code as in the regression of total spent by week over average price by week\n",
    "### setting up data and utility functions"
   ]
  },
  {
   "cell_type": "code",
   "execution_count": 13,
   "id": "ded8a307-69f0-438f-b0b5-7d527433607e",
   "metadata": {},
   "outputs": [],
   "source": [
    "import pandas as pd\n",
    "import numpy as np\n",
    "from datetime import datetime, timedelta\n",
    "import seaborn as sns\n",
    "import matplotlib.pyplot as plt\n",
    "import statsmodels.api as sm\n",
    "import statsmodels.formula.api as smf"
   ]
  },
  {
   "cell_type": "code",
   "execution_count": 14,
   "id": "c7d3144d",
   "metadata": {},
   "outputs": [],
   "source": [
    "def add_date_cols(baskets):\n",
    "    baskets['datetime'] = pd.to_datetime(baskets['placed_at'])\n",
    "    baskets['year'] = baskets[\"datetime\"].dt.year\n",
    "    baskets['month'] = baskets[\"datetime\"].dt.month\n",
    "    baskets['date'] = baskets[\"datetime\"].dt.date\n",
    "    baskets['day'] = baskets[\"datetime\"].dt.day\n",
    "    baskets['hour'] = baskets[\"datetime\"].dt.hour\n",
    "    baskets['weekday'] = baskets[\"datetime\"].dt.weekday\n",
    "    baskets['year_month'] = baskets[\"datetime\"].apply(lambda t: t.strftime(\"%Y-%m\"))\n",
    "    baskets['month_num'] = (baskets['year'] - 2021) * 12 + baskets['month']\n",
    "    baskets['year_week'] = baskets[\"datetime\"].apply(lambda t: t.strftime(\"%Y-%W\")) # this makes the beginning of Jan 2022 as week 2022-00 , not 2022-52\n",
    "    baskets['week_num'] = baskets[\"datetime\"].apply(lambda t: int(t.strftime(\"%W\"))) \n",
    "    baskets['iso_week_num'] = baskets[\"datetime\"].dt.isocalendar().week # this returns week number 52 for Jan 1, 2021, not 0 which is what we want\n",
    "    baskets['cum_week_num'] = (baskets['year'] - 2021) * 52 + baskets['week_num']\n",
    "    return baskets\n",
    "def get_merchant_attributes(baskets):\n",
    "    merchant_attributes = baskets.groupby(['merchant_id']).agg(\n",
    "        total_spent = ('spent', 'sum'), \n",
    "        num_orders = ('order_id', 'nunique'), \n",
    "        first_month = ('month_num', 'min'), \n",
    "        last_month = ('month_num', 'max'), \n",
    "        num_months = ('month_num', 'nunique'), \n",
    "        num_weeks = ('week_num', 'nunique'), \n",
    "        num_days = ('date', 'nunique'), \n",
    "        num_skus = ('sku_id','nunique'), \n",
    "        num_top_cats = ('top_cat','nunique'), \n",
    "        num_sub_cats = ('sub_cat','nunique'),\n",
    "    ).reset_index()\n",
    "    merchant_attributes['avg_spent_per_order'] = merchant_attributes.total_spent / merchant_attributes.num_orders\n",
    "    merchant_attributes['tenure_month'] = merchant_attributes.last_month - merchant_attributes.first_month +1\n",
    "    return merchant_attributes"
   ]
  },
  {
   "attachments": {},
   "cell_type": "markdown",
   "id": "ac4d2ada",
   "metadata": {},
   "source": [
    "### preparing the analysis table\n",
    " - unit of study is SKU, so we may want to start with a table for SKU attributes, each row for one SKU\n"
   ]
  },
  {
   "cell_type": "code",
   "execution_count": 15,
   "id": "dae5287a",
   "metadata": {},
   "outputs": [],
   "source": [
    "def get_sku_attributes(baskets):\n",
    "    sku_attributes = baskets.groupby(['sku_id']).agg(\n",
    "        total_spent = ('spent', 'sum'), \n",
    "        num_orders = ('order_id', 'nunique'), \n",
    "        num_merchants = ('merchant_id', 'nunique'), \n",
    "        first_month = ('month_num', 'min'), \n",
    "        last_month = ('month_num', 'max'), \n",
    "        num_months = ('month_num', 'nunique'), \n",
    "        first_week = ('week_num', 'min'), \n",
    "        last_week = ('week_num', 'max'), \n",
    "        num_weeks = ('week_num', 'nunique'), \n",
    "        num_days = ('date', 'nunique'), \n",
    "    ).reset_index()\n",
    "    sku_attributes['avg_spent_per_order'] = sku_attributes.total_spent / sku_attributes.num_orders\n",
    "    sku_attributes['tenure_month'] = sku_attributes.last_month - sku_attributes.first_month +1\n",
    "    return sku_attributes"
   ]
  },
  {
   "attachments": {},
   "cell_type": "markdown",
   "id": "2af9f382",
   "metadata": {},
   "source": [
    " - the values of study are price and spent, but we don't want just one average price and one total spent for the SKU over all times\n",
    " - we want to study the changes in spent over price, we want to keep some dimension for variances in the analysis table\n",
    " - we can start with price and spent on each week over all merchants: then we want to compute the average price for the week and total spent by the week, for all merchants"
   ]
  },
  {
   "cell_type": "code",
   "execution_count": 16,
   "id": "937cb2b3",
   "metadata": {},
   "outputs": [],
   "source": [
    "def get_skus_by_week(baskets):\n",
    "    skus_by_week = baskets.groupby(['sku_id','year_week']).agg(\n",
    "        avg_price_by_week = ('price','mean'),\n",
    "        num_order_by_week = ('order_id', 'nunique'), \n",
    "        num_merchants_by_week = ('merchant_id', 'nunique'),\n",
    "        total_spent_by_week = ('spent', 'sum'),\n",
    "    ).reset_index()\n",
    "    return skus_by_week"
   ]
  },
  {
   "cell_type": "code",
   "execution_count": 17,
   "id": "e63de32b-276e-4116-8409-94869fa80153",
   "metadata": {},
   "outputs": [],
   "source": [
    "filename = './AwanTunai_transaction_data.csv'\n",
    "baskets = pd.read_csv(filename)\n",
    "baskets[\"spent\"] = baskets[\"qty\"] * baskets[\"price\"] # column wide multiplication\n",
    "baskets = add_date_cols(baskets)\n",
    "merchant_attributes = get_merchant_attributes(baskets)"
   ]
  },
  {
   "cell_type": "code",
   "execution_count": 18,
   "id": "5d0ed762",
   "metadata": {},
   "outputs": [
    {
     "ename": "NameError",
     "evalue": "name 'get_skus_by_day' is not defined",
     "output_type": "error",
     "traceback": [
      "\u001b[0;31m---------------------------------------------------------------------------\u001b[0m",
      "\u001b[0;31mNameError\u001b[0m                                 Traceback (most recent call last)",
      "\u001b[1;32m/Users/yingli/Development/AppliedDataScience/applieddatascience/sample_code/NB06_In_Class.ipynb Cell 9\u001b[0m in \u001b[0;36m<cell line: 1>\u001b[0;34m()\u001b[0m\n\u001b[0;32m----> <a href='vscode-notebook-cell:/Users/yingli/Development/AppliedDataScience/applieddatascience/sample_code/NB06_In_Class.ipynb#X12sZmlsZQ%3D%3D?line=0'>1</a>\u001b[0m sku_day \u001b[39m=\u001b[39m get_skus_by_day(baskets)\n",
      "\u001b[0;31mNameError\u001b[0m: name 'get_skus_by_day' is not defined"
     ]
    }
   ],
   "source": [
    "sku_day = get_skus_by_day(baskets)"
   ]
  },
  {
   "cell_type": "code",
   "execution_count": null,
   "id": "60ce9980",
   "metadata": {},
   "outputs": [],
   "source": [
    "sku_day.describe()"
   ]
  },
  {
   "cell_type": "code",
   "execution_count": null,
   "id": "20ec643c",
   "metadata": {},
   "outputs": [],
   "source": [
    "sku_attributes = get_sku_attributes(baskets)\n",
    "top_skus = sku_attributes.sort_values(by=\"num_orders\",ascending=False)[[\"sku_id\"]]\n",
    "top_skus.head(20)"
   ]
  },
  {
   "cell_type": "code",
   "execution_count": null,
   "id": "837de0b4",
   "metadata": {},
   "outputs": [],
   "source": [
    "sku_attributes = get_sku_attributes(baskets)\n",
    "top_skus = sku_attributes.sort_values(by=\"num_orders\",ascending=False)[[\"sku_id\"]]\n",
    "\n",
    "for sku_id in top_skus[:20].sku_id:\n",
    "    plt.figure(sku_id)\n",
    "    sns.regplot(data = sku_day[sku_day[\"sku_id\"] ==sku_id], x=\"avg_price_by_week\",y=\"total_spent_by_week\").set(title = \"SKU \" + str(sku_id))"
   ]
  },
  {
   "cell_type": "code",
   "execution_count": null,
   "id": "ab7a37b8",
   "metadata": {},
   "outputs": [],
   "source": [
    "sku_attributes = get_sku_attributes(baskets)\n",
    "top_skus = sku_attributes.sort_values(by=\"num_orders\",ascending=False)[[\"sku_id\"]]\n",
    "\n",
    "for sku_id in top_skus[:20].sku_id:\n",
    "    #plt.figure(sku_id)\n",
    "    f, axes = plt.subplots(1, 2, figsize = (20,5))\n",
    "    sns.regplot(data = sku_week[sku_week[\"sku_id\"] ==sku_id], x=\"avg_price_by_week\",y=\"total_spent_by_week\", ax=axes[0])\n",
    "    sns.residplot(data = sku_week[sku_week[\"sku_id\"] ==sku_id], x=\"avg_price_by_week\",y=\"total_spent_by_week\",ax=axes[1])\n",
    "    axes[0].set(title = \"fit for SKU \" + str(sku_id))\n",
    "    axes[1].set(title = \"resid for SKU \" + str(sku_id))\n"
   ]
  }
 ],
 "metadata": {
  "kernelspec": {
   "display_name": "base",
   "language": "python",
   "name": "python3"
  },
  "language_info": {
   "codemirror_mode": {
    "name": "ipython",
    "version": 3
   },
   "file_extension": ".py",
   "mimetype": "text/x-python",
   "name": "python",
   "nbconvert_exporter": "python",
   "pygments_lexer": "ipython3",
   "version": "3.9.12"
  },
  "vscode": {
   "interpreter": {
    "hash": "e57d65b3db466a255fb366a0fd9ddb903b84d832e81688bf0eb6e7b10d96915d"
   }
  }
 },
 "nbformat": 4,
 "nbformat_minor": 5
}
